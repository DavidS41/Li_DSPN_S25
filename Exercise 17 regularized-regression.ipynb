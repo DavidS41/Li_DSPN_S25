{
  "cells": [
    {
      "cell_type": "markdown",
      "metadata": {
        "id": "X0-Q9NYTBujb"
      },
      "source": [
        "# Exercise 17: Regularized regression\n",
        "\n",
        "This homework assignment is designed to give you an intuition as an interesting property of regularization in the context of ultra-high dimensional statistical problems.\n",
        "\n",
        "You won't need to load in any data for this homework."
      ]
    },
    {
      "cell_type": "markdown",
      "metadata": {
        "id": "bODln6rvBujd"
      },
      "source": [
        "---\n",
        "## 1. Simulating & visualizing data (2 points)"
      ]
    },
    {
      "cell_type": "markdown",
      "metadata": {
        "id": "sezRLzgHBuje"
      },
      "source": [
        "We are going to be looking at what happens in the context where $p>n$. In order to have total control over our data, we will use simulations for this homework. First, we will need to load the `glmnet`, `tidyverse`, and `ggplot2` libraries for this assignment.\n"
      ]
    },
    {
      "cell_type": "code",
      "execution_count": 2,
      "metadata": {
        "id": "LVJwea2rBujf",
        "vscode": {
          "languageId": "r"
        },
        "colab": {
          "base_uri": "https://localhost:8080/"
        },
        "outputId": "7791124d-d267-4e98-8cf0-bb35b660b45c"
      },
      "outputs": [
        {
          "output_type": "stream",
          "name": "stderr",
          "text": [
            "Installing package into ‘/usr/local/lib/R/site-library’\n",
            "(as ‘lib’ is unspecified)\n",
            "\n",
            "also installing the dependencies ‘iterators’, ‘foreach’, ‘shape’, ‘RcppEigen’\n",
            "\n",
            "\n",
            "Loading required package: Matrix\n",
            "\n",
            "\n",
            "Attaching package: ‘Matrix’\n",
            "\n",
            "\n",
            "The following objects are masked from ‘package:tidyr’:\n",
            "\n",
            "    expand, pack, unpack\n",
            "\n",
            "\n",
            "Loaded glmnet 4.1-8\n",
            "\n"
          ]
        }
      ],
      "source": [
        "# WRITE YOUR CODE HERE\n",
        "#install.packages(\"glmnet\")\n",
        "library(glmnet)\n",
        "library(tidyverse)\n",
        "library(ggplot2)\n"
      ]
    },
    {
      "cell_type": "markdown",
      "metadata": {
        "id": "mXwMchX7Bujf"
      },
      "source": [
        "We are going to generate a data set with complex structure and try to recover it using polynomial models. For simplicity sake, use the following code to produce a response variable, $y$ that has complex structure."
      ]
    },
    {
      "cell_type": "markdown",
      "metadata": {
        "id": "GpLho0wUde1L"
      },
      "source": [
        "*Hint: Look up what a cosine function looks like if you need a reminder.*"
      ]
    },
    {
      "cell_type": "code",
      "execution_count": 8,
      "metadata": {
        "id": "BeK03Sx7Bujg",
        "vscode": {
          "languageId": "r"
        }
      },
      "outputs": [],
      "source": [
        "# Generate data\n",
        "set.seed(121)\n",
        "sigma_noise = .5\n",
        "x=seq(-9,9,by=.18)\n",
        "n=length(x)\n",
        "y = 0.1*x + cos(x) + cos(x/20)+rnorm(n,sd=sigma_noise)"
      ]
    },
    {
      "cell_type": "markdown",
      "metadata": {
        "id": "UfmUWGIlBujg"
      },
      "source": [
        "(a) Break the data into a training set (n=50) and test set (n=51) using the `sample` function to randomly select subsets of x and y.  Make a separate data frame for the training and test data.\n",
        "\n",
        "(**Note**: *Do not* just take the first 50 observations to be the training set and last 51 observations to be the test set.)"
      ]
    },
    {
      "cell_type": "code",
      "execution_count": 9,
      "metadata": {
        "id": "rIg6XGaHBujg",
        "vscode": {
          "languageId": "r"
        },
        "colab": {
          "base_uri": "https://localhost:8080/",
          "height": 52
        },
        "outputId": "b786961d-cab7-45f0-8cfb-69b500d0ad0e"
      },
      "outputs": [
        {
          "output_type": "display_data",
          "data": {
            "text/html": [
              "<style>\n",
              ".list-inline {list-style: none; margin:0; padding: 0}\n",
              ".list-inline>li {display: inline-block}\n",
              ".list-inline>li:not(:last-child)::after {content: \"\\00b7\"; padding: 0 .5ex}\n",
              "</style>\n",
              "<ol class=list-inline><li>51</li><li>2</li></ol>\n"
            ],
            "text/markdown": "1. 51\n2. 2\n\n\n",
            "text/latex": "\\begin{enumerate*}\n\\item 51\n\\item 2\n\\end{enumerate*}\n",
            "text/plain": [
              "[1] 51  2"
            ]
          },
          "metadata": {}
        },
        {
          "output_type": "display_data",
          "data": {
            "text/html": [
              "<style>\n",
              ".list-inline {list-style: none; margin:0; padding: 0}\n",
              ".list-inline>li {display: inline-block}\n",
              ".list-inline>li:not(:last-child)::after {content: \"\\00b7\"; padding: 0 .5ex}\n",
              "</style>\n",
              "<ol class=list-inline><li>50</li><li>2</li></ol>\n"
            ],
            "text/markdown": "1. 50\n2. 2\n\n\n",
            "text/latex": "\\begin{enumerate*}\n\\item 50\n\\item 2\n\\end{enumerate*}\n",
            "text/plain": [
              "[1] 50  2"
            ]
          },
          "metadata": {}
        }
      ],
      "source": [
        "# WRITE YOUR CODE HERE\n",
        "d1<-data.frame(y=y, x=x)\n",
        "\n",
        "test<-sample(1:n, 51)\n",
        "\n",
        "d1_test<-d1[test,]\n",
        "dim(d1_test)\n",
        "d1_train<-d1[-test,]\n",
        "dim(d1_train)"
      ]
    },
    {
      "cell_type": "markdown",
      "metadata": {
        "id": "KZ4B7a1lBujg"
      },
      "source": [
        "(b) Plot the training data ($x$ \\& $y$). Describe the relationship that you see in the training data."
      ]
    },
    {
      "cell_type": "code",
      "execution_count": 10,
      "metadata": {
        "id": "hRyRddZJBujh",
        "vscode": {
          "languageId": "r"
        },
        "colab": {
          "base_uri": "https://localhost:8080/",
          "height": 437
        },
        "outputId": "6fd9f16a-195b-437e-ec31-0cdeade4079e"
      },
      "outputs": [
        {
          "output_type": "display_data",
          "data": {
            "text/plain": [
              "plot without title"
            ],
            "image/png": "[encoded data removed]"
          },
          "metadata": {
            "image/png": {
              "width": 420,
              "height": 420
            }
          }
        }
      ],
      "source": [
        "# WRITE YOUR CODE HERE\n",
        "plot(d1_train$x,d1_train$y)\n"
      ]
    },
    {
      "cell_type": "markdown",
      "metadata": {
        "id": "LaVD7SEeBuji"
      },
      "source": [
        "How would you describe the relationship between $x$ and $y$ based on this plot?\n",
        "\n",
        "> *Write your response here*\n",
        "> I see a cyclical relation between $x$ and $y$ (coming from the cos function in the data simulation process) but it has a generally increasing trend."
      ]
    },
    {
      "cell_type": "markdown",
      "metadata": {
        "id": "zqLPa45zBuji"
      },
      "source": [
        "---\n",
        "## 2. Bias-variance tradeoff: polynomial regression (4 points)"
      ]
    },
    {
      "cell_type": "markdown",
      "metadata": {
        "id": "HyP55tOade1P"
      },
      "source": [
        "Recall that in polynomial regression we increase model complexity by expanding $x$ out to the power $k$ (which we call degree)."
      ]
    },
    {
      "cell_type": "markdown",
      "metadata": {
        "id": "Dxra2iFvde1Q"
      },
      "source": [
        "\n",
        "$$Y = \\hat{\\beta}_0 + \\sum_{j=1}^K \\hat{\\beta}_jX^j $$  \n",
        "\n",
        "$$ = poly(x,k)$$"
      ]
    },
    {
      "cell_type": "markdown",
      "metadata": {
        "id": "4SvSDGa9Buji"
      },
      "source": [
        "(a) Fit a 2nd degree polynomial regression model to the training data. Plot the results.\n"
      ]
    },
    {
      "cell_type": "markdown",
      "metadata": {
        "id": "vysWxHwVde1R"
      },
      "source": [
        "*Hint: Use the* `help` *function to see how to use the* `stat_smooth()` *and* `poly()` *functions.*"
      ]
    },
    {
      "cell_type": "code",
      "execution_count": 12,
      "metadata": {
        "id": "R_mZIsWwBuji",
        "vscode": {
          "languageId": "r"
        },
        "colab": {
          "base_uri": "https://localhost:8080/",
          "height": 1000
        },
        "outputId": "d6eb8258-782e-4960-fa55-dbe725dbdfb9"
      },
      "outputs": [
        {
          "output_type": "display_data",
          "data": {
            "text/html": [
              "<table class=\"dataframe\">\n",
              "<caption>A matrix: 6 × 3 of type dbl</caption>\n",
              "<thead>\n",
              "\t<tr><th scope=col>y</th><th scope=col>1</th><th scope=col>2</th></tr>\n",
              "</thead>\n",
              "<tbody>\n",
              "\t<tr><td>-0.5442746</td><td>-8.46</td><td>71.5716</td></tr>\n",
              "\t<tr><td> 0.6732243</td><td>-8.10</td><td>65.6100</td></tr>\n",
              "\t<tr><td> 1.5256458</td><td>-7.20</td><td>51.8400</td></tr>\n",
              "\t<tr><td> 0.5469083</td><td>-7.02</td><td>49.2804</td></tr>\n",
              "\t<tr><td> 0.9066007</td><td>-6.84</td><td>46.7856</td></tr>\n",
              "\t<tr><td> 0.9259283</td><td>-6.66</td><td>44.3556</td></tr>\n",
              "</tbody>\n",
              "</table>\n"
            ],
            "text/markdown": "\nA matrix: 6 × 3 of type dbl\n\n| y | 1 | 2 |\n|---|---|---|\n| -0.5442746 | -8.46 | 71.5716 |\n|  0.6732243 | -8.10 | 65.6100 |\n|  1.5256458 | -7.20 | 51.8400 |\n|  0.5469083 | -7.02 | 49.2804 |\n|  0.9066007 | -6.84 | 46.7856 |\n|  0.9259283 | -6.66 | 44.3556 |\n\n",
            "text/latex": "A matrix: 6 × 3 of type dbl\n\\begin{tabular}{lll}\n y & 1 & 2\\\\\n\\hline\n\t -0.5442746 & -8.46 & 71.5716\\\\\n\t  0.6732243 & -8.10 & 65.6100\\\\\n\t  1.5256458 & -7.20 & 51.8400\\\\\n\t  0.5469083 & -7.02 & 49.2804\\\\\n\t  0.9066007 & -6.84 & 46.7856\\\\\n\t  0.9259283 & -6.66 & 44.3556\\\\\n\\end{tabular}\n",
            "text/plain": [
              "     y          1     2      \n",
              "[1,] -0.5442746 -8.46 71.5716\n",
              "[2,]  0.6732243 -8.10 65.6100\n",
              "[3,]  1.5256458 -7.20 51.8400\n",
              "[4,]  0.5469083 -7.02 49.2804\n",
              "[5,]  0.9066007 -6.84 46.7856\n",
              "[6,]  0.9259283 -6.66 44.3556"
            ]
          },
          "metadata": {}
        },
        {
          "output_type": "display_data",
          "data": {
            "text/plain": [
              "\n",
              "Call:\n",
              "lm(formula = y ~ ., data = as.data.frame(poly2_d1))\n",
              "\n",
              "Residuals:\n",
              "     Min       1Q   Median       3Q      Max \n",
              "-1.79624 -0.62956  0.01281  0.78174  1.47047 \n",
              "\n",
              "Coefficients:\n",
              "            Estimate Std. Error t value Pr(>|t|)    \n",
              "(Intercept) 0.738572   0.193066   3.825 0.000384 ***\n",
              "`1`         0.098563   0.025281   3.899 0.000306 ***\n",
              "`2`         0.011917   0.005927   2.011 0.050123 .  \n",
              "---\n",
              "Signif. codes:  0 ‘***’ 0.001 ‘**’ 0.01 ‘*’ 0.05 ‘.’ 0.1 ‘ ’ 1\n",
              "\n",
              "Residual standard error: 0.8869 on 47 degrees of freedom\n",
              "Multiple R-squared:  0.3006,\tAdjusted R-squared:  0.2708 \n",
              "F-statistic:  10.1 on 2 and 47 DF,  p-value: 0.0002246\n"
            ]
          },
          "metadata": {}
        },
        {
          "output_type": "display_data",
          "data": {
            "text/plain": [
              "plot without title"
            ],
            "image/png": "[encoded data removed]"
          },
          "metadata": {
            "image/png": {
              "width": 420,
              "height": 420
            }
          }
        }
      ],
      "source": [
        "# WRITE YOUR CODE HERE\n",
        "#help(stat_smooth)\n",
        "#help(poly)\n",
        "new_x<-poly(d1_train$x,2, raw = TRUE)\n",
        "poly2_d1<-cbind(d1_train$y,new_x)\n",
        "colnames(poly2_d1)[1]<-\"y\"\n",
        "head(poly2_d1)\n",
        "\n",
        "reg.poly<-lm(y ~ ., data = as.data.frame(poly2_d1))\n",
        "summary(reg.poly)\n",
        "\n",
        "ggplot(d1_train, aes(x, y)) +\n",
        "  geom_point() +\n",
        "  stat_smooth(method = \"lm\", formula = y ~ poly(x,2, raw = TRUE))"
      ]
    },
    {
      "cell_type": "markdown",
      "metadata": {
        "id": "oYxz29TyBujj"
      },
      "source": [
        "How well does this 2nd degree polynomial model qualitatively fit the data? Could it do better?\n",
        "\n",
        "> *Write your response here*\n",
        "> It has a very low R^2. It looks like it fits the data pretty poorly. It captures the upward trend in the data, but entirely ignores the cyclical trend in the data. It could do better if it could capture this cyclical trend."
      ]
    },
    {
      "cell_type": "markdown",
      "metadata": {
        "id": "6A83iJUkBujj"
      },
      "source": [
        "(b) Fit a 12th degree polynomial to the data. Does this do qualitatively better or worse than the 2nd degree model?"
      ]
    },
    {
      "cell_type": "code",
      "execution_count": 14,
      "metadata": {
        "id": "VZAQ0PB5Bujj",
        "vscode": {
          "languageId": "r"
        },
        "colab": {
          "base_uri": "https://localhost:8080/",
          "height": 1000
        },
        "outputId": "2d62d5bd-f6ab-441a-82a4-220f3e2bd619"
      },
      "outputs": [
        {
          "output_type": "display_data",
          "data": {
            "text/html": [
              "<table class=\"dataframe\">\n",
              "<caption>A matrix: 6 × 13 of type dbl</caption>\n",
              "<thead>\n",
              "\t<tr><th scope=col>y</th><th scope=col>1</th><th scope=col>2</th><th scope=col>3</th><th scope=col>4</th><th scope=col>5</th><th scope=col>6</th><th scope=col>7</th><th scope=col>8</th><th scope=col>9</th><th scope=col>10</th><th scope=col>11</th><th scope=col>12</th></tr>\n",
              "</thead>\n",
              "<tbody>\n",
              "\t<tr><td>-0.5442746</td><td>-8.46</td><td>71.5716</td><td>-605.4957</td><td>5122.494</td><td>-43336.30</td><td>366625.09</td><td>-3101648.2</td><td>26239944</td><td>-221989926</td><td>1878034778</td><td>-15888174222</td><td>134413953915</td></tr>\n",
              "\t<tr><td> 0.6732243</td><td>-8.10</td><td>65.6100</td><td>-531.4410</td><td>4304.672</td><td>-34867.84</td><td>282429.54</td><td>-2287679.2</td><td>18530202</td><td>-150094635</td><td>1215766546</td><td> -9847709022</td><td> 79766443077</td></tr>\n",
              "\t<tr><td> 1.5256458</td><td>-7.20</td><td>51.8400</td><td>-373.2480</td><td>2687.386</td><td>-19349.18</td><td>139314.07</td><td>-1003061.3</td><td> 7222041</td><td> -51998698</td><td> 374390624</td><td> -2695612495</td><td> 19408409962</td></tr>\n",
              "\t<tr><td> 0.5469083</td><td>-7.02</td><td>49.2804</td><td>-345.9484</td><td>2428.558</td><td>-17048.48</td><td>119680.30</td><td> -840155.7</td><td> 5897893</td><td> -41403210</td><td> 290650531</td><td> -2040366730</td><td> 14323374447</td></tr>\n",
              "\t<tr><td> 0.9066007</td><td>-6.84</td><td>46.7856</td><td>-320.0135</td><td>2188.892</td><td>-14972.02</td><td>102408.64</td><td> -700475.1</td><td> 4791250</td><td> -32772149</td><td> 224161496</td><td> -1533264636</td><td> 10487530108</td></tr>\n",
              "\t<tr><td> 0.9259283</td><td>-6.66</td><td>44.3556</td><td>-295.4083</td><td>1967.419</td><td>-13103.01</td><td> 87266.06</td><td> -581192.0</td><td> 3870739</td><td> -25779118</td><td> 171688929</td><td> -1143448268</td><td>  7615365463</td></tr>\n",
              "</tbody>\n",
              "</table>\n"
            ],
            "text/markdown": "\nA matrix: 6 × 13 of type dbl\n\n| y | 1 | 2 | 3 | 4 | 5 | 6 | 7 | 8 | 9 | 10 | 11 | 12 |\n|---|---|---|---|---|---|---|---|---|---|---|---|---|\n| -0.5442746 | -8.46 | 71.5716 | -605.4957 | 5122.494 | -43336.30 | 366625.09 | -3101648.2 | 26239944 | -221989926 | 1878034778 | -15888174222 | 134413953915 |\n|  0.6732243 | -8.10 | 65.6100 | -531.4410 | 4304.672 | -34867.84 | 282429.54 | -2287679.2 | 18530202 | -150094635 | 1215766546 |  -9847709022 |  79766443077 |\n|  1.5256458 | -7.20 | 51.8400 | -373.2480 | 2687.386 | -19349.18 | 139314.07 | -1003061.3 |  7222041 |  -51998698 |  374390624 |  -2695612495 |  19408409962 |\n|  0.5469083 | -7.02 | 49.2804 | -345.9484 | 2428.558 | -17048.48 | 119680.30 |  -840155.7 |  5897893 |  -41403210 |  290650531 |  -2040366730 |  14323374447 |\n|  0.9066007 | -6.84 | 46.7856 | -320.0135 | 2188.892 | -14972.02 | 102408.64 |  -700475.1 |  4791250 |  -32772149 |  224161496 |  -1533264636 |  10487530108 |\n|  0.9259283 | -6.66 | 44.3556 | -295.4083 | 1967.419 | -13103.01 |  87266.06 |  -581192.0 |  3870739 |  -25779118 |  171688929 |  -1143448268 |   7615365463 |\n\n",
            "text/latex": "A matrix: 6 × 13 of type dbl\n\\begin{tabular}{lllllllllllll}\n y & 1 & 2 & 3 & 4 & 5 & 6 & 7 & 8 & 9 & 10 & 11 & 12\\\\\n\\hline\n\t -0.5442746 & -8.46 & 71.5716 & -605.4957 & 5122.494 & -43336.30 & 366625.09 & -3101648.2 & 26239944 & -221989926 & 1878034778 & -15888174222 & 134413953915\\\\\n\t  0.6732243 & -8.10 & 65.6100 & -531.4410 & 4304.672 & -34867.84 & 282429.54 & -2287679.2 & 18530202 & -150094635 & 1215766546 &  -9847709022 &  79766443077\\\\\n\t  1.5256458 & -7.20 & 51.8400 & -373.2480 & 2687.386 & -19349.18 & 139314.07 & -1003061.3 &  7222041 &  -51998698 &  374390624 &  -2695612495 &  19408409962\\\\\n\t  0.5469083 & -7.02 & 49.2804 & -345.9484 & 2428.558 & -17048.48 & 119680.30 &  -840155.7 &  5897893 &  -41403210 &  290650531 &  -2040366730 &  14323374447\\\\\n\t  0.9066007 & -6.84 & 46.7856 & -320.0135 & 2188.892 & -14972.02 & 102408.64 &  -700475.1 &  4791250 &  -32772149 &  224161496 &  -1533264636 &  10487530108\\\\\n\t  0.9259283 & -6.66 & 44.3556 & -295.4083 & 1967.419 & -13103.01 &  87266.06 &  -581192.0 &  3870739 &  -25779118 &  171688929 &  -1143448268 &   7615365463\\\\\n\\end{tabular}\n",
            "text/plain": [
              "     y          1     2       3         4        5         6         7         \n",
              "[1,] -0.5442746 -8.46 71.5716 -605.4957 5122.494 -43336.30 366625.09 -3101648.2\n",
              "[2,]  0.6732243 -8.10 65.6100 -531.4410 4304.672 -34867.84 282429.54 -2287679.2\n",
              "[3,]  1.5256458 -7.20 51.8400 -373.2480 2687.386 -19349.18 139314.07 -1003061.3\n",
              "[4,]  0.5469083 -7.02 49.2804 -345.9484 2428.558 -17048.48 119680.30  -840155.7\n",
              "[5,]  0.9066007 -6.84 46.7856 -320.0135 2188.892 -14972.02 102408.64  -700475.1\n",
              "[6,]  0.9259283 -6.66 44.3556 -295.4083 1967.419 -13103.01  87266.06  -581192.0\n",
              "     8        9          10         11           12          \n",
              "[1,] 26239944 -221989926 1878034778 -15888174222 134413953915\n",
              "[2,] 18530202 -150094635 1215766546  -9847709022  79766443077\n",
              "[3,]  7222041  -51998698  374390624  -2695612495  19408409962\n",
              "[4,]  5897893  -41403210  290650531  -2040366730  14323374447\n",
              "[5,]  4791250  -32772149  224161496  -1533264636  10487530108\n",
              "[6,]  3870739  -25779118  171688929  -1143448268   7615365463"
            ]
          },
          "metadata": {}
        },
        {
          "output_type": "display_data",
          "data": {
            "text/plain": [
              "\n",
              "Call:\n",
              "lm(formula = y ~ ., data = as.data.frame(poly12_d1))\n",
              "\n",
              "Residuals:\n",
              "     Min       1Q   Median       3Q      Max \n",
              "-0.86789 -0.25805 -0.00941  0.30116  0.83609 \n",
              "\n",
              "Coefficients:\n",
              "              Estimate Std. Error t value Pr(>|t|)    \n",
              "(Intercept)  1.865e+00  2.065e-01   9.035 6.76e-11 ***\n",
              "`1`         -8.993e-02  1.623e-01  -0.554 0.582929    \n",
              "`2`         -4.310e-01  1.114e-01  -3.868 0.000429 ***\n",
              "`3`          4.133e-02  3.612e-02   1.144 0.259873    \n",
              "`4`          2.570e-02  1.622e-02   1.584 0.121644    \n",
              "`5`         -2.925e-03  2.701e-03  -1.083 0.285885    \n",
              "`6`         -2.021e-04  9.403e-04  -0.215 0.830968    \n",
              "`7`          9.132e-05  8.718e-05   1.048 0.301643    \n",
              "`8`         -1.289e-05  2.548e-05  -0.506 0.615983    \n",
              "`9`         -1.304e-06  1.256e-06  -1.038 0.305887    \n",
              "`10`         2.845e-07  3.233e-07   0.880 0.384552    \n",
              "`11`         6.891e-09  6.622e-09   1.041 0.304801    \n",
              "`12`        -1.670e-09  1.549e-09  -1.078 0.287895    \n",
              "---\n",
              "Signif. codes:  0 ‘***’ 0.001 ‘**’ 0.01 ‘*’ 0.05 ‘.’ 0.1 ‘ ’ 1\n",
              "\n",
              "Residual standard error: 0.4539 on 37 degrees of freedom\n",
              "Multiple R-squared:  0.8558,\tAdjusted R-squared:  0.809 \n",
              "F-statistic:  18.3 on 12 and 37 DF,  p-value: 5.012e-12\n"
            ]
          },
          "metadata": {}
        },
        {
          "output_type": "display_data",
          "data": {
            "text/plain": [
              "plot without title"
            ],
            "image/png": "[encoded data removed]"
          },
          "metadata": {
            "image/png": {
              "width": 420,
              "height": 420
            }
          }
        }
      ],
      "source": [
        "# WRITE YOUR CODE HERE\n",
        "\n",
        "new_x<-poly(d1_train$x,12, raw = TRUE)\n",
        "poly12_d1<-cbind(d1_train$y,new_x)\n",
        "colnames(poly12_d1)[1]<-\"y\"\n",
        "head(poly12_d1)\n",
        "\n",
        "reg.poly<-lm(y ~ ., data = as.data.frame(poly12_d1))\n",
        "summary(reg.poly)\n",
        "\n",
        "ggplot(d1_train, aes(x, y)) +\n",
        "  geom_point() +\n",
        "  stat_smooth(method = \"lm\", formula = y ~ poly(x,12, raw = TRUE))"
      ]
    },
    {
      "cell_type": "markdown",
      "metadata": {
        "id": "-xanWSXvBujk"
      },
      "source": [
        "> *Write your response here*\n",
        ">  Qualitatively, it looks like it fits the data much better, it traces the cyclical patterns in the data. Also, it has a much higher R^2."
      ]
    },
    {
      "cell_type": "markdown",
      "metadata": {
        "id": "VpDFP-eSBujl"
      },
      "source": [
        "(c) Modify the loop below to estimate the bias-variance tradeoff as model complexity (i.e., degree of the polynomial model, $k$) increases from 2 to 50. Use the training data to fit the model and test data to evaluate its predictive accuracy.\n",
        "\n",
        "Visualize your results by plotting the *median* squared error for the training data and test data as a function of polynomial degree."
      ]
    },
    {
      "cell_type": "markdown",
      "metadata": {
        "id": "b2kXJb-5de1S"
      },
      "source": [
        "\n",
        "(**Note**: We are using median accuracies here because there are often 1 or 2 outlier values in the higher degree polynomial models that can throw off the accuracy estimates)."
      ]
    },
    {
      "cell_type": "code",
      "execution_count": 15,
      "metadata": {
        "id": "lnoZVv4OBujl",
        "vscode": {
          "languageId": "r"
        },
        "colab": {
          "base_uri": "https://localhost:8080/",
          "height": 1000
        },
        "outputId": "7be197e0-3e88-4a10-e5b3-d692c940c981"
      },
      "outputs": [
        {
          "output_type": "stream",
          "name": "stdout",
          "text": [
            "[1] 2\n",
            "[1] 3\n",
            "[1] 4\n",
            "[1] 5\n",
            "[1] 6\n",
            "[1] 7\n",
            "[1] 8\n",
            "[1] 9\n",
            "[1] 10\n",
            "[1] 11\n",
            "[1] 12\n",
            "[1] 13\n",
            "[1] 14\n",
            "[1] 15\n",
            "[1] 16\n",
            "[1] 17\n",
            "[1] 18\n",
            "[1] 19\n",
            "[1] 20\n",
            "[1] 21\n",
            "[1] 22\n",
            "[1] 23\n"
          ]
        },
        {
          "output_type": "stream",
          "name": "stderr",
          "text": [
            "Warning message in predict.lm(reg.poly, poly_d1[, -1]):\n",
            "“prediction from rank-deficient fit; attr(*, \"non-estim\") has doubtful cases”\n",
            "Warning message in predict.lm(reg.poly, poly_test_data):\n",
            "“prediction from rank-deficient fit; attr(*, \"non-estim\") has doubtful cases”\n"
          ]
        },
        {
          "output_type": "stream",
          "name": "stdout",
          "text": [
            "[1] 24\n"
          ]
        },
        {
          "output_type": "stream",
          "name": "stderr",
          "text": [
            "Warning message in predict.lm(reg.poly, poly_d1[, -1]):\n",
            "“prediction from rank-deficient fit; attr(*, \"non-estim\") has doubtful cases”\n",
            "Warning message in predict.lm(reg.poly, poly_test_data):\n",
            "“prediction from rank-deficient fit; attr(*, \"non-estim\") has doubtful cases”\n"
          ]
        },
        {
          "output_type": "stream",
          "name": "stdout",
          "text": [
            "[1] 25\n"
          ]
        },
        {
          "output_type": "stream",
          "name": "stderr",
          "text": [
            "Warning message in predict.lm(reg.poly, poly_d1[, -1]):\n",
            "“prediction from rank-deficient fit; attr(*, \"non-estim\") has doubtful cases”\n",
            "Warning message in predict.lm(reg.poly, poly_test_data):\n",
            "“prediction from rank-deficient fit; attr(*, \"non-estim\") has doubtful cases”\n"
          ]
        },
        {
          "output_type": "stream",
          "name": "stdout",
          "text": [
            "[1] 26\n"
          ]
        },
        {
          "output_type": "stream",
          "name": "stderr",
          "text": [
            "Warning message in predict.lm(reg.poly, poly_d1[, -1]):\n",
            "“prediction from rank-deficient fit; attr(*, \"non-estim\") has doubtful cases”\n",
            "Warning message in predict.lm(reg.poly, poly_test_data):\n",
            "“prediction from rank-deficient fit; attr(*, \"non-estim\") has doubtful cases”\n"
          ]
        },
        {
          "output_type": "stream",
          "name": "stdout",
          "text": [
            "[1] 27\n"
          ]
        },
        {
          "output_type": "stream",
          "name": "stderr",
          "text": [
            "Warning message in predict.lm(reg.poly, poly_d1[, -1]):\n",
            "“prediction from rank-deficient fit; attr(*, \"non-estim\") has doubtful cases”\n",
            "Warning message in predict.lm(reg.poly, poly_test_data):\n",
            "“prediction from rank-deficient fit; attr(*, \"non-estim\") has doubtful cases”\n"
          ]
        },
        {
          "output_type": "stream",
          "name": "stdout",
          "text": [
            "[1] 28\n"
          ]
        },
        {
          "output_type": "stream",
          "name": "stderr",
          "text": [
            "Warning message in predict.lm(reg.poly, poly_d1[, -1]):\n",
            "“prediction from rank-deficient fit; attr(*, \"non-estim\") has doubtful cases”\n",
            "Warning message in predict.lm(reg.poly, poly_test_data):\n",
            "“prediction from rank-deficient fit; attr(*, \"non-estim\") has doubtful cases”\n"
          ]
        },
        {
          "output_type": "stream",
          "name": "stdout",
          "text": [
            "[1] 29\n"
          ]
        },
        {
          "output_type": "stream",
          "name": "stderr",
          "text": [
            "Warning message in predict.lm(reg.poly, poly_d1[, -1]):\n",
            "“prediction from rank-deficient fit; attr(*, \"non-estim\") has doubtful cases”\n",
            "Warning message in predict.lm(reg.poly, poly_test_data):\n",
            "“prediction from rank-deficient fit; attr(*, \"non-estim\") has doubtful cases”\n"
          ]
        },
        {
          "output_type": "stream",
          "name": "stdout",
          "text": [
            "[1] 30\n"
          ]
        },
        {
          "output_type": "stream",
          "name": "stderr",
          "text": [
            "Warning message in predict.lm(reg.poly, poly_d1[, -1]):\n",
            "“prediction from rank-deficient fit; attr(*, \"non-estim\") has doubtful cases”\n",
            "Warning message in predict.lm(reg.poly, poly_test_data):\n",
            "“prediction from rank-deficient fit; attr(*, \"non-estim\") has doubtful cases”\n"
          ]
        },
        {
          "output_type": "stream",
          "name": "stdout",
          "text": [
            "[1] 31\n"
          ]
        },
        {
          "output_type": "stream",
          "name": "stderr",
          "text": [
            "Warning message in predict.lm(reg.poly, poly_d1[, -1]):\n",
            "“prediction from rank-deficient fit; attr(*, \"non-estim\") has doubtful cases”\n",
            "Warning message in predict.lm(reg.poly, poly_test_data):\n",
            "“prediction from rank-deficient fit; attr(*, \"non-estim\") has doubtful cases”\n"
          ]
        },
        {
          "output_type": "stream",
          "name": "stdout",
          "text": [
            "[1] 32\n"
          ]
        },
        {
          "output_type": "stream",
          "name": "stderr",
          "text": [
            "Warning message in predict.lm(reg.poly, poly_d1[, -1]):\n",
            "“prediction from rank-deficient fit; attr(*, \"non-estim\") has doubtful cases”\n",
            "Warning message in predict.lm(reg.poly, poly_test_data):\n",
            "“prediction from rank-deficient fit; attr(*, \"non-estim\") has doubtful cases”\n"
          ]
        },
        {
          "output_type": "stream",
          "name": "stdout",
          "text": [
            "[1] 33\n"
          ]
        },
        {
          "output_type": "stream",
          "name": "stderr",
          "text": [
            "Warning message in predict.lm(reg.poly, poly_d1[, -1]):\n",
            "“prediction from rank-deficient fit; attr(*, \"non-estim\") has doubtful cases”\n",
            "Warning message in predict.lm(reg.poly, poly_test_data):\n",
            "“prediction from rank-deficient fit; attr(*, \"non-estim\") has doubtful cases”\n"
          ]
        },
        {
          "output_type": "stream",
          "name": "stdout",
          "text": [
            "[1] 34\n"
          ]
        },
        {
          "output_type": "stream",
          "name": "stderr",
          "text": [
            "Warning message in predict.lm(reg.poly, poly_d1[, -1]):\n",
            "“prediction from rank-deficient fit; attr(*, \"non-estim\") has doubtful cases”\n",
            "Warning message in predict.lm(reg.poly, poly_test_data):\n",
            "“prediction from rank-deficient fit; attr(*, \"non-estim\") has doubtful cases”\n"
          ]
        },
        {
          "output_type": "stream",
          "name": "stdout",
          "text": [
            "[1] 35\n"
          ]
        },
        {
          "output_type": "stream",
          "name": "stderr",
          "text": [
            "Warning message in predict.lm(reg.poly, poly_d1[, -1]):\n",
            "“prediction from rank-deficient fit; attr(*, \"non-estim\") has doubtful cases”\n",
            "Warning message in predict.lm(reg.poly, poly_test_data):\n",
            "“prediction from rank-deficient fit; attr(*, \"non-estim\") has doubtful cases”\n"
          ]
        },
        {
          "output_type": "stream",
          "name": "stdout",
          "text": [
            "[1] 36\n"
          ]
        },
        {
          "output_type": "stream",
          "name": "stderr",
          "text": [
            "Warning message in predict.lm(reg.poly, poly_d1[, -1]):\n",
            "“prediction from rank-deficient fit; attr(*, \"non-estim\") has doubtful cases”\n",
            "Warning message in predict.lm(reg.poly, poly_test_data):\n",
            "“prediction from rank-deficient fit; attr(*, \"non-estim\") has doubtful cases”\n"
          ]
        },
        {
          "output_type": "stream",
          "name": "stdout",
          "text": [
            "[1] 37\n"
          ]
        },
        {
          "output_type": "stream",
          "name": "stderr",
          "text": [
            "Warning message in predict.lm(reg.poly, poly_d1[, -1]):\n",
            "“prediction from rank-deficient fit; attr(*, \"non-estim\") has doubtful cases”\n",
            "Warning message in predict.lm(reg.poly, poly_test_data):\n",
            "“prediction from rank-deficient fit; attr(*, \"non-estim\") has doubtful cases”\n"
          ]
        },
        {
          "output_type": "stream",
          "name": "stdout",
          "text": [
            "[1] 38\n"
          ]
        },
        {
          "output_type": "stream",
          "name": "stderr",
          "text": [
            "Warning message in predict.lm(reg.poly, poly_d1[, -1]):\n",
            "“prediction from rank-deficient fit; attr(*, \"non-estim\") has doubtful cases”\n",
            "Warning message in predict.lm(reg.poly, poly_test_data):\n",
            "“prediction from rank-deficient fit; attr(*, \"non-estim\") has doubtful cases”\n"
          ]
        },
        {
          "output_type": "stream",
          "name": "stdout",
          "text": [
            "[1] 39\n"
          ]
        },
        {
          "output_type": "stream",
          "name": "stderr",
          "text": [
            "Warning message in predict.lm(reg.poly, poly_d1[, -1]):\n",
            "“prediction from rank-deficient fit; attr(*, \"non-estim\") has doubtful cases”\n",
            "Warning message in predict.lm(reg.poly, poly_test_data):\n",
            "“prediction from rank-deficient fit; attr(*, \"non-estim\") has doubtful cases”\n"
          ]
        },
        {
          "output_type": "stream",
          "name": "stdout",
          "text": [
            "[1] 40\n"
          ]
        },
        {
          "output_type": "stream",
          "name": "stderr",
          "text": [
            "Warning message in predict.lm(reg.poly, poly_d1[, -1]):\n",
            "“prediction from rank-deficient fit; attr(*, \"non-estim\") has doubtful cases”\n",
            "Warning message in predict.lm(reg.poly, poly_test_data):\n",
            "“prediction from rank-deficient fit; attr(*, \"non-estim\") has doubtful cases”\n"
          ]
        },
        {
          "output_type": "stream",
          "name": "stdout",
          "text": [
            "[1] 41\n"
          ]
        },
        {
          "output_type": "stream",
          "name": "stderr",
          "text": [
            "Warning message in predict.lm(reg.poly, poly_d1[, -1]):\n",
            "“prediction from rank-deficient fit; attr(*, \"non-estim\") has doubtful cases”\n",
            "Warning message in predict.lm(reg.poly, poly_test_data):\n",
            "“prediction from rank-deficient fit; attr(*, \"non-estim\") has doubtful cases”\n"
          ]
        },
        {
          "output_type": "stream",
          "name": "stdout",
          "text": [
            "[1] 42\n"
          ]
        },
        {
          "output_type": "stream",
          "name": "stderr",
          "text": [
            "Warning message in predict.lm(reg.poly, poly_d1[, -1]):\n",
            "“prediction from rank-deficient fit; attr(*, \"non-estim\") has doubtful cases”\n",
            "Warning message in predict.lm(reg.poly, poly_test_data):\n",
            "“prediction from rank-deficient fit; attr(*, \"non-estim\") has doubtful cases”\n"
          ]
        },
        {
          "output_type": "stream",
          "name": "stdout",
          "text": [
            "[1] 43\n"
          ]
        },
        {
          "output_type": "stream",
          "name": "stderr",
          "text": [
            "Warning message in predict.lm(reg.poly, poly_d1[, -1]):\n",
            "“prediction from rank-deficient fit; attr(*, \"non-estim\") has doubtful cases”\n",
            "Warning message in predict.lm(reg.poly, poly_test_data):\n",
            "“prediction from rank-deficient fit; attr(*, \"non-estim\") has doubtful cases”\n"
          ]
        },
        {
          "output_type": "stream",
          "name": "stdout",
          "text": [
            "[1] 44\n"
          ]
        },
        {
          "output_type": "stream",
          "name": "stderr",
          "text": [
            "Warning message in predict.lm(reg.poly, poly_d1[, -1]):\n",
            "“prediction from rank-deficient fit; attr(*, \"non-estim\") has doubtful cases”\n",
            "Warning message in predict.lm(reg.poly, poly_test_data):\n",
            "“prediction from rank-deficient fit; attr(*, \"non-estim\") has doubtful cases”\n"
          ]
        },
        {
          "output_type": "stream",
          "name": "stdout",
          "text": [
            "[1] 45\n"
          ]
        },
        {
          "output_type": "stream",
          "name": "stderr",
          "text": [
            "Warning message in predict.lm(reg.poly, poly_d1[, -1]):\n",
            "“prediction from rank-deficient fit; attr(*, \"non-estim\") has doubtful cases”\n",
            "Warning message in predict.lm(reg.poly, poly_test_data):\n",
            "“prediction from rank-deficient fit; attr(*, \"non-estim\") has doubtful cases”\n"
          ]
        },
        {
          "output_type": "stream",
          "name": "stdout",
          "text": [
            "[1] 46\n"
          ]
        },
        {
          "output_type": "stream",
          "name": "stderr",
          "text": [
            "Warning message in predict.lm(reg.poly, poly_d1[, -1]):\n",
            "“prediction from rank-deficient fit; attr(*, \"non-estim\") has doubtful cases”\n",
            "Warning message in predict.lm(reg.poly, poly_test_data):\n",
            "“prediction from rank-deficient fit; attr(*, \"non-estim\") has doubtful cases”\n"
          ]
        },
        {
          "output_type": "stream",
          "name": "stdout",
          "text": [
            "[1] 47\n"
          ]
        },
        {
          "output_type": "stream",
          "name": "stderr",
          "text": [
            "Warning message in predict.lm(reg.poly, poly_d1[, -1]):\n",
            "“prediction from rank-deficient fit; attr(*, \"non-estim\") has doubtful cases”\n",
            "Warning message in predict.lm(reg.poly, poly_test_data):\n",
            "“prediction from rank-deficient fit; attr(*, \"non-estim\") has doubtful cases”\n"
          ]
        },
        {
          "output_type": "stream",
          "name": "stdout",
          "text": [
            "[1] 48\n"
          ]
        },
        {
          "output_type": "stream",
          "name": "stderr",
          "text": [
            "Warning message in predict.lm(reg.poly, poly_d1[, -1]):\n",
            "“prediction from rank-deficient fit; attr(*, \"non-estim\") has doubtful cases”\n",
            "Warning message in predict.lm(reg.poly, poly_test_data):\n",
            "“prediction from rank-deficient fit; attr(*, \"non-estim\") has doubtful cases”\n"
          ]
        },
        {
          "output_type": "stream",
          "name": "stdout",
          "text": [
            "[1] 49\n"
          ]
        },
        {
          "output_type": "stream",
          "name": "stderr",
          "text": [
            "Warning message in predict.lm(reg.poly, poly_d1[, -1]):\n",
            "“prediction from rank-deficient fit; attr(*, \"non-estim\") has doubtful cases”\n",
            "Warning message in predict.lm(reg.poly, poly_test_data):\n",
            "“prediction from rank-deficient fit; attr(*, \"non-estim\") has doubtful cases”\n"
          ]
        },
        {
          "output_type": "stream",
          "name": "stdout",
          "text": [
            "[1] 50\n"
          ]
        },
        {
          "output_type": "display_data",
          "data": {
            "text/plain": [
              "plot without title"
            ],
            "image/png": "[encoded data removed]"
          },
          "metadata": {
            "image/png": {
              "width": 420,
              "height": 420
            }
          }
        }
      ],
      "source": [
        "# Now do the variance-bias trade off analysis using regular regression\n",
        "degree = seq(2,50)\n",
        "\n",
        "# Need to setup your output vectors\n",
        "train_rss = matrix(data=NA,nrow=length(degree),ncol=1)\n",
        "test_rss = matrix(data=NA,nrow=length(degree),ncol=1)\n",
        "count=1\n",
        "\n",
        "#print(length(unique(d1_train$x)))\n",
        "#poly(d1_train$x,24)\n",
        "# it won't work for polynomial higher than 24...\n",
        "# use \"raw = TRUE\" argument\n",
        "#poly(d1_train$x,24, raw = TRUE)\n",
        "\n",
        "for (k in degree) {\n",
        "    # WRITE YOUR CODE HERE\n",
        "    new_x<-poly(d1_train$x,k, raw = TRUE)\n",
        "    poly_d1<-cbind(d1_train$y,new_x)\n",
        "    colnames(poly_d1)[1]<-\"y\"\n",
        "    poly_d1<-as.data.frame(poly_d1)\n",
        "    head(poly_d1)\n",
        "\n",
        "    reg.poly<-lm(y ~ ., data = poly_d1)\n",
        "\n",
        "    predicted_y<-predict(reg.poly,poly_d1[,-1])\n",
        "    train_rss[count]<-median((d1_train$y-predicted_y)^2)\n",
        "\n",
        "    poly_test_data<-as.data.frame(poly(d1_test$x,k, raw = TRUE))\n",
        "\n",
        "    predicted_y<-predict(reg.poly,poly_test_data)\n",
        "    test_rss[count]<-median((d1_test$y-predicted_y)^2)\n",
        "\n",
        "    count <- count + 1\n",
        "    print(count)\n",
        "}\n",
        "\n",
        "# Plot your results here\n",
        "# WRITE YOUR CODE HERE\n",
        "output_rss<-data.frame(degree=degree, train_medianse=train_rss, test_medianse=test_rss)\n",
        "ggplot(output_rss, aes(degree, train_medianse)) +\n",
        "  geom_point() +\n",
        "  geom_point(aes(degree, test_medianse), color = \"red\")\n",
        "\n"
      ]
    },
    {
      "cell_type": "markdown",
      "metadata": {
        "id": "Vx8zgVDGBujm"
      },
      "source": [
        "What do you see as $k$ increase?\n",
        "\n",
        "> *Write your response here*\n",
        "> As k increases it looks like train median squared error decreases to near 0 (with more predictors, we fit the trianing data better and better by modeling noise). While the test median squared error decreases with higher degree polynomials in the model up until about the 10th or 12th degree polynomial, the test accuracy starts to suffer after a certain degree as we overfit to the training data with higher and higher degree polynomial regressions."
      ]
    },
    {
      "cell_type": "markdown",
      "metadata": {
        "id": "pfF6syENBujm"
      },
      "source": [
        "(d) Now copy the code above and let's see what happens when we go beyond $p=n$ (remember, in this case $k=p$). Test polynomial models up to $k=150$. Visualize your results by plotting the *median* squared error for the training data and test data as a function of polynomial degree.\n",
        "\n",
        "Use the `geom_vline()` function in `ggplot` to draw a vertical line where $k=n$ (here $n$ is the number of observations in the training set). This will make it clear where we cross the threshold for finding *unique* solutions in our data.\n",
        "\n"
      ]
    },
    {
      "cell_type": "code",
      "execution_count": 18,
      "metadata": {
        "id": "Fqk3xlUBBujm",
        "vscode": {
          "languageId": "r"
        },
        "colab": {
          "base_uri": "https://localhost:8080/",
          "height": 1000
        },
        "outputId": "494e7138-62f0-4f96-c4e1-1cc06293f728"
      },
      "outputs": [
        {
          "output_type": "stream",
          "name": "stdout",
          "text": [
            "[1] 2\n",
            "[1] 3\n",
            "[1] 4\n",
            "[1] 5\n",
            "[1] 6\n",
            "[1] 7\n",
            "[1] 8\n",
            "[1] 9\n",
            "[1] 10\n",
            "[1] 11\n",
            "[1] 12\n",
            "[1] 13\n",
            "[1] 14\n",
            "[1] 15\n",
            "[1] 16\n",
            "[1] 17\n",
            "[1] 18\n",
            "[1] 19\n",
            "[1] 20\n",
            "[1] 21\n",
            "[1] 22\n",
            "[1] 23\n"
          ]
        },
        {
          "output_type": "stream",
          "name": "stderr",
          "text": [
            "Warning message in predict.lm(reg.poly, poly_d1[, -1]):\n",
            "“prediction from rank-deficient fit; attr(*, \"non-estim\") has doubtful cases”\n",
            "Warning message in predict.lm(reg.poly, poly_test_data):\n",
            "“prediction from rank-deficient fit; attr(*, \"non-estim\") has doubtful cases”\n"
          ]
        },
        {
          "output_type": "stream",
          "name": "stdout",
          "text": [
            "[1] 24\n"
          ]
        },
        {
          "output_type": "stream",
          "name": "stderr",
          "text": [
            "Warning message in predict.lm(reg.poly, poly_d1[, -1]):\n",
            "“prediction from rank-deficient fit; attr(*, \"non-estim\") has doubtful cases”\n",
            "Warning message in predict.lm(reg.poly, poly_test_data):\n",
            "“prediction from rank-deficient fit; attr(*, \"non-estim\") has doubtful cases”\n"
          ]
        },
        {
          "output_type": "stream",
          "name": "stdout",
          "text": [
            "[1] 25\n"
          ]
        },
        {
          "output_type": "stream",
          "name": "stderr",
          "text": [
            "Warning message in predict.lm(reg.poly, poly_d1[, -1]):\n",
            "“prediction from rank-deficient fit; attr(*, \"non-estim\") has doubtful cases”\n",
            "Warning message in predict.lm(reg.poly, poly_test_data):\n",
            "“prediction from rank-deficient fit; attr(*, \"non-estim\") has doubtful cases”\n"
          ]
        },
        {
          "output_type": "stream",
          "name": "stdout",
          "text": [
            "[1] 26\n"
          ]
        },
        {
          "output_type": "stream",
          "name": "stderr",
          "text": [
            "Warning message in predict.lm(reg.poly, poly_d1[, -1]):\n",
            "“prediction from rank-deficient fit; attr(*, \"non-estim\") has doubtful cases”\n",
            "Warning message in predict.lm(reg.poly, poly_test_data):\n",
            "“prediction from rank-deficient fit; attr(*, \"non-estim\") has doubtful cases”\n"
          ]
        },
        {
          "output_type": "stream",
          "name": "stdout",
          "text": [
            "[1] 27\n"
          ]
        },
        {
          "output_type": "stream",
          "name": "stderr",
          "text": [
            "Warning message in predict.lm(reg.poly, poly_d1[, -1]):\n",
            "“prediction from rank-deficient fit; attr(*, \"non-estim\") has doubtful cases”\n",
            "Warning message in predict.lm(reg.poly, poly_test_data):\n",
            "“prediction from rank-deficient fit; attr(*, \"non-estim\") has doubtful cases”\n"
          ]
        },
        {
          "output_type": "stream",
          "name": "stdout",
          "text": [
            "[1] 28\n"
          ]
        },
        {
          "output_type": "stream",
          "name": "stderr",
          "text": [
            "Warning message in predict.lm(reg.poly, poly_d1[, -1]):\n",
            "“prediction from rank-deficient fit; attr(*, \"non-estim\") has doubtful cases”\n",
            "Warning message in predict.lm(reg.poly, poly_test_data):\n",
            "“prediction from rank-deficient fit; attr(*, \"non-estim\") has doubtful cases”\n"
          ]
        },
        {
          "output_type": "stream",
          "name": "stdout",
          "text": [
            "[1] 29\n"
          ]
        },
        {
          "output_type": "stream",
          "name": "stderr",
          "text": [
            "Warning message in predict.lm(reg.poly, poly_d1[, -1]):\n",
            "“prediction from rank-deficient fit; attr(*, \"non-estim\") has doubtful cases”\n",
            "Warning message in predict.lm(reg.poly, poly_test_data):\n",
            "“prediction from rank-deficient fit; attr(*, \"non-estim\") has doubtful cases”\n"
          ]
        },
        {
          "output_type": "stream",
          "name": "stdout",
          "text": [
            "[1] 30\n"
          ]
        },
        {
          "output_type": "stream",
          "name": "stderr",
          "text": [
            "Warning message in predict.lm(reg.poly, poly_d1[, -1]):\n",
            "“prediction from rank-deficient fit; attr(*, \"non-estim\") has doubtful cases”\n",
            "Warning message in predict.lm(reg.poly, poly_test_data):\n",
            "“prediction from rank-deficient fit; attr(*, \"non-estim\") has doubtful cases”\n"
          ]
        },
        {
          "output_type": "stream",
          "name": "stdout",
          "text": [
            "[1] 31\n"
          ]
        },
        {
          "output_type": "stream",
          "name": "stderr",
          "text": [
            "Warning message in predict.lm(reg.poly, poly_d1[, -1]):\n",
            "“prediction from rank-deficient fit; attr(*, \"non-estim\") has doubtful cases”\n",
            "Warning message in predict.lm(reg.poly, poly_test_data):\n",
            "“prediction from rank-deficient fit; attr(*, \"non-estim\") has doubtful cases”\n"
          ]
        },
        {
          "output_type": "stream",
          "name": "stdout",
          "text": [
            "[1] 32\n"
          ]
        },
        {
          "output_type": "stream",
          "name": "stderr",
          "text": [
            "Warning message in predict.lm(reg.poly, poly_d1[, -1]):\n",
            "“prediction from rank-deficient fit; attr(*, \"non-estim\") has doubtful cases”\n",
            "Warning message in predict.lm(reg.poly, poly_test_data):\n",
            "“prediction from rank-deficient fit; attr(*, \"non-estim\") has doubtful cases”\n"
          ]
        },
        {
          "output_type": "stream",
          "name": "stdout",
          "text": [
            "[1] 33\n"
          ]
        },
        {
          "output_type": "stream",
          "name": "stderr",
          "text": [
            "Warning message in predict.lm(reg.poly, poly_d1[, -1]):\n",
            "“prediction from rank-deficient fit; attr(*, \"non-estim\") has doubtful cases”\n",
            "Warning message in predict.lm(reg.poly, poly_test_data):\n",
            "“prediction from rank-deficient fit; attr(*, \"non-estim\") has doubtful cases”\n"
          ]
        },
        {
          "output_type": "stream",
          "name": "stdout",
          "text": [
            "[1] 34\n"
          ]
        },
        {
          "output_type": "stream",
          "name": "stderr",
          "text": [
            "Warning message in predict.lm(reg.poly, poly_d1[, -1]):\n",
            "“prediction from rank-deficient fit; attr(*, \"non-estim\") has doubtful cases”\n",
            "Warning message in predict.lm(reg.poly, poly_test_data):\n",
            "“prediction from rank-deficient fit; attr(*, \"non-estim\") has doubtful cases”\n"
          ]
        },
        {
          "output_type": "stream",
          "name": "stdout",
          "text": [
            "[1] 35\n"
          ]
        },
        {
          "output_type": "stream",
          "name": "stderr",
          "text": [
            "Warning message in predict.lm(reg.poly, poly_d1[, -1]):\n",
            "“prediction from rank-deficient fit; attr(*, \"non-estim\") has doubtful cases”\n",
            "Warning message in predict.lm(reg.poly, poly_test_data):\n",
            "“prediction from rank-deficient fit; attr(*, \"non-estim\") has doubtful cases”\n"
          ]
        },
        {
          "output_type": "stream",
          "name": "stdout",
          "text": [
            "[1] 36\n"
          ]
        },
        {
          "output_type": "stream",
          "name": "stderr",
          "text": [
            "Warning message in predict.lm(reg.poly, poly_d1[, -1]):\n",
            "“prediction from rank-deficient fit; attr(*, \"non-estim\") has doubtful cases”\n",
            "Warning message in predict.lm(reg.poly, poly_test_data):\n",
            "“prediction from rank-deficient fit; attr(*, \"non-estim\") has doubtful cases”\n"
          ]
        },
        {
          "output_type": "stream",
          "name": "stdout",
          "text": [
            "[1] 37\n"
          ]
        },
        {
          "output_type": "stream",
          "name": "stderr",
          "text": [
            "Warning message in predict.lm(reg.poly, poly_d1[, -1]):\n",
            "“prediction from rank-deficient fit; attr(*, \"non-estim\") has doubtful cases”\n",
            "Warning message in predict.lm(reg.poly, poly_test_data):\n",
            "“prediction from rank-deficient fit; attr(*, \"non-estim\") has doubtful cases”\n"
          ]
        },
        {
          "output_type": "stream",
          "name": "stdout",
          "text": [
            "[1] 38\n"
          ]
        },
        {
          "output_type": "stream",
          "name": "stderr",
          "text": [
            "Warning message in predict.lm(reg.poly, poly_d1[, -1]):\n",
            "“prediction from rank-deficient fit; attr(*, \"non-estim\") has doubtful cases”\n",
            "Warning message in predict.lm(reg.poly, poly_test_data):\n",
            "“prediction from rank-deficient fit; attr(*, \"non-estim\") has doubtful cases”\n"
          ]
        },
        {
          "output_type": "stream",
          "name": "stdout",
          "text": [
            "[1] 39\n"
          ]
        },
        {
          "output_type": "stream",
          "name": "stderr",
          "text": [
            "Warning message in predict.lm(reg.poly, poly_d1[, -1]):\n",
            "“prediction from rank-deficient fit; attr(*, \"non-estim\") has doubtful cases”\n",
            "Warning message in predict.lm(reg.poly, poly_test_data):\n",
            "“prediction from rank-deficient fit; attr(*, \"non-estim\") has doubtful cases”\n"
          ]
        },
        {
          "output_type": "stream",
          "name": "stdout",
          "text": [
            "[1] 40\n"
          ]
        },
        {
          "output_type": "stream",
          "name": "stderr",
          "text": [
            "Warning message in predict.lm(reg.poly, poly_d1[, -1]):\n",
            "“prediction from rank-deficient fit; attr(*, \"non-estim\") has doubtful cases”\n",
            "Warning message in predict.lm(reg.poly, poly_test_data):\n",
            "“prediction from rank-deficient fit; attr(*, \"non-estim\") has doubtful cases”\n"
          ]
        },
        {
          "output_type": "stream",
          "name": "stdout",
          "text": [
            "[1] 41\n"
          ]
        },
        {
          "output_type": "stream",
          "name": "stderr",
          "text": [
            "Warning message in predict.lm(reg.poly, poly_d1[, -1]):\n",
            "“prediction from rank-deficient fit; attr(*, \"non-estim\") has doubtful cases”\n",
            "Warning message in predict.lm(reg.poly, poly_test_data):\n",
            "“prediction from rank-deficient fit; attr(*, \"non-estim\") has doubtful cases”\n"
          ]
        },
        {
          "output_type": "stream",
          "name": "stdout",
          "text": [
            "[1] 42\n"
          ]
        },
        {
          "output_type": "stream",
          "name": "stderr",
          "text": [
            "Warning message in predict.lm(reg.poly, poly_d1[, -1]):\n",
            "“prediction from rank-deficient fit; attr(*, \"non-estim\") has doubtful cases”\n",
            "Warning message in predict.lm(reg.poly, poly_test_data):\n",
            "“prediction from rank-deficient fit; attr(*, \"non-estim\") has doubtful cases”\n"
          ]
        },
        {
          "output_type": "stream",
          "name": "stdout",
          "text": [
            "[1] 43\n"
          ]
        },
        {
          "output_type": "stream",
          "name": "stderr",
          "text": [
            "Warning message in predict.lm(reg.poly, poly_d1[, -1]):\n",
            "“prediction from rank-deficient fit; attr(*, \"non-estim\") has doubtful cases”\n",
            "Warning message in predict.lm(reg.poly, poly_test_data):\n",
            "“prediction from rank-deficient fit; attr(*, \"non-estim\") has doubtful cases”\n"
          ]
        },
        {
          "output_type": "stream",
          "name": "stdout",
          "text": [
            "[1] 44\n"
          ]
        },
        {
          "output_type": "stream",
          "name": "stderr",
          "text": [
            "Warning message in predict.lm(reg.poly, poly_d1[, -1]):\n",
            "“prediction from rank-deficient fit; attr(*, \"non-estim\") has doubtful cases”\n",
            "Warning message in predict.lm(reg.poly, poly_test_data):\n",
            "“prediction from rank-deficient fit; attr(*, \"non-estim\") has doubtful cases”\n"
          ]
        },
        {
          "output_type": "stream",
          "name": "stdout",
          "text": [
            "[1] 45\n"
          ]
        },
        {
          "output_type": "stream",
          "name": "stderr",
          "text": [
            "Warning message in predict.lm(reg.poly, poly_d1[, -1]):\n",
            "“prediction from rank-deficient fit; attr(*, \"non-estim\") has doubtful cases”\n",
            "Warning message in predict.lm(reg.poly, poly_test_data):\n",
            "“prediction from rank-deficient fit; attr(*, \"non-estim\") has doubtful cases”\n"
          ]
        },
        {
          "output_type": "stream",
          "name": "stdout",
          "text": [
            "[1] 46\n"
          ]
        },
        {
          "output_type": "stream",
          "name": "stderr",
          "text": [
            "Warning message in predict.lm(reg.poly, poly_d1[, -1]):\n",
            "“prediction from rank-deficient fit; attr(*, \"non-estim\") has doubtful cases”\n",
            "Warning message in predict.lm(reg.poly, poly_test_data):\n",
            "“prediction from rank-deficient fit; attr(*, \"non-estim\") has doubtful cases”\n"
          ]
        },
        {
          "output_type": "stream",
          "name": "stdout",
          "text": [
            "[1] 47\n"
          ]
        },
        {
          "output_type": "stream",
          "name": "stderr",
          "text": [
            "Warning message in predict.lm(reg.poly, poly_d1[, -1]):\n",
            "“prediction from rank-deficient fit; attr(*, \"non-estim\") has doubtful cases”\n",
            "Warning message in predict.lm(reg.poly, poly_test_data):\n",
            "“prediction from rank-deficient fit; attr(*, \"non-estim\") has doubtful cases”\n"
          ]
        },
        {
          "output_type": "stream",
          "name": "stdout",
          "text": [
            "[1] 48\n"
          ]
        },
        {
          "output_type": "stream",
          "name": "stderr",
          "text": [
            "Warning message in predict.lm(reg.poly, poly_d1[, -1]):\n",
            "“prediction from rank-deficient fit; attr(*, \"non-estim\") has doubtful cases”\n",
            "Warning message in predict.lm(reg.poly, poly_test_data):\n",
            "“prediction from rank-deficient fit; attr(*, \"non-estim\") has doubtful cases”\n"
          ]
        },
        {
          "output_type": "stream",
          "name": "stdout",
          "text": [
            "[1] 49\n"
          ]
        },
        {
          "output_type": "stream",
          "name": "stderr",
          "text": [
            "Warning message in predict.lm(reg.poly, poly_d1[, -1]):\n",
            "“prediction from rank-deficient fit; attr(*, \"non-estim\") has doubtful cases”\n",
            "Warning message in predict.lm(reg.poly, poly_test_data):\n",
            "“prediction from rank-deficient fit; attr(*, \"non-estim\") has doubtful cases”\n"
          ]
        },
        {
          "output_type": "stream",
          "name": "stdout",
          "text": [
            "[1] 50\n"
          ]
        },
        {
          "output_type": "stream",
          "name": "stderr",
          "text": [
            "Warning message in predict.lm(reg.poly, poly_d1[, -1]):\n",
            "“prediction from rank-deficient fit; attr(*, \"non-estim\") has doubtful cases”\n",
            "Warning message in predict.lm(reg.poly, poly_test_data):\n",
            "“prediction from rank-deficient fit; attr(*, \"non-estim\") has doubtful cases”\n"
          ]
        },
        {
          "output_type": "stream",
          "name": "stdout",
          "text": [
            "[1] 51\n"
          ]
        },
        {
          "output_type": "stream",
          "name": "stderr",
          "text": [
            "Warning message in predict.lm(reg.poly, poly_d1[, -1]):\n",
            "“prediction from rank-deficient fit; attr(*, \"non-estim\") has doubtful cases”\n",
            "Warning message in predict.lm(reg.poly, poly_test_data):\n",
            "“prediction from rank-deficient fit; attr(*, \"non-estim\") has doubtful cases”\n"
          ]
        },
        {
          "output_type": "stream",
          "name": "stdout",
          "text": [
            "[1] 52\n"
          ]
        },
        {
          "output_type": "stream",
          "name": "stderr",
          "text": [
            "Warning message in predict.lm(reg.poly, poly_d1[, -1]):\n",
            "“prediction from rank-deficient fit; attr(*, \"non-estim\") has doubtful cases”\n",
            "Warning message in predict.lm(reg.poly, poly_test_data):\n",
            "“prediction from rank-deficient fit; attr(*, \"non-estim\") has doubtful cases”\n"
          ]
        },
        {
          "output_type": "stream",
          "name": "stdout",
          "text": [
            "[1] 53\n"
          ]
        },
        {
          "output_type": "stream",
          "name": "stderr",
          "text": [
            "Warning message in predict.lm(reg.poly, poly_d1[, -1]):\n",
            "“prediction from rank-deficient fit; attr(*, \"non-estim\") has doubtful cases”\n",
            "Warning message in predict.lm(reg.poly, poly_test_data):\n",
            "“prediction from rank-deficient fit; attr(*, \"non-estim\") has doubtful cases”\n"
          ]
        },
        {
          "output_type": "stream",
          "name": "stdout",
          "text": [
            "[1] 54\n"
          ]
        },
        {
          "output_type": "stream",
          "name": "stderr",
          "text": [
            "Warning message in predict.lm(reg.poly, poly_d1[, -1]):\n",
            "“prediction from rank-deficient fit; attr(*, \"non-estim\") has doubtful cases”\n",
            "Warning message in predict.lm(reg.poly, poly_test_data):\n",
            "“prediction from rank-deficient fit; attr(*, \"non-estim\") has doubtful cases”\n"
          ]
        },
        {
          "output_type": "stream",
          "name": "stdout",
          "text": [
            "[1] 55\n"
          ]
        },
        {
          "output_type": "stream",
          "name": "stderr",
          "text": [
            "Warning message in predict.lm(reg.poly, poly_d1[, -1]):\n",
            "“prediction from rank-deficient fit; attr(*, \"non-estim\") has doubtful cases”\n",
            "Warning message in predict.lm(reg.poly, poly_test_data):\n",
            "“prediction from rank-deficient fit; attr(*, \"non-estim\") has doubtful cases”\n"
          ]
        },
        {
          "output_type": "stream",
          "name": "stdout",
          "text": [
            "[1] 56\n"
          ]
        },
        {
          "output_type": "stream",
          "name": "stderr",
          "text": [
            "Warning message in predict.lm(reg.poly, poly_d1[, -1]):\n",
            "“prediction from rank-deficient fit; attr(*, \"non-estim\") has doubtful cases”\n",
            "Warning message in predict.lm(reg.poly, poly_test_data):\n",
            "“prediction from rank-deficient fit; attr(*, \"non-estim\") has doubtful cases”\n"
          ]
        },
        {
          "output_type": "stream",
          "name": "stdout",
          "text": [
            "[1] 57\n"
          ]
        },
        {
          "output_type": "stream",
          "name": "stderr",
          "text": [
            "Warning message in predict.lm(reg.poly, poly_d1[, -1]):\n",
            "“prediction from rank-deficient fit; attr(*, \"non-estim\") has doubtful cases”\n",
            "Warning message in predict.lm(reg.poly, poly_test_data):\n",
            "“prediction from rank-deficient fit; attr(*, \"non-estim\") has doubtful cases”\n"
          ]
        },
        {
          "output_type": "stream",
          "name": "stdout",
          "text": [
            "[1] 58\n"
          ]
        },
        {
          "output_type": "stream",
          "name": "stderr",
          "text": [
            "Warning message in predict.lm(reg.poly, poly_d1[, -1]):\n",
            "“prediction from rank-deficient fit; attr(*, \"non-estim\") has doubtful cases”\n",
            "Warning message in predict.lm(reg.poly, poly_test_data):\n",
            "“prediction from rank-deficient fit; attr(*, \"non-estim\") has doubtful cases”\n"
          ]
        },
        {
          "output_type": "stream",
          "name": "stdout",
          "text": [
            "[1] 59\n"
          ]
        },
        {
          "output_type": "stream",
          "name": "stderr",
          "text": [
            "Warning message in predict.lm(reg.poly, poly_d1[, -1]):\n",
            "“prediction from rank-deficient fit; attr(*, \"non-estim\") has doubtful cases”\n",
            "Warning message in predict.lm(reg.poly, poly_test_data):\n",
            "“prediction from rank-deficient fit; attr(*, \"non-estim\") has doubtful cases”\n"
          ]
        },
        {
          "output_type": "stream",
          "name": "stdout",
          "text": [
            "[1] 60\n"
          ]
        },
        {
          "output_type": "stream",
          "name": "stderr",
          "text": [
            "Warning message in predict.lm(reg.poly, poly_d1[, -1]):\n",
            "“prediction from rank-deficient fit; attr(*, \"non-estim\") has doubtful cases”\n",
            "Warning message in predict.lm(reg.poly, poly_test_data):\n",
            "“prediction from rank-deficient fit; attr(*, \"non-estim\") has doubtful cases”\n"
          ]
        },
        {
          "output_type": "stream",
          "name": "stdout",
          "text": [
            "[1] 61\n"
          ]
        },
        {
          "output_type": "stream",
          "name": "stderr",
          "text": [
            "Warning message in predict.lm(reg.poly, poly_d1[, -1]):\n",
            "“prediction from rank-deficient fit; attr(*, \"non-estim\") has doubtful cases”\n",
            "Warning message in predict.lm(reg.poly, poly_test_data):\n",
            "“prediction from rank-deficient fit; attr(*, \"non-estim\") has doubtful cases”\n"
          ]
        },
        {
          "output_type": "stream",
          "name": "stdout",
          "text": [
            "[1] 62\n"
          ]
        },
        {
          "output_type": "stream",
          "name": "stderr",
          "text": [
            "Warning message in predict.lm(reg.poly, poly_d1[, -1]):\n",
            "“prediction from rank-deficient fit; attr(*, \"non-estim\") has doubtful cases”\n",
            "Warning message in predict.lm(reg.poly, poly_test_data):\n",
            "“prediction from rank-deficient fit; attr(*, \"non-estim\") has doubtful cases”\n"
          ]
        },
        {
          "output_type": "stream",
          "name": "stdout",
          "text": [
            "[1] 63\n"
          ]
        },
        {
          "output_type": "stream",
          "name": "stderr",
          "text": [
            "Warning message in predict.lm(reg.poly, poly_d1[, -1]):\n",
            "“prediction from rank-deficient fit; attr(*, \"non-estim\") has doubtful cases”\n",
            "Warning message in predict.lm(reg.poly, poly_test_data):\n",
            "“prediction from rank-deficient fit; attr(*, \"non-estim\") has doubtful cases”\n"
          ]
        },
        {
          "output_type": "stream",
          "name": "stdout",
          "text": [
            "[1] 64\n"
          ]
        },
        {
          "output_type": "stream",
          "name": "stderr",
          "text": [
            "Warning message in predict.lm(reg.poly, poly_d1[, -1]):\n",
            "“prediction from rank-deficient fit; attr(*, \"non-estim\") has doubtful cases”\n",
            "Warning message in predict.lm(reg.poly, poly_test_data):\n",
            "“prediction from rank-deficient fit; attr(*, \"non-estim\") has doubtful cases”\n"
          ]
        },
        {
          "output_type": "stream",
          "name": "stdout",
          "text": [
            "[1] 65\n"
          ]
        },
        {
          "output_type": "stream",
          "name": "stderr",
          "text": [
            "Warning message in predict.lm(reg.poly, poly_d1[, -1]):\n",
            "“prediction from rank-deficient fit; attr(*, \"non-estim\") has doubtful cases”\n",
            "Warning message in predict.lm(reg.poly, poly_test_data):\n",
            "“prediction from rank-deficient fit; attr(*, \"non-estim\") has doubtful cases”\n"
          ]
        },
        {
          "output_type": "stream",
          "name": "stdout",
          "text": [
            "[1] 66\n"
          ]
        },
        {
          "output_type": "stream",
          "name": "stderr",
          "text": [
            "Warning message in predict.lm(reg.poly, poly_d1[, -1]):\n",
            "“prediction from rank-deficient fit; attr(*, \"non-estim\") has doubtful cases”\n",
            "Warning message in predict.lm(reg.poly, poly_test_data):\n",
            "“prediction from rank-deficient fit; attr(*, \"non-estim\") has doubtful cases”\n"
          ]
        },
        {
          "output_type": "stream",
          "name": "stdout",
          "text": [
            "[1] 67\n"
          ]
        },
        {
          "output_type": "stream",
          "name": "stderr",
          "text": [
            "Warning message in predict.lm(reg.poly, poly_d1[, -1]):\n",
            "“prediction from rank-deficient fit; attr(*, \"non-estim\") has doubtful cases”\n",
            "Warning message in predict.lm(reg.poly, poly_test_data):\n",
            "“prediction from rank-deficient fit; attr(*, \"non-estim\") has doubtful cases”\n"
          ]
        },
        {
          "output_type": "stream",
          "name": "stdout",
          "text": [
            "[1] 68\n"
          ]
        },
        {
          "output_type": "stream",
          "name": "stderr",
          "text": [
            "Warning message in predict.lm(reg.poly, poly_d1[, -1]):\n",
            "“prediction from rank-deficient fit; attr(*, \"non-estim\") has doubtful cases”\n",
            "Warning message in predict.lm(reg.poly, poly_test_data):\n",
            "“prediction from rank-deficient fit; attr(*, \"non-estim\") has doubtful cases”\n"
          ]
        },
        {
          "output_type": "stream",
          "name": "stdout",
          "text": [
            "[1] 69\n"
          ]
        },
        {
          "output_type": "stream",
          "name": "stderr",
          "text": [
            "Warning message in predict.lm(reg.poly, poly_d1[, -1]):\n",
            "“prediction from rank-deficient fit; attr(*, \"non-estim\") has doubtful cases”\n",
            "Warning message in predict.lm(reg.poly, poly_test_data):\n",
            "“prediction from rank-deficient fit; attr(*, \"non-estim\") has doubtful cases”\n"
          ]
        },
        {
          "output_type": "stream",
          "name": "stdout",
          "text": [
            "[1] 70\n"
          ]
        },
        {
          "output_type": "stream",
          "name": "stderr",
          "text": [
            "Warning message in predict.lm(reg.poly, poly_d1[, -1]):\n",
            "“prediction from rank-deficient fit; attr(*, \"non-estim\") has doubtful cases”\n",
            "Warning message in predict.lm(reg.poly, poly_test_data):\n",
            "“prediction from rank-deficient fit; attr(*, \"non-estim\") has doubtful cases”\n"
          ]
        },
        {
          "output_type": "stream",
          "name": "stdout",
          "text": [
            "[1] 71\n"
          ]
        },
        {
          "output_type": "stream",
          "name": "stderr",
          "text": [
            "Warning message in predict.lm(reg.poly, poly_d1[, -1]):\n",
            "“prediction from rank-deficient fit; attr(*, \"non-estim\") has doubtful cases”\n",
            "Warning message in predict.lm(reg.poly, poly_test_data):\n",
            "“prediction from rank-deficient fit; attr(*, \"non-estim\") has doubtful cases”\n"
          ]
        },
        {
          "output_type": "stream",
          "name": "stdout",
          "text": [
            "[1] 72\n"
          ]
        },
        {
          "output_type": "stream",
          "name": "stderr",
          "text": [
            "Warning message in predict.lm(reg.poly, poly_d1[, -1]):\n",
            "“prediction from rank-deficient fit; attr(*, \"non-estim\") has doubtful cases”\n",
            "Warning message in predict.lm(reg.poly, poly_test_data):\n",
            "“prediction from rank-deficient fit; attr(*, \"non-estim\") has doubtful cases”\n"
          ]
        },
        {
          "output_type": "stream",
          "name": "stdout",
          "text": [
            "[1] 73\n"
          ]
        },
        {
          "output_type": "stream",
          "name": "stderr",
          "text": [
            "Warning message in predict.lm(reg.poly, poly_d1[, -1]):\n",
            "“prediction from rank-deficient fit; attr(*, \"non-estim\") has doubtful cases”\n",
            "Warning message in predict.lm(reg.poly, poly_test_data):\n",
            "“prediction from rank-deficient fit; attr(*, \"non-estim\") has doubtful cases”\n"
          ]
        },
        {
          "output_type": "stream",
          "name": "stdout",
          "text": [
            "[1] 74\n"
          ]
        },
        {
          "output_type": "stream",
          "name": "stderr",
          "text": [
            "Warning message in predict.lm(reg.poly, poly_d1[, -1]):\n",
            "“prediction from rank-deficient fit; attr(*, \"non-estim\") has doubtful cases”\n",
            "Warning message in predict.lm(reg.poly, poly_test_data):\n",
            "“prediction from rank-deficient fit; attr(*, \"non-estim\") has doubtful cases”\n"
          ]
        },
        {
          "output_type": "stream",
          "name": "stdout",
          "text": [
            "[1] 75\n"
          ]
        },
        {
          "output_type": "stream",
          "name": "stderr",
          "text": [
            "Warning message in predict.lm(reg.poly, poly_d1[, -1]):\n",
            "“prediction from rank-deficient fit; attr(*, \"non-estim\") has doubtful cases”\n",
            "Warning message in predict.lm(reg.poly, poly_test_data):\n",
            "“prediction from rank-deficient fit; attr(*, \"non-estim\") has doubtful cases”\n"
          ]
        },
        {
          "output_type": "stream",
          "name": "stdout",
          "text": [
            "[1] 76\n"
          ]
        },
        {
          "output_type": "stream",
          "name": "stderr",
          "text": [
            "Warning message in predict.lm(reg.poly, poly_d1[, -1]):\n",
            "“prediction from rank-deficient fit; attr(*, \"non-estim\") has doubtful cases”\n",
            "Warning message in predict.lm(reg.poly, poly_test_data):\n",
            "“prediction from rank-deficient fit; attr(*, \"non-estim\") has doubtful cases”\n"
          ]
        },
        {
          "output_type": "stream",
          "name": "stdout",
          "text": [
            "[1] 77\n"
          ]
        },
        {
          "output_type": "stream",
          "name": "stderr",
          "text": [
            "Warning message in predict.lm(reg.poly, poly_d1[, -1]):\n",
            "“prediction from rank-deficient fit; attr(*, \"non-estim\") has doubtful cases”\n",
            "Warning message in predict.lm(reg.poly, poly_test_data):\n",
            "“prediction from rank-deficient fit; attr(*, \"non-estim\") has doubtful cases”\n"
          ]
        },
        {
          "output_type": "stream",
          "name": "stdout",
          "text": [
            "[1] 78\n"
          ]
        },
        {
          "output_type": "stream",
          "name": "stderr",
          "text": [
            "Warning message in predict.lm(reg.poly, poly_d1[, -1]):\n",
            "“prediction from rank-deficient fit; attr(*, \"non-estim\") has doubtful cases”\n",
            "Warning message in predict.lm(reg.poly, poly_test_data):\n",
            "“prediction from rank-deficient fit; attr(*, \"non-estim\") has doubtful cases”\n"
          ]
        },
        {
          "output_type": "stream",
          "name": "stdout",
          "text": [
            "[1] 79\n"
          ]
        },
        {
          "output_type": "stream",
          "name": "stderr",
          "text": [
            "Warning message in predict.lm(reg.poly, poly_d1[, -1]):\n",
            "“prediction from rank-deficient fit; attr(*, \"non-estim\") has doubtful cases”\n",
            "Warning message in predict.lm(reg.poly, poly_test_data):\n",
            "“prediction from rank-deficient fit; attr(*, \"non-estim\") has doubtful cases”\n"
          ]
        },
        {
          "output_type": "stream",
          "name": "stdout",
          "text": [
            "[1] 80\n"
          ]
        },
        {
          "output_type": "stream",
          "name": "stderr",
          "text": [
            "Warning message in predict.lm(reg.poly, poly_d1[, -1]):\n",
            "“prediction from rank-deficient fit; attr(*, \"non-estim\") has doubtful cases”\n",
            "Warning message in predict.lm(reg.poly, poly_test_data):\n",
            "“prediction from rank-deficient fit; attr(*, \"non-estim\") has doubtful cases”\n"
          ]
        },
        {
          "output_type": "stream",
          "name": "stdout",
          "text": [
            "[1] 81\n"
          ]
        },
        {
          "output_type": "stream",
          "name": "stderr",
          "text": [
            "Warning message in predict.lm(reg.poly, poly_d1[, -1]):\n",
            "“prediction from rank-deficient fit; attr(*, \"non-estim\") has doubtful cases”\n",
            "Warning message in predict.lm(reg.poly, poly_test_data):\n",
            "“prediction from rank-deficient fit; attr(*, \"non-estim\") has doubtful cases”\n"
          ]
        },
        {
          "output_type": "stream",
          "name": "stdout",
          "text": [
            "[1] 82\n"
          ]
        },
        {
          "output_type": "stream",
          "name": "stderr",
          "text": [
            "Warning message in predict.lm(reg.poly, poly_d1[, -1]):\n",
            "“prediction from rank-deficient fit; attr(*, \"non-estim\") has doubtful cases”\n",
            "Warning message in predict.lm(reg.poly, poly_test_data):\n",
            "“prediction from rank-deficient fit; attr(*, \"non-estim\") has doubtful cases”\n"
          ]
        },
        {
          "output_type": "stream",
          "name": "stdout",
          "text": [
            "[1] 83\n"
          ]
        },
        {
          "output_type": "stream",
          "name": "stderr",
          "text": [
            "Warning message in predict.lm(reg.poly, poly_d1[, -1]):\n",
            "“prediction from rank-deficient fit; attr(*, \"non-estim\") has doubtful cases”\n",
            "Warning message in predict.lm(reg.poly, poly_test_data):\n",
            "“prediction from rank-deficient fit; attr(*, \"non-estim\") has doubtful cases”\n"
          ]
        },
        {
          "output_type": "stream",
          "name": "stdout",
          "text": [
            "[1] 84\n"
          ]
        },
        {
          "output_type": "stream",
          "name": "stderr",
          "text": [
            "Warning message in predict.lm(reg.poly, poly_d1[, -1]):\n",
            "“prediction from rank-deficient fit; attr(*, \"non-estim\") has doubtful cases”\n",
            "Warning message in predict.lm(reg.poly, poly_test_data):\n",
            "“prediction from rank-deficient fit; attr(*, \"non-estim\") has doubtful cases”\n"
          ]
        },
        {
          "output_type": "stream",
          "name": "stdout",
          "text": [
            "[1] 85\n"
          ]
        },
        {
          "output_type": "stream",
          "name": "stderr",
          "text": [
            "Warning message in predict.lm(reg.poly, poly_d1[, -1]):\n",
            "“prediction from rank-deficient fit; attr(*, \"non-estim\") has doubtful cases”\n",
            "Warning message in predict.lm(reg.poly, poly_test_data):\n",
            "“prediction from rank-deficient fit; attr(*, \"non-estim\") has doubtful cases”\n"
          ]
        },
        {
          "output_type": "stream",
          "name": "stdout",
          "text": [
            "[1] 86\n"
          ]
        },
        {
          "output_type": "stream",
          "name": "stderr",
          "text": [
            "Warning message in predict.lm(reg.poly, poly_d1[, -1]):\n",
            "“prediction from rank-deficient fit; attr(*, \"non-estim\") has doubtful cases”\n",
            "Warning message in predict.lm(reg.poly, poly_test_data):\n",
            "“prediction from rank-deficient fit; attr(*, \"non-estim\") has doubtful cases”\n"
          ]
        },
        {
          "output_type": "stream",
          "name": "stdout",
          "text": [
            "[1] 87\n"
          ]
        },
        {
          "output_type": "stream",
          "name": "stderr",
          "text": [
            "Warning message in predict.lm(reg.poly, poly_d1[, -1]):\n",
            "“prediction from rank-deficient fit; attr(*, \"non-estim\") has doubtful cases”\n",
            "Warning message in predict.lm(reg.poly, poly_test_data):\n",
            "“prediction from rank-deficient fit; attr(*, \"non-estim\") has doubtful cases”\n"
          ]
        },
        {
          "output_type": "stream",
          "name": "stdout",
          "text": [
            "[1] 88\n"
          ]
        },
        {
          "output_type": "stream",
          "name": "stderr",
          "text": [
            "Warning message in predict.lm(reg.poly, poly_d1[, -1]):\n",
            "“prediction from rank-deficient fit; attr(*, \"non-estim\") has doubtful cases”\n",
            "Warning message in predict.lm(reg.poly, poly_test_data):\n",
            "“prediction from rank-deficient fit; attr(*, \"non-estim\") has doubtful cases”\n"
          ]
        },
        {
          "output_type": "stream",
          "name": "stdout",
          "text": [
            "[1] 89\n"
          ]
        },
        {
          "output_type": "stream",
          "name": "stderr",
          "text": [
            "Warning message in predict.lm(reg.poly, poly_d1[, -1]):\n",
            "“prediction from rank-deficient fit; attr(*, \"non-estim\") has doubtful cases”\n",
            "Warning message in predict.lm(reg.poly, poly_test_data):\n",
            "“prediction from rank-deficient fit; attr(*, \"non-estim\") has doubtful cases”\n"
          ]
        },
        {
          "output_type": "stream",
          "name": "stdout",
          "text": [
            "[1] 90\n"
          ]
        },
        {
          "output_type": "stream",
          "name": "stderr",
          "text": [
            "Warning message in predict.lm(reg.poly, poly_d1[, -1]):\n",
            "“prediction from rank-deficient fit; attr(*, \"non-estim\") has doubtful cases”\n",
            "Warning message in predict.lm(reg.poly, poly_test_data):\n",
            "“prediction from rank-deficient fit; attr(*, \"non-estim\") has doubtful cases”\n"
          ]
        },
        {
          "output_type": "stream",
          "name": "stdout",
          "text": [
            "[1] 91\n"
          ]
        },
        {
          "output_type": "stream",
          "name": "stderr",
          "text": [
            "Warning message in predict.lm(reg.poly, poly_d1[, -1]):\n",
            "“prediction from rank-deficient fit; attr(*, \"non-estim\") has doubtful cases”\n",
            "Warning message in predict.lm(reg.poly, poly_test_data):\n",
            "“prediction from rank-deficient fit; attr(*, \"non-estim\") has doubtful cases”\n"
          ]
        },
        {
          "output_type": "stream",
          "name": "stdout",
          "text": [
            "[1] 92\n"
          ]
        },
        {
          "output_type": "stream",
          "name": "stderr",
          "text": [
            "Warning message in predict.lm(reg.poly, poly_d1[, -1]):\n",
            "“prediction from rank-deficient fit; attr(*, \"non-estim\") has doubtful cases”\n",
            "Warning message in predict.lm(reg.poly, poly_test_data):\n",
            "“prediction from rank-deficient fit; attr(*, \"non-estim\") has doubtful cases”\n"
          ]
        },
        {
          "output_type": "stream",
          "name": "stdout",
          "text": [
            "[1] 93\n"
          ]
        },
        {
          "output_type": "stream",
          "name": "stderr",
          "text": [
            "Warning message in predict.lm(reg.poly, poly_d1[, -1]):\n",
            "“prediction from rank-deficient fit; attr(*, \"non-estim\") has doubtful cases”\n",
            "Warning message in predict.lm(reg.poly, poly_test_data):\n",
            "“prediction from rank-deficient fit; attr(*, \"non-estim\") has doubtful cases”\n"
          ]
        },
        {
          "output_type": "stream",
          "name": "stdout",
          "text": [
            "[1] 94\n"
          ]
        },
        {
          "output_type": "stream",
          "name": "stderr",
          "text": [
            "Warning message in predict.lm(reg.poly, poly_d1[, -1]):\n",
            "“prediction from rank-deficient fit; attr(*, \"non-estim\") has doubtful cases”\n",
            "Warning message in predict.lm(reg.poly, poly_test_data):\n",
            "“prediction from rank-deficient fit; attr(*, \"non-estim\") has doubtful cases”\n"
          ]
        },
        {
          "output_type": "stream",
          "name": "stdout",
          "text": [
            "[1] 95\n"
          ]
        },
        {
          "output_type": "stream",
          "name": "stderr",
          "text": [
            "Warning message in predict.lm(reg.poly, poly_d1[, -1]):\n",
            "“prediction from rank-deficient fit; attr(*, \"non-estim\") has doubtful cases”\n",
            "Warning message in predict.lm(reg.poly, poly_test_data):\n",
            "“prediction from rank-deficient fit; attr(*, \"non-estim\") has doubtful cases”\n"
          ]
        },
        {
          "output_type": "stream",
          "name": "stdout",
          "text": [
            "[1] 96\n"
          ]
        },
        {
          "output_type": "stream",
          "name": "stderr",
          "text": [
            "Warning message in predict.lm(reg.poly, poly_d1[, -1]):\n",
            "“prediction from rank-deficient fit; attr(*, \"non-estim\") has doubtful cases”\n",
            "Warning message in predict.lm(reg.poly, poly_test_data):\n",
            "“prediction from rank-deficient fit; attr(*, \"non-estim\") has doubtful cases”\n"
          ]
        },
        {
          "output_type": "stream",
          "name": "stdout",
          "text": [
            "[1] 97\n"
          ]
        },
        {
          "output_type": "stream",
          "name": "stderr",
          "text": [
            "Warning message in predict.lm(reg.poly, poly_d1[, -1]):\n",
            "“prediction from rank-deficient fit; attr(*, \"non-estim\") has doubtful cases”\n",
            "Warning message in predict.lm(reg.poly, poly_test_data):\n",
            "“prediction from rank-deficient fit; attr(*, \"non-estim\") has doubtful cases”\n"
          ]
        },
        {
          "output_type": "stream",
          "name": "stdout",
          "text": [
            "[1] 98\n"
          ]
        },
        {
          "output_type": "stream",
          "name": "stderr",
          "text": [
            "Warning message in predict.lm(reg.poly, poly_d1[, -1]):\n",
            "“prediction from rank-deficient fit; attr(*, \"non-estim\") has doubtful cases”\n",
            "Warning message in predict.lm(reg.poly, poly_test_data):\n",
            "“prediction from rank-deficient fit; attr(*, \"non-estim\") has doubtful cases”\n"
          ]
        },
        {
          "output_type": "stream",
          "name": "stdout",
          "text": [
            "[1] 99\n"
          ]
        },
        {
          "output_type": "stream",
          "name": "stderr",
          "text": [
            "Warning message in predict.lm(reg.poly, poly_d1[, -1]):\n",
            "“prediction from rank-deficient fit; attr(*, \"non-estim\") has doubtful cases”\n",
            "Warning message in predict.lm(reg.poly, poly_test_data):\n",
            "“prediction from rank-deficient fit; attr(*, \"non-estim\") has doubtful cases”\n"
          ]
        },
        {
          "output_type": "stream",
          "name": "stdout",
          "text": [
            "[1] 100\n"
          ]
        },
        {
          "output_type": "stream",
          "name": "stderr",
          "text": [
            "Warning message in predict.lm(reg.poly, poly_d1[, -1]):\n",
            "“prediction from rank-deficient fit; attr(*, \"non-estim\") has doubtful cases”\n",
            "Warning message in predict.lm(reg.poly, poly_test_data):\n",
            "“prediction from rank-deficient fit; attr(*, \"non-estim\") has doubtful cases”\n"
          ]
        },
        {
          "output_type": "stream",
          "name": "stdout",
          "text": [
            "[1] 101\n"
          ]
        },
        {
          "output_type": "stream",
          "name": "stderr",
          "text": [
            "Warning message in predict.lm(reg.poly, poly_d1[, -1]):\n",
            "“prediction from rank-deficient fit; attr(*, \"non-estim\") has doubtful cases”\n",
            "Warning message in predict.lm(reg.poly, poly_test_data):\n",
            "“prediction from rank-deficient fit; attr(*, \"non-estim\") has doubtful cases”\n"
          ]
        },
        {
          "output_type": "stream",
          "name": "stdout",
          "text": [
            "[1] 102\n"
          ]
        },
        {
          "output_type": "stream",
          "name": "stderr",
          "text": [
            "Warning message in predict.lm(reg.poly, poly_d1[, -1]):\n",
            "“prediction from rank-deficient fit; attr(*, \"non-estim\") has doubtful cases”\n",
            "Warning message in predict.lm(reg.poly, poly_test_data):\n",
            "“prediction from rank-deficient fit; attr(*, \"non-estim\") has doubtful cases”\n"
          ]
        },
        {
          "output_type": "stream",
          "name": "stdout",
          "text": [
            "[1] 103\n"
          ]
        },
        {
          "output_type": "stream",
          "name": "stderr",
          "text": [
            "Warning message in predict.lm(reg.poly, poly_d1[, -1]):\n",
            "“prediction from rank-deficient fit; attr(*, \"non-estim\") has doubtful cases”\n",
            "Warning message in predict.lm(reg.poly, poly_test_data):\n",
            "“prediction from rank-deficient fit; attr(*, \"non-estim\") has doubtful cases”\n"
          ]
        },
        {
          "output_type": "stream",
          "name": "stdout",
          "text": [
            "[1] 104\n"
          ]
        },
        {
          "output_type": "stream",
          "name": "stderr",
          "text": [
            "Warning message in predict.lm(reg.poly, poly_d1[, -1]):\n",
            "“prediction from rank-deficient fit; attr(*, \"non-estim\") has doubtful cases”\n",
            "Warning message in predict.lm(reg.poly, poly_test_data):\n",
            "“prediction from rank-deficient fit; attr(*, \"non-estim\") has doubtful cases”\n"
          ]
        },
        {
          "output_type": "stream",
          "name": "stdout",
          "text": [
            "[1] 105\n"
          ]
        },
        {
          "output_type": "stream",
          "name": "stderr",
          "text": [
            "Warning message in predict.lm(reg.poly, poly_d1[, -1]):\n",
            "“prediction from rank-deficient fit; attr(*, \"non-estim\") has doubtful cases”\n",
            "Warning message in predict.lm(reg.poly, poly_test_data):\n",
            "“prediction from rank-deficient fit; attr(*, \"non-estim\") has doubtful cases”\n"
          ]
        },
        {
          "output_type": "stream",
          "name": "stdout",
          "text": [
            "[1] 106\n"
          ]
        },
        {
          "output_type": "stream",
          "name": "stderr",
          "text": [
            "Warning message in predict.lm(reg.poly, poly_d1[, -1]):\n",
            "“prediction from rank-deficient fit; attr(*, \"non-estim\") has doubtful cases”\n",
            "Warning message in predict.lm(reg.poly, poly_test_data):\n",
            "“prediction from rank-deficient fit; attr(*, \"non-estim\") has doubtful cases”\n"
          ]
        },
        {
          "output_type": "stream",
          "name": "stdout",
          "text": [
            "[1] 107\n"
          ]
        },
        {
          "output_type": "stream",
          "name": "stderr",
          "text": [
            "Warning message in predict.lm(reg.poly, poly_d1[, -1]):\n",
            "“prediction from rank-deficient fit; attr(*, \"non-estim\") has doubtful cases”\n",
            "Warning message in predict.lm(reg.poly, poly_test_data):\n",
            "“prediction from rank-deficient fit; attr(*, \"non-estim\") has doubtful cases”\n"
          ]
        },
        {
          "output_type": "stream",
          "name": "stdout",
          "text": [
            "[1] 108\n"
          ]
        },
        {
          "output_type": "stream",
          "name": "stderr",
          "text": [
            "Warning message in predict.lm(reg.poly, poly_d1[, -1]):\n",
            "“prediction from rank-deficient fit; attr(*, \"non-estim\") has doubtful cases”\n",
            "Warning message in predict.lm(reg.poly, poly_test_data):\n",
            "“prediction from rank-deficient fit; attr(*, \"non-estim\") has doubtful cases”\n"
          ]
        },
        {
          "output_type": "stream",
          "name": "stdout",
          "text": [
            "[1] 109\n"
          ]
        },
        {
          "output_type": "stream",
          "name": "stderr",
          "text": [
            "Warning message in predict.lm(reg.poly, poly_d1[, -1]):\n",
            "“prediction from rank-deficient fit; attr(*, \"non-estim\") has doubtful cases”\n",
            "Warning message in predict.lm(reg.poly, poly_test_data):\n",
            "“prediction from rank-deficient fit; attr(*, \"non-estim\") has doubtful cases”\n"
          ]
        },
        {
          "output_type": "stream",
          "name": "stdout",
          "text": [
            "[1] 110\n"
          ]
        },
        {
          "output_type": "stream",
          "name": "stderr",
          "text": [
            "Warning message in predict.lm(reg.poly, poly_d1[, -1]):\n",
            "“prediction from rank-deficient fit; attr(*, \"non-estim\") has doubtful cases”\n",
            "Warning message in predict.lm(reg.poly, poly_test_data):\n",
            "“prediction from rank-deficient fit; attr(*, \"non-estim\") has doubtful cases”\n"
          ]
        },
        {
          "output_type": "stream",
          "name": "stdout",
          "text": [
            "[1] 111\n"
          ]
        },
        {
          "output_type": "stream",
          "name": "stderr",
          "text": [
            "Warning message in predict.lm(reg.poly, poly_d1[, -1]):\n",
            "“prediction from rank-deficient fit; attr(*, \"non-estim\") has doubtful cases”\n",
            "Warning message in predict.lm(reg.poly, poly_test_data):\n",
            "“prediction from rank-deficient fit; attr(*, \"non-estim\") has doubtful cases”\n"
          ]
        },
        {
          "output_type": "stream",
          "name": "stdout",
          "text": [
            "[1] 112\n"
          ]
        },
        {
          "output_type": "stream",
          "name": "stderr",
          "text": [
            "Warning message in predict.lm(reg.poly, poly_d1[, -1]):\n",
            "“prediction from rank-deficient fit; attr(*, \"non-estim\") has doubtful cases”\n",
            "Warning message in predict.lm(reg.poly, poly_test_data):\n",
            "“prediction from rank-deficient fit; attr(*, \"non-estim\") has doubtful cases”\n"
          ]
        },
        {
          "output_type": "stream",
          "name": "stdout",
          "text": [
            "[1] 113\n"
          ]
        },
        {
          "output_type": "stream",
          "name": "stderr",
          "text": [
            "Warning message in predict.lm(reg.poly, poly_d1[, -1]):\n",
            "“prediction from rank-deficient fit; attr(*, \"non-estim\") has doubtful cases”\n",
            "Warning message in predict.lm(reg.poly, poly_test_data):\n",
            "“prediction from rank-deficient fit; attr(*, \"non-estim\") has doubtful cases”\n"
          ]
        },
        {
          "output_type": "stream",
          "name": "stdout",
          "text": [
            "[1] 114\n"
          ]
        },
        {
          "output_type": "stream",
          "name": "stderr",
          "text": [
            "Warning message in predict.lm(reg.poly, poly_d1[, -1]):\n",
            "“prediction from rank-deficient fit; attr(*, \"non-estim\") has doubtful cases”\n",
            "Warning message in predict.lm(reg.poly, poly_test_data):\n",
            "“prediction from rank-deficient fit; attr(*, \"non-estim\") has doubtful cases”\n"
          ]
        },
        {
          "output_type": "stream",
          "name": "stdout",
          "text": [
            "[1] 115\n"
          ]
        },
        {
          "output_type": "stream",
          "name": "stderr",
          "text": [
            "Warning message in predict.lm(reg.poly, poly_d1[, -1]):\n",
            "“prediction from rank-deficient fit; attr(*, \"non-estim\") has doubtful cases”\n",
            "Warning message in predict.lm(reg.poly, poly_test_data):\n",
            "“prediction from rank-deficient fit; attr(*, \"non-estim\") has doubtful cases”\n"
          ]
        },
        {
          "output_type": "stream",
          "name": "stdout",
          "text": [
            "[1] 116\n"
          ]
        },
        {
          "output_type": "stream",
          "name": "stderr",
          "text": [
            "Warning message in predict.lm(reg.poly, poly_d1[, -1]):\n",
            "“prediction from rank-deficient fit; attr(*, \"non-estim\") has doubtful cases”\n",
            "Warning message in predict.lm(reg.poly, poly_test_data):\n",
            "“prediction from rank-deficient fit; attr(*, \"non-estim\") has doubtful cases”\n"
          ]
        },
        {
          "output_type": "stream",
          "name": "stdout",
          "text": [
            "[1] 117\n"
          ]
        },
        {
          "output_type": "stream",
          "name": "stderr",
          "text": [
            "Warning message in predict.lm(reg.poly, poly_d1[, -1]):\n",
            "“prediction from rank-deficient fit; attr(*, \"non-estim\") has doubtful cases”\n",
            "Warning message in predict.lm(reg.poly, poly_test_data):\n",
            "“prediction from rank-deficient fit; attr(*, \"non-estim\") has doubtful cases”\n"
          ]
        },
        {
          "output_type": "stream",
          "name": "stdout",
          "text": [
            "[1] 118\n"
          ]
        },
        {
          "output_type": "stream",
          "name": "stderr",
          "text": [
            "Warning message in predict.lm(reg.poly, poly_d1[, -1]):\n",
            "“prediction from rank-deficient fit; attr(*, \"non-estim\") has doubtful cases”\n",
            "Warning message in predict.lm(reg.poly, poly_test_data):\n",
            "“prediction from rank-deficient fit; attr(*, \"non-estim\") has doubtful cases”\n"
          ]
        },
        {
          "output_type": "stream",
          "name": "stdout",
          "text": [
            "[1] 119\n"
          ]
        },
        {
          "output_type": "stream",
          "name": "stderr",
          "text": [
            "Warning message in predict.lm(reg.poly, poly_d1[, -1]):\n",
            "“prediction from rank-deficient fit; attr(*, \"non-estim\") has doubtful cases”\n",
            "Warning message in predict.lm(reg.poly, poly_test_data):\n",
            "“prediction from rank-deficient fit; attr(*, \"non-estim\") has doubtful cases”\n"
          ]
        },
        {
          "output_type": "stream",
          "name": "stdout",
          "text": [
            "[1] 120\n"
          ]
        },
        {
          "output_type": "stream",
          "name": "stderr",
          "text": [
            "Warning message in predict.lm(reg.poly, poly_d1[, -1]):\n",
            "“prediction from rank-deficient fit; attr(*, \"non-estim\") has doubtful cases”\n",
            "Warning message in predict.lm(reg.poly, poly_test_data):\n",
            "“prediction from rank-deficient fit; attr(*, \"non-estim\") has doubtful cases”\n"
          ]
        },
        {
          "output_type": "stream",
          "name": "stdout",
          "text": [
            "[1] 121\n"
          ]
        },
        {
          "output_type": "stream",
          "name": "stderr",
          "text": [
            "Warning message in predict.lm(reg.poly, poly_d1[, -1]):\n",
            "“prediction from rank-deficient fit; attr(*, \"non-estim\") has doubtful cases”\n",
            "Warning message in predict.lm(reg.poly, poly_test_data):\n",
            "“prediction from rank-deficient fit; attr(*, \"non-estim\") has doubtful cases”\n"
          ]
        },
        {
          "output_type": "stream",
          "name": "stdout",
          "text": [
            "[1] 122\n"
          ]
        },
        {
          "output_type": "stream",
          "name": "stderr",
          "text": [
            "Warning message in predict.lm(reg.poly, poly_d1[, -1]):\n",
            "“prediction from rank-deficient fit; attr(*, \"non-estim\") has doubtful cases”\n",
            "Warning message in predict.lm(reg.poly, poly_test_data):\n",
            "“prediction from rank-deficient fit; attr(*, \"non-estim\") has doubtful cases”\n"
          ]
        },
        {
          "output_type": "stream",
          "name": "stdout",
          "text": [
            "[1] 123\n"
          ]
        },
        {
          "output_type": "stream",
          "name": "stderr",
          "text": [
            "Warning message in predict.lm(reg.poly, poly_d1[, -1]):\n",
            "“prediction from rank-deficient fit; attr(*, \"non-estim\") has doubtful cases”\n",
            "Warning message in predict.lm(reg.poly, poly_test_data):\n",
            "“prediction from rank-deficient fit; attr(*, \"non-estim\") has doubtful cases”\n"
          ]
        },
        {
          "output_type": "stream",
          "name": "stdout",
          "text": [
            "[1] 124\n"
          ]
        },
        {
          "output_type": "stream",
          "name": "stderr",
          "text": [
            "Warning message in predict.lm(reg.poly, poly_d1[, -1]):\n",
            "“prediction from rank-deficient fit; attr(*, \"non-estim\") has doubtful cases”\n",
            "Warning message in predict.lm(reg.poly, poly_test_data):\n",
            "“prediction from rank-deficient fit; attr(*, \"non-estim\") has doubtful cases”\n"
          ]
        },
        {
          "output_type": "stream",
          "name": "stdout",
          "text": [
            "[1] 125\n"
          ]
        },
        {
          "output_type": "stream",
          "name": "stderr",
          "text": [
            "Warning message in predict.lm(reg.poly, poly_d1[, -1]):\n",
            "“prediction from rank-deficient fit; attr(*, \"non-estim\") has doubtful cases”\n",
            "Warning message in predict.lm(reg.poly, poly_test_data):\n",
            "“prediction from rank-deficient fit; attr(*, \"non-estim\") has doubtful cases”\n"
          ]
        },
        {
          "output_type": "stream",
          "name": "stdout",
          "text": [
            "[1] 126\n"
          ]
        },
        {
          "output_type": "stream",
          "name": "stderr",
          "text": [
            "Warning message in predict.lm(reg.poly, poly_d1[, -1]):\n",
            "“prediction from rank-deficient fit; attr(*, \"non-estim\") has doubtful cases”\n",
            "Warning message in predict.lm(reg.poly, poly_test_data):\n",
            "“prediction from rank-deficient fit; attr(*, \"non-estim\") has doubtful cases”\n"
          ]
        },
        {
          "output_type": "stream",
          "name": "stdout",
          "text": [
            "[1] 127\n"
          ]
        },
        {
          "output_type": "stream",
          "name": "stderr",
          "text": [
            "Warning message in predict.lm(reg.poly, poly_d1[, -1]):\n",
            "“prediction from rank-deficient fit; attr(*, \"non-estim\") has doubtful cases”\n",
            "Warning message in predict.lm(reg.poly, poly_test_data):\n",
            "“prediction from rank-deficient fit; attr(*, \"non-estim\") has doubtful cases”\n"
          ]
        },
        {
          "output_type": "stream",
          "name": "stdout",
          "text": [
            "[1] 128\n"
          ]
        },
        {
          "output_type": "stream",
          "name": "stderr",
          "text": [
            "Warning message in predict.lm(reg.poly, poly_d1[, -1]):\n",
            "“prediction from rank-deficient fit; attr(*, \"non-estim\") has doubtful cases”\n",
            "Warning message in predict.lm(reg.poly, poly_test_data):\n",
            "“prediction from rank-deficient fit; attr(*, \"non-estim\") has doubtful cases”\n"
          ]
        },
        {
          "output_type": "stream",
          "name": "stdout",
          "text": [
            "[1] 129\n"
          ]
        },
        {
          "output_type": "stream",
          "name": "stderr",
          "text": [
            "Warning message in predict.lm(reg.poly, poly_d1[, -1]):\n",
            "“prediction from rank-deficient fit; attr(*, \"non-estim\") has doubtful cases”\n",
            "Warning message in predict.lm(reg.poly, poly_test_data):\n",
            "“prediction from rank-deficient fit; attr(*, \"non-estim\") has doubtful cases”\n"
          ]
        },
        {
          "output_type": "stream",
          "name": "stdout",
          "text": [
            "[1] 130\n"
          ]
        },
        {
          "output_type": "stream",
          "name": "stderr",
          "text": [
            "Warning message in predict.lm(reg.poly, poly_d1[, -1]):\n",
            "“prediction from rank-deficient fit; attr(*, \"non-estim\") has doubtful cases”\n",
            "Warning message in predict.lm(reg.poly, poly_test_data):\n",
            "“prediction from rank-deficient fit; attr(*, \"non-estim\") has doubtful cases”\n"
          ]
        },
        {
          "output_type": "stream",
          "name": "stdout",
          "text": [
            "[1] 131\n"
          ]
        },
        {
          "output_type": "stream",
          "name": "stderr",
          "text": [
            "Warning message in predict.lm(reg.poly, poly_d1[, -1]):\n",
            "“prediction from rank-deficient fit; attr(*, \"non-estim\") has doubtful cases”\n",
            "Warning message in predict.lm(reg.poly, poly_test_data):\n",
            "“prediction from rank-deficient fit; attr(*, \"non-estim\") has doubtful cases”\n"
          ]
        },
        {
          "output_type": "stream",
          "name": "stdout",
          "text": [
            "[1] 132\n"
          ]
        },
        {
          "output_type": "stream",
          "name": "stderr",
          "text": [
            "Warning message in predict.lm(reg.poly, poly_d1[, -1]):\n",
            "“prediction from rank-deficient fit; attr(*, \"non-estim\") has doubtful cases”\n",
            "Warning message in predict.lm(reg.poly, poly_test_data):\n",
            "“prediction from rank-deficient fit; attr(*, \"non-estim\") has doubtful cases”\n"
          ]
        },
        {
          "output_type": "stream",
          "name": "stdout",
          "text": [
            "[1] 133\n"
          ]
        },
        {
          "output_type": "stream",
          "name": "stderr",
          "text": [
            "Warning message in predict.lm(reg.poly, poly_d1[, -1]):\n",
            "“prediction from rank-deficient fit; attr(*, \"non-estim\") has doubtful cases”\n",
            "Warning message in predict.lm(reg.poly, poly_test_data):\n",
            "“prediction from rank-deficient fit; attr(*, \"non-estim\") has doubtful cases”\n"
          ]
        },
        {
          "output_type": "stream",
          "name": "stdout",
          "text": [
            "[1] 134\n"
          ]
        },
        {
          "output_type": "stream",
          "name": "stderr",
          "text": [
            "Warning message in predict.lm(reg.poly, poly_d1[, -1]):\n",
            "“prediction from rank-deficient fit; attr(*, \"non-estim\") has doubtful cases”\n",
            "Warning message in predict.lm(reg.poly, poly_test_data):\n",
            "“prediction from rank-deficient fit; attr(*, \"non-estim\") has doubtful cases”\n"
          ]
        },
        {
          "output_type": "stream",
          "name": "stdout",
          "text": [
            "[1] 135\n"
          ]
        },
        {
          "output_type": "stream",
          "name": "stderr",
          "text": [
            "Warning message in predict.lm(reg.poly, poly_d1[, -1]):\n",
            "“prediction from rank-deficient fit; attr(*, \"non-estim\") has doubtful cases”\n",
            "Warning message in predict.lm(reg.poly, poly_test_data):\n",
            "“prediction from rank-deficient fit; attr(*, \"non-estim\") has doubtful cases”\n"
          ]
        },
        {
          "output_type": "stream",
          "name": "stdout",
          "text": [
            "[1] 136\n"
          ]
        },
        {
          "output_type": "stream",
          "name": "stderr",
          "text": [
            "Warning message in predict.lm(reg.poly, poly_d1[, -1]):\n",
            "“prediction from rank-deficient fit; attr(*, \"non-estim\") has doubtful cases”\n",
            "Warning message in predict.lm(reg.poly, poly_test_data):\n",
            "“prediction from rank-deficient fit; attr(*, \"non-estim\") has doubtful cases”\n"
          ]
        },
        {
          "output_type": "stream",
          "name": "stdout",
          "text": [
            "[1] 137\n"
          ]
        },
        {
          "output_type": "stream",
          "name": "stderr",
          "text": [
            "Warning message in predict.lm(reg.poly, poly_d1[, -1]):\n",
            "“prediction from rank-deficient fit; attr(*, \"non-estim\") has doubtful cases”\n",
            "Warning message in predict.lm(reg.poly, poly_test_data):\n",
            "“prediction from rank-deficient fit; attr(*, \"non-estim\") has doubtful cases”\n"
          ]
        },
        {
          "output_type": "stream",
          "name": "stdout",
          "text": [
            "[1] 138\n"
          ]
        },
        {
          "output_type": "stream",
          "name": "stderr",
          "text": [
            "Warning message in predict.lm(reg.poly, poly_d1[, -1]):\n",
            "“prediction from rank-deficient fit; attr(*, \"non-estim\") has doubtful cases”\n",
            "Warning message in predict.lm(reg.poly, poly_test_data):\n",
            "“prediction from rank-deficient fit; attr(*, \"non-estim\") has doubtful cases”\n"
          ]
        },
        {
          "output_type": "stream",
          "name": "stdout",
          "text": [
            "[1] 139\n"
          ]
        },
        {
          "output_type": "stream",
          "name": "stderr",
          "text": [
            "Warning message in predict.lm(reg.poly, poly_d1[, -1]):\n",
            "“prediction from rank-deficient fit; attr(*, \"non-estim\") has doubtful cases”\n",
            "Warning message in predict.lm(reg.poly, poly_test_data):\n",
            "“prediction from rank-deficient fit; attr(*, \"non-estim\") has doubtful cases”\n"
          ]
        },
        {
          "output_type": "stream",
          "name": "stdout",
          "text": [
            "[1] 140\n"
          ]
        },
        {
          "output_type": "stream",
          "name": "stderr",
          "text": [
            "Warning message in predict.lm(reg.poly, poly_d1[, -1]):\n",
            "“prediction from rank-deficient fit; attr(*, \"non-estim\") has doubtful cases”\n",
            "Warning message in predict.lm(reg.poly, poly_test_data):\n",
            "“prediction from rank-deficient fit; attr(*, \"non-estim\") has doubtful cases”\n"
          ]
        },
        {
          "output_type": "stream",
          "name": "stdout",
          "text": [
            "[1] 141\n"
          ]
        },
        {
          "output_type": "stream",
          "name": "stderr",
          "text": [
            "Warning message in predict.lm(reg.poly, poly_d1[, -1]):\n",
            "“prediction from rank-deficient fit; attr(*, \"non-estim\") has doubtful cases”\n",
            "Warning message in predict.lm(reg.poly, poly_test_data):\n",
            "“prediction from rank-deficient fit; attr(*, \"non-estim\") has doubtful cases”\n"
          ]
        },
        {
          "output_type": "stream",
          "name": "stdout",
          "text": [
            "[1] 142\n"
          ]
        },
        {
          "output_type": "stream",
          "name": "stderr",
          "text": [
            "Warning message in predict.lm(reg.poly, poly_d1[, -1]):\n",
            "“prediction from rank-deficient fit; attr(*, \"non-estim\") has doubtful cases”\n",
            "Warning message in predict.lm(reg.poly, poly_test_data):\n",
            "“prediction from rank-deficient fit; attr(*, \"non-estim\") has doubtful cases”\n"
          ]
        },
        {
          "output_type": "stream",
          "name": "stdout",
          "text": [
            "[1] 143\n"
          ]
        },
        {
          "output_type": "stream",
          "name": "stderr",
          "text": [
            "Warning message in predict.lm(reg.poly, poly_d1[, -1]):\n",
            "“prediction from rank-deficient fit; attr(*, \"non-estim\") has doubtful cases”\n",
            "Warning message in predict.lm(reg.poly, poly_test_data):\n",
            "“prediction from rank-deficient fit; attr(*, \"non-estim\") has doubtful cases”\n"
          ]
        },
        {
          "output_type": "stream",
          "name": "stdout",
          "text": [
            "[1] 144\n"
          ]
        },
        {
          "output_type": "stream",
          "name": "stderr",
          "text": [
            "Warning message in predict.lm(reg.poly, poly_d1[, -1]):\n",
            "“prediction from rank-deficient fit; attr(*, \"non-estim\") has doubtful cases”\n",
            "Warning message in predict.lm(reg.poly, poly_test_data):\n",
            "“prediction from rank-deficient fit; attr(*, \"non-estim\") has doubtful cases”\n"
          ]
        },
        {
          "output_type": "stream",
          "name": "stdout",
          "text": [
            "[1] 145\n"
          ]
        },
        {
          "output_type": "stream",
          "name": "stderr",
          "text": [
            "Warning message in predict.lm(reg.poly, poly_d1[, -1]):\n",
            "“prediction from rank-deficient fit; attr(*, \"non-estim\") has doubtful cases”\n",
            "Warning message in predict.lm(reg.poly, poly_test_data):\n",
            "“prediction from rank-deficient fit; attr(*, \"non-estim\") has doubtful cases”\n"
          ]
        },
        {
          "output_type": "stream",
          "name": "stdout",
          "text": [
            "[1] 146\n"
          ]
        },
        {
          "output_type": "stream",
          "name": "stderr",
          "text": [
            "Warning message in predict.lm(reg.poly, poly_d1[, -1]):\n",
            "“prediction from rank-deficient fit; attr(*, \"non-estim\") has doubtful cases”\n",
            "Warning message in predict.lm(reg.poly, poly_test_data):\n",
            "“prediction from rank-deficient fit; attr(*, \"non-estim\") has doubtful cases”\n"
          ]
        },
        {
          "output_type": "stream",
          "name": "stdout",
          "text": [
            "[1] 147\n"
          ]
        },
        {
          "output_type": "stream",
          "name": "stderr",
          "text": [
            "Warning message in predict.lm(reg.poly, poly_d1[, -1]):\n",
            "“prediction from rank-deficient fit; attr(*, \"non-estim\") has doubtful cases”\n",
            "Warning message in predict.lm(reg.poly, poly_test_data):\n",
            "“prediction from rank-deficient fit; attr(*, \"non-estim\") has doubtful cases”\n"
          ]
        },
        {
          "output_type": "stream",
          "name": "stdout",
          "text": [
            "[1] 148\n"
          ]
        },
        {
          "output_type": "stream",
          "name": "stderr",
          "text": [
            "Warning message in predict.lm(reg.poly, poly_d1[, -1]):\n",
            "“prediction from rank-deficient fit; attr(*, \"non-estim\") has doubtful cases”\n",
            "Warning message in predict.lm(reg.poly, poly_test_data):\n",
            "“prediction from rank-deficient fit; attr(*, \"non-estim\") has doubtful cases”\n"
          ]
        },
        {
          "output_type": "stream",
          "name": "stdout",
          "text": [
            "[1] 149\n"
          ]
        },
        {
          "output_type": "stream",
          "name": "stderr",
          "text": [
            "Warning message in predict.lm(reg.poly, poly_d1[, -1]):\n",
            "“prediction from rank-deficient fit; attr(*, \"non-estim\") has doubtful cases”\n",
            "Warning message in predict.lm(reg.poly, poly_test_data):\n",
            "“prediction from rank-deficient fit; attr(*, \"non-estim\") has doubtful cases”\n"
          ]
        },
        {
          "output_type": "stream",
          "name": "stdout",
          "text": [
            "[1] 150\n"
          ]
        },
        {
          "output_type": "display_data",
          "data": {
            "text/plain": [
              "plot without title"
            ],
            "image/png": "[encoded data removed]"
          },
          "metadata": {
            "image/png": {
              "width": 420,
              "height": 420
            }
          }
        }
      ],
      "source": [
        "# WRITE YOUR CODE HERE\n",
        "\n",
        "# Now do the variance-bias trade off analysis using regular regression\n",
        "degree = seq(2,150)\n",
        "\n",
        "# Need to setup your output vectors\n",
        "train_rss = matrix(data=NA,nrow=length(degree),ncol=1)\n",
        "test_rss = matrix(data=NA,nrow=length(degree),ncol=1)\n",
        "count=1\n",
        "\n",
        "#print(length(unique(d1_train$x)))\n",
        "#poly(d1_train$x,24)\n",
        "# it won't work for polynomial higher than 24...\n",
        "# use \"raw = TRUE\" argument\n",
        "#poly(d1_train$x,24, raw = TRUE)\n",
        "\n",
        "for (k in degree) {\n",
        "    # WRITE YOUR CODE HERE\n",
        "    new_x<-poly(d1_train$x,k, raw = TRUE)\n",
        "    poly_d1<-cbind(d1_train$y,new_x)\n",
        "    colnames(poly_d1)[1]<-\"y\"\n",
        "    poly_d1<-as.data.frame(poly_d1)\n",
        "    head(poly_d1)\n",
        "\n",
        "    reg.poly<-lm(y ~ ., data = poly_d1)\n",
        "\n",
        "    predicted_y<-predict(reg.poly,poly_d1[,-1])\n",
        "    train_rss[count]<-median((d1_train$y-predicted_y)^2)\n",
        "\n",
        "    poly_test_data<-as.data.frame(poly(d1_test$x,k, raw = TRUE))\n",
        "\n",
        "    predicted_y<-predict(reg.poly,poly_test_data)\n",
        "    test_rss[count]<-median((d1_test$y-predicted_y)^2)\n",
        "\n",
        "    count <- count + 1\n",
        "    print(count)\n",
        "}\n",
        "\n",
        "# Plot your results here\n",
        "# WRITE YOUR CODE HERE\n",
        "output_rss<-data.frame(degree=degree, train_medianse=train_rss, test_medianse=test_rss)\n",
        "ggplot(output_rss, aes(degree, train_medianse)) +\n",
        "  geom_point() +\n",
        "  geom_point(aes(degree, test_medianse), color = \"red\") +\n",
        "  geom_vline(xintercept = 50, color = \"blue\")\n"
      ]
    },
    {
      "cell_type": "markdown",
      "metadata": {
        "id": "JsiaI7CNBujn"
      },
      "source": [
        "What do you see as $k$ gets larger than $n$?\n",
        "\n",
        "> *Write your response here*\n",
        "> It appeas that as k gets larger than n, train median square error stays close to 0 (so many parameters fit the noise/overfit to the training data reducing error to near 0), but it comes at the cost of worse test median square error, it gets worse overall with larger k and looks like it fluctuates a bit (which makes sense give that with k > n, we have no unique solution so estimates can become unstable)."
      ]
    },
    {
      "cell_type": "markdown",
      "metadata": {
        "id": "ez8Cy8anBujn"
      },
      "source": [
        "---\n",
        "## 3. Applying regularization to the model fits (2 points)"
      ]
    },
    {
      "cell_type": "markdown",
      "metadata": {
        "id": "NFAAGungBujn"
      },
      "source": [
        "Repeat the previous bias-variance tradeoff test, going up to $k=150$, but now use ridge regression with a sparsity parameter of $\\lambda=0.00005$. Plot your results the same way as last time."
      ]
    },
    {
      "cell_type": "code",
      "execution_count": 20,
      "metadata": {
        "id": "0uVdEguGBujn",
        "vscode": {
          "languageId": "r"
        },
        "colab": {
          "base_uri": "https://localhost:8080/",
          "height": 1000
        },
        "outputId": "7746215f-b015-4f87-bef6-7fd395fc2c78"
      },
      "outputs": [
        {
          "output_type": "stream",
          "name": "stdout",
          "text": [
            "[1] 2\n",
            "[1] 3\n",
            "[1] 4\n",
            "[1] 5\n",
            "[1] 6\n",
            "[1] 7\n",
            "[1] 8\n",
            "[1] 9\n",
            "[1] 10\n",
            "[1] 11\n",
            "[1] 12\n",
            "[1] 13\n",
            "[1] 14\n",
            "[1] 15\n",
            "[1] 16\n",
            "[1] 17\n",
            "[1] 18\n",
            "[1] 19\n",
            "[1] 20\n",
            "[1] 21\n",
            "[1] 22\n",
            "[1] 23\n",
            "[1] 24\n",
            "[1] 25\n",
            "[1] 26\n",
            "[1] 27\n",
            "[1] 28\n",
            "[1] 29\n",
            "[1] 30\n",
            "[1] 31\n",
            "[1] 32\n",
            "[1] 33\n",
            "[1] 34\n",
            "[1] 35\n",
            "[1] 36\n",
            "[1] 37\n",
            "[1] 38\n",
            "[1] 39\n",
            "[1] 40\n",
            "[1] 41\n",
            "[1] 42\n",
            "[1] 43\n",
            "[1] 44\n",
            "[1] 45\n",
            "[1] 46\n",
            "[1] 47\n",
            "[1] 48\n",
            "[1] 49\n",
            "[1] 50\n",
            "[1] 51\n",
            "[1] 52\n",
            "[1] 53\n",
            "[1] 54\n",
            "[1] 55\n",
            "[1] 56\n",
            "[1] 57\n",
            "[1] 58\n",
            "[1] 59\n",
            "[1] 60\n",
            "[1] 61\n",
            "[1] 62\n",
            "[1] 63\n",
            "[1] 64\n",
            "[1] 65\n",
            "[1] 66\n",
            "[1] 67\n",
            "[1] 68\n",
            "[1] 69\n",
            "[1] 70\n",
            "[1] 71\n",
            "[1] 72\n",
            "[1] 73\n",
            "[1] 74\n",
            "[1] 75\n",
            "[1] 76\n",
            "[1] 77\n",
            "[1] 78\n",
            "[1] 79\n",
            "[1] 80\n",
            "[1] 81\n",
            "[1] 82\n",
            "[1] 83\n",
            "[1] 84\n",
            "[1] 85\n",
            "[1] 86\n",
            "[1] 87\n",
            "[1] 88\n",
            "[1] 89\n",
            "[1] 90\n",
            "[1] 91\n",
            "[1] 92\n",
            "[1] 93\n",
            "[1] 94\n",
            "[1] 95\n",
            "[1] 96\n",
            "[1] 97\n",
            "[1] 98\n",
            "[1] 99\n",
            "[1] 100\n",
            "[1] 101\n",
            "[1] 102\n",
            "[1] 103\n",
            "[1] 104\n",
            "[1] 105\n",
            "[1] 106\n",
            "[1] 107\n",
            "[1] 108\n",
            "[1] 109\n",
            "[1] 110\n",
            "[1] 111\n",
            "[1] 112\n",
            "[1] 113\n",
            "[1] 114\n",
            "[1] 115\n",
            "[1] 116\n",
            "[1] 117\n",
            "[1] 118\n",
            "[1] 119\n",
            "[1] 120\n",
            "[1] 121\n",
            "[1] 122\n",
            "[1] 123\n",
            "[1] 124\n",
            "[1] 125\n",
            "[1] 126\n",
            "[1] 127\n",
            "[1] 128\n",
            "[1] 129\n",
            "[1] 130\n",
            "[1] 131\n",
            "[1] 132\n",
            "[1] 133\n",
            "[1] 134\n",
            "[1] 135\n",
            "[1] 136\n",
            "[1] 137\n",
            "[1] 138\n",
            "[1] 139\n",
            "[1] 140\n",
            "[1] 141\n",
            "[1] 142\n",
            "[1] 143\n",
            "[1] 144\n",
            "[1] 145\n",
            "[1] 146\n",
            "[1] 147\n",
            "[1] 148\n",
            "[1] 149\n",
            "[1] 150\n"
          ]
        },
        {
          "output_type": "display_data",
          "data": {
            "text/plain": [
              "plot without title"
            ],
            "image/png": "[encoded data removed]"
          },
          "metadata": {
            "image/png": {
              "width": 420,
              "height": 420
            }
          }
        }
      ],
      "source": [
        "# Now do the variance-bias trade off analysis using ridge regression\n",
        "lambda=0.00005\n",
        "degree = seq(2,150)\n",
        "\n",
        "rm(train_rss, test_rss)\n",
        "train_rss = matrix(data=NA,nrow=length(degree),ncol=1)\n",
        "test_rss = matrix(data=NA,nrow=length(degree),ncol=1)\n",
        "count=1\n",
        "\n",
        "for (k in degree) {\n",
        "    # WRITE YOUR CODE HERE\n",
        "    new_x<-poly(d1_train$x,k, raw = TRUE)\n",
        "    poly_d1<-cbind(d1_train$y,new_x)\n",
        "    colnames(poly_d1)[1]<-\"y\"\n",
        "    poly_d1<-as.data.frame(poly_d1)\n",
        "    head(poly_d1)\n",
        "\n",
        "    x = model.matrix(y~., poly_d1)[,-1]\n",
        "    y = poly_d1$y\n",
        "    reg.poly<-glmnet(x, y, alpha=0, lambda=lambda)\n",
        "\n",
        "    predicted_y<-predict(reg.poly,new_x)\n",
        "    train_rss[count]<-median((d1_train$y-predicted_y)^2)\n",
        "\n",
        "    poly_test_data<-poly(d1_test$x,k, raw = TRUE)\n",
        "\n",
        "    predicted_y<-predict(reg.poly,poly_test_data)\n",
        "    test_rss[count]<-median((d1_test$y-predicted_y)^2)\n",
        "\n",
        "    count <- count + 1\n",
        "    print(count)\n",
        "}\n",
        "\n",
        "# Plot your results here\n",
        "# WRITE YOUR CODE HERE\n",
        "output_rss<-data.frame(degree=degree, train_medianse=train_rss, test_medianse=test_rss)\n",
        "ggplot(output_rss, aes(degree, train_medianse)) +\n",
        "  geom_point() +\n",
        "  geom_point(aes(degree, test_medianse), color = \"red\") +\n",
        "  geom_vline(xintercept = 50, color = \"blue\")"
      ]
    },
    {
      "cell_type": "markdown",
      "metadata": {
        "id": "5IF6tO_uBujo"
      },
      "source": [
        "What happens now when $k$ gets larger than $n$?\n",
        "\n",
        "> *Write your response here*\n",
        "> Generally the test median squared error is lower here (although the train median se is higher, which makes sense because ridge penalizes complexity so it pushes some of the coefficients towards 0 away from the estimate that would best fit the training data). It does appear that when k gets larger than n, generally it's the case that test mse gets worse, although there is a small degree space where test mse actually improves noticeably before getting worse again."
      ]
    },
    {
      "cell_type": "markdown",
      "metadata": {
        "id": "5zheO4rLBujo"
      },
      "source": [
        "---\n",
        "## 4. Reflection (2 points)"
      ]
    },
    {
      "cell_type": "markdown",
      "metadata": {
        "id": "T-65QvdnBujo"
      },
      "source": [
        "The simulations above should have shown that, when applying a regularization (i.e., a sparsity constraint), the behavior of the bias-variance tradeoff changes. Explain why this happens."
      ]
    },
    {
      "cell_type": "markdown",
      "metadata": {
        "id": "dkM1H1_WBujo"
      },
      "source": [
        "> *Write your response here*\n",
        "> This happens because the regularization technique pushes some weakly predictive parameters towards 0. It reduces their influence and biases the parameter estimates. This explains why performance on the training set is a little worse (because of the biased parameters estimes) but this increased bias trades off for decreased variance, so that the performance on the test set is a little better. It also means that even when fitting very complex models, the strongly predictive variables will come through while the weakly predictive ones are pushed near 0 so that overfitting is not as much of an issue and so having more parameters for the model to work with could actually sometimes improve performance."
      ]
    },
    {
      "cell_type": "markdown",
      "metadata": {
        "id": "ietUafKfBujo"
      },
      "source": [
        "---\n",
        "## Bonus (1 extra credit point)\n",
        "Recall that the $p=n$ threshold defines the limit for finding a *unique* solution to $Y=F(X)$ (i.e., there is only one combination of regression coefficients that is *best* at explaining variance in $Y$). With this in mind, what is regularization doing that works around this upper limit?"
      ]
    },
    {
      "cell_type": "markdown",
      "metadata": {
        "id": "eo5eCrpuBujp"
      },
      "source": [
        "> *Write your response here*\n",
        "> In the matrix algebra, adding the constraint adds a lambda parameter across the diagonals of the matrix so that it becomes invertible so that one can calculate a unique solution. By pushing certain coefficients to near 0 (adding an additional constraint) it allows us to have a unique solution -- I guess the intuition here is that forcing a certain outcome for the parameter estimates in order to satisfy this constraint, it pins down certain parameter estimates so that there exists a unique solution for the remaining coefficients.  "
      ]
    },
    {
      "cell_type": "markdown",
      "metadata": {
        "id": "HmcAxEQCBujp"
      },
      "source": [
        "**DUE:** 5pm EST, April 10, 2024"
      ]
    },
    {
      "cell_type": "markdown",
      "metadata": {
        "id": "hYdsoRobBujp"
      },
      "source": [
        "**IMPORTANT** Did you collaborate with anyone on this assignment? If so, list their names here.\n",
        "> *Someone's Name*"
      ]
    }
  ],
  "metadata": {
    "colab": {
      "provenance": []
    },
    "kernelspec": {
      "display_name": "R",
      "language": "R",
      "name": "ir"
    },
    "language_info": {
      "codemirror_mode": "r",
      "file_extension": ".r",
      "mimetype": "text/x-r-source",
      "name": "R",
      "pygments_lexer": "r",
      "version": "4.2.0"
    }
  },
  "nbformat": 4,
  "nbformat_minor": 0
}