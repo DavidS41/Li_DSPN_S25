{
  "cells": [
    {
      "cell_type": "markdown",
      "metadata": {
        "id": "-2W919d2ZXp7"
      },
      "source": [
        "# Exercise 15: Power analyses"
      ]
    },
    {
      "cell_type": "markdown",
      "metadata": {
        "id": "L4nOzVhyZXqK"
      },
      "source": [
        "This  assignment is designed to give you practice with Monte Carlo methods to conduct power analyses via simulation. You won't need to load in any data for this homework. We will, however, be using parts of the homework from last week."
      ]
    },
    {
      "cell_type": "markdown",
      "source": [
        "1. Simulating data 1/1\n",
        "2. run_analysis function 2/2\n",
        "3. repeat_analysis() function 3/3\n",
        "4. Testing different sample sizes 2/2\n",
        "5. Reflection 2/2"
      ],
      "metadata": {
        "id": "fBMboJI1mTYj"
      }
    },
    {
      "cell_type": "markdown",
      "metadata": {
        "id": "9DsyBTB6ZXqN"
      },
      "source": [
        "---\n",
        "## 1. Simulating data (1 points)\n"
      ]
    },
    {
      "cell_type": "markdown",
      "metadata": {
        "id": "J1f6MywYhyzN"
      },
      "source": [
        "Pull your `simulate_data()` function from your last homework and add it below.\n",
        "\n",
        "As a reminder, this function simulates the relationship between age, word reading experience, and reading comprehension skill.\n",
        "\n",
        "`c` is reading comprehension, and `x` is word reading experience."
      ]
    },
    {
      "cell_type": "code",
      "execution_count": null,
      "metadata": {
        "id": "UnBVazYfZXqP",
        "vscode": {
          "languageId": "r"
        },
        "outputId": "842ea6e5-b614-461f-dadc-e38ef7eb206d",
        "colab": {
          "base_uri": "https://localhost:8080/",
          "height": 286
        }
      },
      "outputs": [
        {
          "output_type": "display_data",
          "data": {
            "text/html": [
              "<table class=\"dataframe\">\n",
              "<caption>A data.frame: 6 × 3</caption>\n",
              "<thead>\n",
              "\t<tr><th></th><th scope=col>age</th><th scope=col>x</th><th scope=col>c</th></tr>\n",
              "\t<tr><th></th><th scope=col>&lt;dbl&gt;</th><th scope=col>&lt;dbl&gt;</th><th scope=col>&lt;dbl&gt;</th></tr>\n",
              "</thead>\n",
              "<tbody>\n",
              "\t<tr><th scope=row>1</th><td>102.1859</td><td>  4.178578</td><td>187.23514</td></tr>\n",
              "\t<tr><th scope=row>2</th><td>164.2849</td><td>180.457510</td><td>668.39947</td></tr>\n",
              "\t<tr><th scope=row>3</th><td>148.7992</td><td> 41.287227</td><td>314.28731</td></tr>\n",
              "\t<tr><th scope=row>4</th><td>100.1662</td><td>108.868891</td><td>344.96408</td></tr>\n",
              "\t<tr><th scope=row>5</th><td>193.2607</td><td> 39.251729</td><td>390.93373</td></tr>\n",
              "\t<tr><th scope=row>6</th><td>193.2170</td><td> -6.685415</td><td> 30.35296</td></tr>\n",
              "</tbody>\n",
              "</table>\n"
            ],
            "text/markdown": "\nA data.frame: 6 × 3\n\n| <!--/--> | age &lt;dbl&gt; | x &lt;dbl&gt; | c &lt;dbl&gt; |\n|---|---|---|---|\n| 1 | 102.1859 |   4.178578 | 187.23514 |\n| 2 | 164.2849 | 180.457510 | 668.39947 |\n| 3 | 148.7992 |  41.287227 | 314.28731 |\n| 4 | 100.1662 | 108.868891 | 344.96408 |\n| 5 | 193.2607 |  39.251729 | 390.93373 |\n| 6 | 193.2170 |  -6.685415 |  30.35296 |\n\n",
            "text/latex": "A data.frame: 6 × 3\n\\begin{tabular}{r|lll}\n  & age & x & c\\\\\n  & <dbl> & <dbl> & <dbl>\\\\\n\\hline\n\t1 & 102.1859 &   4.178578 & 187.23514\\\\\n\t2 & 164.2849 & 180.457510 & 668.39947\\\\\n\t3 & 148.7992 &  41.287227 & 314.28731\\\\\n\t4 & 100.1662 & 108.868891 & 344.96408\\\\\n\t5 & 193.2607 &  39.251729 & 390.93373\\\\\n\t6 & 193.2170 &  -6.685415 &  30.35296\\\\\n\\end{tabular}\n",
            "text/plain": [
              "  age      x          c        \n",
              "1 102.1859   4.178578 187.23514\n",
              "2 164.2849 180.457510 668.39947\n",
              "3 148.7992  41.287227 314.28731\n",
              "4 100.1662 108.868891 344.96408\n",
              "5 193.2607  39.251729 390.93373\n",
              "6 193.2170  -6.685415  30.35296"
            ]
          },
          "metadata": {}
        }
      ],
      "source": [
        "sample_size = 100 # How many children in data set?\n",
        "age_lo = 80     # minimum age, in months\n",
        "age_hi = 200    # maximum age, in months\n",
        "beta_xa = 0.5   # amount by which experience changes for increase of one month in age\n",
        "beta_x0 = -5    # amount of experience when age = 0 (not interpretable, since minimum age for this data is 80 months)\n",
        "sd_x = 50       # standard dev of gaussian noise term, epsilon_x\n",
        "beta_ca = 0.8   # amount that comprehension score improves for every increase of one unit in age\n",
        "beta_cx = 3     # amount that comprehension score improves for every increase of one unit in reading experience\n",
        "beta_c0 = 10    # comprehension score when reading experience is 0.\n",
        "sd_c = 85      # standard dev of gaussian noise term, epsilon_c\n",
        "\n",
        "simulate_data <- function(sample_size, age_lo, age_hi, beta_xa, beta_x0, sd_x, beta_ca, beta_cx, beta_c0, sd_c) {\n",
        "      # WRITE YOUR CODE HERE\n",
        "\n",
        "      #generate ages\n",
        "      gen_ages <- runif(sample_size,age_lo,age_hi)\n",
        "      #generate noise\n",
        "      gen_eps_x <- rnorm(sample_size,0,sd_x)\n",
        "      gen_eps_c <- rnorm(sample_size,0,sd_c)\n",
        "      #linear combination of generated values to get x\n",
        "      gen_x <- beta_xa*gen_ages + beta_x0 + gen_eps_x\n",
        "      #then to get c\n",
        "      gen_c <- beta_ca*gen_ages + beta_cx*gen_x + beta_c0 + gen_eps_c\n",
        "\n",
        "\n",
        "      return(data.frame(age=gen_ages,x=gen_x,c=gen_c)) # it's actually bad form to have a variable named \"c\" in R, my bad...\n",
        "}\n",
        "\n",
        "set.seed(2)\n",
        "dat <- simulate_data(sample_size, age_lo, age_hi, beta_xa, beta_x0, sd_x, beta_ca, beta_cx, beta_c0, sd_c)\n",
        "head(dat)"
      ]
    },
    {
      "cell_type": "markdown",
      "metadata": {
        "id": "T3b3_KsHk-xD"
      },
      "source": [
        "---\n",
        "## 2. `run_analysis()` function (2 pts)"
      ]
    },
    {
      "cell_type": "markdown",
      "metadata": {
        "id": "TJyPIaTO8zCS"
      },
      "source": [
        "Last week, we looked at whether word reading experience(`x`) mediated the relation between `age` and reading comprehension (`c`).\n",
        "\n",
        "Now we're going to use our `simulate_data()` function to conduct a power analysis. The goal is to determine how many participants we would need in order to detect both the mediated and the direct effects in this data.\n",
        "\n",
        "*Note: We're going to pretend for the sake of simplicity that we don't have any control over the ages of the children we get (so ages are generated using `runif(sample_size, age_lo, age_hi)`, although of course this would be an unusual situation in reality.*\n",
        "\n",
        "First, write a function, `run_analysis()`, that takes in simulated data, runs **your mediation from last week**, and returns a vector containing the ACME and ADE estimates and p-values (these are the `d0`, `d0.p`, `z0`, and `z0.p` features of the mediated model object, e.g., `fitMed$d0.p`). Print this function's output for the data we simulated previously."
      ]
    },
    {
      "cell_type": "code",
      "execution_count": null,
      "metadata": {
        "id": "AidH_KidrX9L",
        "scrolled": true,
        "vscode": {
          "languageId": "r"
        },
        "outputId": "89e3ee0f-83ae-4490-acb0-c7caa9485b56",
        "colab": {
          "base_uri": "https://localhost:8080/"
        }
      },
      "outputs": [
        {
          "output_type": "stream",
          "name": "stderr",
          "text": [
            "Installing package into ‘/usr/local/lib/R/site-library’\n",
            "(as ‘lib’ is unspecified)\n",
            "\n",
            "also installing the dependencies ‘rbibutils’, ‘checkmate’, ‘Rdpack’, ‘zoo’, ‘gridExtra’, ‘htmlTable’, ‘viridis’, ‘Formula’, ‘minqa’, ‘nloptr’, ‘reformulas’, ‘RcppEigen’, ‘mvtnorm’, ‘sandwich’, ‘lpSolve’, ‘Hmisc’, ‘lme4’\n",
            "\n",
            "\n",
            "Loading required package: MASS\n",
            "\n",
            "Loading required package: Matrix\n",
            "\n",
            "Loading required package: mvtnorm\n",
            "\n",
            "Loading required package: sandwich\n",
            "\n",
            "mediation: Causal Mediation Analysis\n",
            "Version: 4.5.0\n",
            "\n",
            "\n"
          ]
        }
      ],
      "source": [
        "# WRITE YOUR CODE HERE\n",
        "#install.packages(\"mediation\")\n",
        "library(mediation)\n"
      ]
    },
    {
      "cell_type": "code",
      "source": [
        "run_analysis <- function(in_dat) {\n",
        "  fitM <- lm(x ~ age,     data=in_dat) #Step 1: IV on M, Age predicting x\n",
        "  fitY <- lm(c ~ x + age, data=in_dat) #Step 2: IV and M on DV, Number of passengers and weight predicting highway\n",
        "  #summary(fitM)\n",
        "  #summary(fitY)\n",
        "  fitMed <- mediate(fitM, fitY, treat=\"age\", mediator=\"x\")\n",
        "  #summary(fitMed)\n",
        "  return(c(fitMed$d0, fitMed$d0.p, fitMed$z0, fitMed$z0.p))\n",
        "}\n",
        "\n",
        "run_analysis(dat)"
      ],
      "metadata": {
        "id": "cOI3rykuHSSt",
        "outputId": "c04e3bea-50ad-4945-8845-3109b1b5e31d",
        "colab": {
          "base_uri": "https://localhost:8080/",
          "height": 34
        }
      },
      "execution_count": null,
      "outputs": [
        {
          "output_type": "display_data",
          "data": {
            "text/html": [
              "<style>\n",
              ".list-inline {list-style: none; margin:0; padding: 0}\n",
              ".list-inline>li {display: inline-block}\n",
              ".list-inline>li:not(:last-child)::after {content: \"\\00b7\"; padding: 0 .5ex}\n",
              "</style>\n",
              "<ol class=list-inline><li>1.38604939970992</li><li>0.002</li><li>1.19102301264327</li><li>0</li></ol>\n"
            ],
            "text/markdown": "1. 1.38604939970992\n2. 0.002\n3. 1.19102301264327\n4. 0\n\n\n",
            "text/latex": "\\begin{enumerate*}\n\\item 1.38604939970992\n\\item 0.002\n\\item 1.19102301264327\n\\item 0\n\\end{enumerate*}\n",
            "text/plain": [
              "[1] 1.386049 0.002000 1.191023 0.000000"
            ]
          },
          "metadata": {}
        }
      ]
    },
    {
      "cell_type": "markdown",
      "metadata": {
        "id": "bHxz5W2r5s79"
      },
      "source": [
        "---\n",
        "## 3. `repeat_analysis()` function (3 pts)"
      ]
    },
    {
      "cell_type": "markdown",
      "metadata": {
        "id": "G_jvc1XQBCpH"
      },
      "source": [
        "Next fill in the function `repeat_analysis()` below so that it simulates and analyzes data `num_simulations` times. Store the outputs from each simulation in the `simouts` matrix. Calculate and return the coverage across all the simulations run for both ACME and ADE."
      ]
    },
    {
      "cell_type": "code",
      "execution_count": null,
      "metadata": {
        "id": "NheOpBDsBBo9",
        "vscode": {
          "languageId": "r"
        }
      },
      "outputs": [],
      "source": [
        "repeat_analysis <- function(num_simulations, alpha, sample_size, age_lo, age_hi,\n",
        "        beta_xa, beta_x0, sd_x, beta_ca, beta_cx, beta_c0, sd_c) {\n",
        "    # Initialize simouts matrix for storing each output from run_analysis()\n",
        "    simouts <- matrix(rep(NA, num_simulations*4), nrow=num_simulations, ncol=4)\n",
        "\n",
        "    # Start simulating\n",
        "    for (i in 1:num_simulations) {\n",
        "      # WRITE YOUR CODE HERE\n",
        "      hold_dat <- simulate_data(sample_size, age_lo, age_hi, beta_xa, beta_x0, sd_x, beta_ca, beta_cx, beta_c0, sd_c)\n",
        "      simouts[i,]<-run_analysis(in_dat = hold_dat)\n",
        "    }\n",
        "\n",
        "    # Calculate coverage for both ACME and ADE estimates using p-values in simouts\n",
        "    # FILL THIS IN\n",
        "    ACME_cov = mean(simouts[,2] <= alpha)\n",
        "    # FILL THIS IN\n",
        "    ADE_cov = mean(simouts[,4] <= alpha)\n",
        "\n",
        "    return(list(ACME_cov = ACME_cov, ADE_cov = ADE_cov))\n",
        "}"
      ]
    },
    {
      "cell_type": "markdown",
      "metadata": {
        "id": "bM5J5pYyQoRL"
      },
      "source": [
        "Now run the `repeat_analysis()` function using the same parameter settings as above, for 10 simulations, with an alpha criterion of 0.01."
      ]
    },
    {
      "cell_type": "code",
      "execution_count": null,
      "metadata": {
        "id": "RpURGbZQQlEK",
        "vscode": {
          "languageId": "r"
        },
        "outputId": "7bc7a40c-6838-433a-ff63-1e1762e74693",
        "colab": {
          "base_uri": "https://localhost:8080/",
          "height": 114
        }
      },
      "outputs": [
        {
          "output_type": "display_data",
          "data": {
            "text/html": [
              "<dl>\n",
              "\t<dt>$ACME_cov</dt>\n",
              "\t\t<dd>0.9</dd>\n",
              "\t<dt>$ADE_cov</dt>\n",
              "\t\t<dd>0.8</dd>\n",
              "</dl>\n"
            ],
            "text/markdown": "$ACME_cov\n:   0.9\n$ADE_cov\n:   0.8\n\n\n",
            "text/latex": "\\begin{description}\n\\item[\\$ACME\\_cov] 0.9\n\\item[\\$ADE\\_cov] 0.8\n\\end{description}\n",
            "text/plain": [
              "$ACME_cov\n",
              "[1] 0.9\n",
              "\n",
              "$ADE_cov\n",
              "[1] 0.8\n"
            ]
          },
          "metadata": {}
        }
      ],
      "source": [
        "# WRITE YOUR CODE HERE\n",
        "num_simulations = 10\n",
        "alpha = 0.01\n",
        "\n",
        "repeat_analysis(num_simulations, alpha, sample_size, age_lo, age_hi,\n",
        "        beta_xa, beta_x0, sd_x, beta_ca, beta_cx, beta_c0, sd_c)"
      ]
    },
    {
      "cell_type": "markdown",
      "source": [
        "There is a 90% probability that we correctly reject the null about ACME (no mediation effect) at p < 0.01 if we measure the age, x, and c and 100 children per group.\n",
        "\n",
        "And there is a 80% probability that we correctly reject the null about ADE (no direct effect) at p < 0.01 if we measure the age, x, and c and 100 children per group."
      ],
      "metadata": {
        "id": "6OPCg78SJ92G"
      }
    },
    {
      "cell_type": "markdown",
      "metadata": {
        "id": "imIoN4w65s7_"
      },
      "source": [
        "---\n",
        "## 4. Testing different sample sizes (2 pts)"
      ]
    },
    {
      "cell_type": "markdown",
      "metadata": {
        "id": "CzeTaoY7SaXv"
      },
      "source": [
        "Finally, do the same thing (10 simulations, alpha criterion of 0.01) but for 5 different sample sizes: 50, 75, 100, 125, 150. You can do this using `map` (as in the tutorial), or a simple `for` loop, or by calculating each individually. Up to you! This should take around 3 minutes to run."
      ]
    },
    {
      "cell_type": "code",
      "execution_count": null,
      "metadata": {
        "id": "mp-a19XsS8Md",
        "vscode": {
          "languageId": "r"
        },
        "outputId": "43743bbe-a04a-4a6d-e3dd-347b7accc43f",
        "colab": {
          "base_uri": "https://localhost:8080/"
        }
      },
      "outputs": [
        {
          "output_type": "stream",
          "name": "stdout",
          "text": [
            "For analysis using sample size: 50$ACME_cov\n",
            "[1] 0.7\n",
            "\n",
            "$ADE_cov\n",
            "[1] 0.2\n",
            "\n",
            "For analysis using sample size: 50$ACME_cov\n",
            "[1] 0.6\n",
            "\n",
            "$ADE_cov\n",
            "[1] 0.5\n",
            "\n",
            "For analysis using sample size: 50$ACME_cov\n",
            "[1] 0.8\n",
            "\n",
            "$ADE_cov\n",
            "[1] 0.6\n",
            "\n",
            "For analysis using sample size: 50$ACME_cov\n",
            "[1] 0.9\n",
            "\n",
            "$ADE_cov\n",
            "[1] 0.7\n",
            "\n",
            "For analysis using sample size: 50$ACME_cov\n",
            "[1] 1\n",
            "\n",
            "$ADE_cov\n",
            "[1] 1\n",
            "\n"
          ]
        }
      ],
      "source": [
        "# WRITE YOUR CODE HERE\n",
        "list_sample_sizes <- c(50, 75, 100, 125, 150)\n",
        "repeat_for_sample_sizes <- matrix(rep(NA, length(list_sample_sizes)*2), nrow=length(list_sample_sizes), ncol=2)\n",
        "\n",
        "for(i in 1:length(list_sample_sizes)){\n",
        "  cat(\"For analysis using sample size:\", vary_samp_size)\n",
        "  hold<-repeat_analysis(num_simulations, alpha, sample_size=list_sample_sizes[i], age_lo, age_hi,\n",
        "        beta_xa, beta_x0, sd_x, beta_ca, beta_cx, beta_c0, sd_c)\n",
        "  print(hold)\n",
        "  repeat_for_sample_sizes[i,1]<-hold$ACME_cov\n",
        "  repeat_for_sample_sizes[i,2]<-hold$ADE_cov\n",
        "}"
      ]
    },
    {
      "cell_type": "markdown",
      "metadata": {
        "id": "akJwKCB7dkDw"
      },
      "source": [
        "Print your results."
      ]
    },
    {
      "cell_type": "code",
      "execution_count": null,
      "metadata": {
        "id": "gIkkWTG2aR4d",
        "scrolled": true,
        "vscode": {
          "languageId": "r"
        },
        "outputId": "cc22e451-812d-432a-bc53-a4ae329a87b3",
        "colab": {
          "base_uri": "https://localhost:8080/",
          "height": 226
        }
      },
      "outputs": [
        {
          "output_type": "display_data",
          "data": {
            "text/html": [
              "<table class=\"dataframe\">\n",
              "<caption>A matrix: 5 × 2 of type dbl</caption>\n",
              "<tbody>\n",
              "\t<tr><td>0.7</td><td>0.2</td></tr>\n",
              "\t<tr><td>0.6</td><td>0.5</td></tr>\n",
              "\t<tr><td>0.8</td><td>0.6</td></tr>\n",
              "\t<tr><td>0.9</td><td>0.7</td></tr>\n",
              "\t<tr><td>1.0</td><td>1.0</td></tr>\n",
              "</tbody>\n",
              "</table>\n"
            ],
            "text/markdown": "\nA matrix: 5 × 2 of type dbl\n\n| 0.7 | 0.2 |\n| 0.6 | 0.5 |\n| 0.8 | 0.6 |\n| 0.9 | 0.7 |\n| 1.0 | 1.0 |\n\n",
            "text/latex": "A matrix: 5 × 2 of type dbl\n\\begin{tabular}{ll}\n\t 0.7 & 0.2\\\\\n\t 0.6 & 0.5\\\\\n\t 0.8 & 0.6\\\\\n\t 0.9 & 0.7\\\\\n\t 1.0 & 1.0\\\\\n\\end{tabular}\n",
            "text/plain": [
              "     [,1] [,2]\n",
              "[1,] 0.7  0.2 \n",
              "[2,] 0.6  0.5 \n",
              "[3,] 0.8  0.6 \n",
              "[4,] 0.9  0.7 \n",
              "[5,] 1.0  1.0 "
            ]
          },
          "metadata": {}
        }
      ],
      "source": [
        "# WRITE YOUR CODE HERE\n",
        "repeat_for_sample_sizes"
      ]
    },
    {
      "cell_type": "markdown",
      "metadata": {
        "id": "q3Oo6npB5s8B"
      },
      "source": [
        "## 5. Reflection (2 pts)"
      ]
    },
    {
      "cell_type": "markdown",
      "metadata": {
        "id": "tpbGkul2dr-5"
      },
      "source": [
        "If this were a real power analysis, we'd want to run more simulations per sample size (to get a more precise estimate of power) and we may also want to test out some other values of the parameters we used to simulate our data. However, what would you conclude just based on the results above?\n",
        "\n",
        "> *Write your response here.*\n",
        ">\n",
        "\n",
        "I would conclude that with larger sample sizes, we get higher coverage (more power). In which case, we should probably collect a larger sample size if possible to get more power to detect the effect.\n",
        "Also, it looks like our power is generally smaller for detecting the direct effect than the indirect effect (since the coverage is larger for ACME than ADE generally)."
      ]
    },
    {
      "cell_type": "markdown",
      "metadata": {
        "id": "RcCo3QOifUi5"
      },
      "source": [
        "**Given** how we generated the data, why was the direct effect harder to detect than the mediated effect?\n",
        "> *Write your response here.*\n",
        "\n",
        "I guess that the direct effect is harder to detect than the mediated effect because the mediated effect seems to be a larger magnitude change (per unit change in age) since beta_cx = 3 and beta_xa = 0.5, which means that per unit change in age, I would guess that the indirect effect on c is about (on average) 1.5 units while the direct effect of age on c is related to beta_ca = 0.8 which is much smaller."
      ]
    },
    {
      "cell_type": "markdown",
      "metadata": {
        "id": "C4MPECMmZXqe"
      },
      "source": [
        "**DUE:** 5pm EST, April 3, 2024"
      ]
    },
    {
      "cell_type": "markdown",
      "metadata": {
        "id": "r9GUofXN4BVy"
      },
      "source": [
        "**IMPORTANT** Did you collaborate with anyone on this assignment? If so, list their names here.\n",
        "> *Someone's Name*"
      ]
    }
  ],
  "metadata": {
    "colab": {
      "provenance": []
    },
    "kernelspec": {
      "display_name": "R",
      "language": "R",
      "name": "ir"
    },
    "language_info": {
      "codemirror_mode": "r",
      "file_extension": ".r",
      "mimetype": "text/x-r-source",
      "name": "R",
      "pygments_lexer": "r",
      "version": "4.2.0"
    }
  },
  "nbformat": 4,
  "nbformat_minor": 0
}