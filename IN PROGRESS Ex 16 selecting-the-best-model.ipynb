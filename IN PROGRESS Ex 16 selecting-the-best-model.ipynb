{
  "cells": [
    {
      "cell_type": "markdown",
      "metadata": {
        "id": "614c6a4a"
      },
      "source": [
        "# Exercise 16: Model selection"
      ],
      "id": "614c6a4a"
    },
    {
      "cell_type": "markdown",
      "metadata": {
        "id": "7e861f62"
      },
      "source": [
        "This homework is designed to give you practice implementing model selection techniques, including best subset selection and forward/backward stepwise selection.\n",
        "\n",
        "You won't need to load in any data for this homework, we will be simulating our own."
      ],
      "id": "7e861f62"
    },
    {
      "cell_type": "markdown",
      "metadata": {
        "id": "b065256e"
      },
      "source": [
        "---\n",
        "## 1. Best subset selection (4 points)"
      ],
      "id": "b065256e"
    },
    {
      "cell_type": "markdown",
      "metadata": {
        "id": "bfe412c5"
      },
      "source": [
        "In this question, we will first generate simulated data, and then use it to perform best subset selection.\n",
        "\n",
        "a) Use `rnorm()` to generate a dataset including a predictor $X$ of length $n = 100$ and a noise vector $\\epsilon$ of length $n = 100$. Generate data for a response variable $Y$ of length $n = 100$ according to the model\n",
        "\n",
        "$Y = \\beta_0 + \\beta_1X + \\beta_2X^2 + \\beta_3X^3 + \\epsilon$\n",
        "\n",
        "where $\\beta_0$, $\\beta_1$, $\\beta_2$, and $\\beta_3$ are constants of your choice.\n"
      ],
      "id": "bfe412c5"
    },
    {
      "cell_type": "code",
      "execution_count": 2,
      "metadata": {
        "id": "82a01047",
        "vscode": {
          "languageId": "r"
        },
        "colab": {
          "base_uri": "https://localhost:8080/",
          "height": 286
        },
        "outputId": "eed27e2c-33f1-41ca-aa73-67ec9c9a4835"
      },
      "outputs": [
        {
          "output_type": "display_data",
          "data": {
            "text/html": [
              "<table class=\"dataframe\">\n",
              "<caption>A data.frame: 6 × 11</caption>\n",
              "<thead>\n",
              "\t<tr><th></th><th scope=col>y</th><th scope=col>x1</th><th scope=col>x2</th><th scope=col>x3</th><th scope=col>x4</th><th scope=col>x5</th><th scope=col>x6</th><th scope=col>x7</th><th scope=col>x8</th><th scope=col>x9</th><th scope=col>x10</th></tr>\n",
              "\t<tr><th></th><th scope=col>&lt;dbl&gt;</th><th scope=col>&lt;dbl&gt;</th><th scope=col>&lt;dbl&gt;</th><th scope=col>&lt;dbl&gt;</th><th scope=col>&lt;dbl&gt;</th><th scope=col>&lt;dbl&gt;</th><th scope=col>&lt;dbl&gt;</th><th scope=col>&lt;dbl&gt;</th><th scope=col>&lt;dbl&gt;</th><th scope=col>&lt;dbl&gt;</th><th scope=col>&lt;dbl&gt;</th></tr>\n",
              "</thead>\n",
              "<tbody>\n",
              "\t<tr><th scope=row>1</th><td>  5914.43224</td><td> 7.1025666</td><td> 50.44645169</td><td>  358.2992806</td><td>2.544844e+03</td><td> 1.807493e+04</td><td>1.283784e+05</td><td> 9.118159e+05</td><td>6.476233e+06</td><td> 4.599788e+07</td><td>3.267030e+08</td></tr>\n",
              "\t<tr><th scope=row>2</th><td>  8224.44575</td><td> 7.9762749</td><td> 63.62096175</td><td>  507.4582822</td><td>4.047627e+03</td><td> 3.228498e+04</td><td>2.575139e+05</td><td> 2.054002e+06</td><td>1.638328e+07</td><td> 1.306776e+08</td><td>1.042320e+09</td></tr>\n",
              "\t<tr><th scope=row>3</th><td>114212.15088</td><td>19.4486664</td><td>378.25062579</td><td> 7356.4702467</td><td>1.430735e+05</td><td> 2.782589e+06</td><td>5.411765e+07</td><td> 1.052516e+09</td><td>2.047004e+10</td><td> 3.981149e+11</td><td>7.742804e+12</td></tr>\n",
              "\t<tr><th scope=row>4</th><td>   -13.17385</td><td>-0.2733166</td><td>  0.07470199</td><td>   -0.0204173</td><td>5.580387e-03</td><td>-1.525213e-03</td><td>4.168660e-04</td><td>-1.139364e-04</td><td>3.114072e-05</td><td>-8.511276e-06</td><td>2.326273e-06</td></tr>\n",
              "\t<tr><th scope=row>5</th><td>428907.02588</td><td>30.3550935</td><td>921.43170134</td><td>27970.1454474</td><td>8.490364e+05</td><td> 2.577258e+07</td><td>7.823290e+08</td><td> 2.374767e+10</td><td>7.208628e+11</td><td> 2.188186e+13</td><td>6.642258e+14</td></tr>\n",
              "\t<tr><th scope=row>6</th><td>   877.79100</td><td> 3.7034382</td><td> 13.71545468</td><td>   50.7943391</td><td>1.881137e+02</td><td> 6.966675e+02</td><td>2.580065e+03</td><td> 9.555111e+03</td><td>3.538676e+04</td><td> 1.310527e+05</td><td>4.853455e+05</td></tr>\n",
              "</tbody>\n",
              "</table>\n"
            ],
            "text/markdown": "\nA data.frame: 6 × 11\n\n| <!--/--> | y &lt;dbl&gt; | x1 &lt;dbl&gt; | x2 &lt;dbl&gt; | x3 &lt;dbl&gt; | x4 &lt;dbl&gt; | x5 &lt;dbl&gt; | x6 &lt;dbl&gt; | x7 &lt;dbl&gt; | x8 &lt;dbl&gt; | x9 &lt;dbl&gt; | x10 &lt;dbl&gt; |\n|---|---|---|---|---|---|---|---|---|---|---|---|\n| 1 |   5914.43224 |  7.1025666 |  50.44645169 |   358.2992806 | 2.544844e+03 |  1.807493e+04 | 1.283784e+05 |  9.118159e+05 | 6.476233e+06 |  4.599788e+07 | 3.267030e+08 |\n| 2 |   8224.44575 |  7.9762749 |  63.62096175 |   507.4582822 | 4.047627e+03 |  3.228498e+04 | 2.575139e+05 |  2.054002e+06 | 1.638328e+07 |  1.306776e+08 | 1.042320e+09 |\n| 3 | 114212.15088 | 19.4486664 | 378.25062579 |  7356.4702467 | 1.430735e+05 |  2.782589e+06 | 5.411765e+07 |  1.052516e+09 | 2.047004e+10 |  3.981149e+11 | 7.742804e+12 |\n| 4 |    -13.17385 | -0.2733166 |   0.07470199 |    -0.0204173 | 5.580387e-03 | -1.525213e-03 | 4.168660e-04 | -1.139364e-04 | 3.114072e-05 | -8.511276e-06 | 2.326273e-06 |\n| 5 | 428907.02588 | 30.3550935 | 921.43170134 | 27970.1454474 | 8.490364e+05 |  2.577258e+07 | 7.823290e+08 |  2.374767e+10 | 7.208628e+11 |  2.188186e+13 | 6.642258e+14 |\n| 6 |    877.79100 |  3.7034382 |  13.71545468 |    50.7943391 | 1.881137e+02 |  6.966675e+02 | 2.580065e+03 |  9.555111e+03 | 3.538676e+04 |  1.310527e+05 | 4.853455e+05 |\n\n",
            "text/latex": "A data.frame: 6 × 11\n\\begin{tabular}{r|lllllllllll}\n  & y & x1 & x2 & x3 & x4 & x5 & x6 & x7 & x8 & x9 & x10\\\\\n  & <dbl> & <dbl> & <dbl> & <dbl> & <dbl> & <dbl> & <dbl> & <dbl> & <dbl> & <dbl> & <dbl>\\\\\n\\hline\n\t1 &   5914.43224 &  7.1025666 &  50.44645169 &   358.2992806 & 2.544844e+03 &  1.807493e+04 & 1.283784e+05 &  9.118159e+05 & 6.476233e+06 &  4.599788e+07 & 3.267030e+08\\\\\n\t2 &   8224.44575 &  7.9762749 &  63.62096175 &   507.4582822 & 4.047627e+03 &  3.228498e+04 & 2.575139e+05 &  2.054002e+06 & 1.638328e+07 &  1.306776e+08 & 1.042320e+09\\\\\n\t3 & 114212.15088 & 19.4486664 & 378.25062579 &  7356.4702467 & 1.430735e+05 &  2.782589e+06 & 5.411765e+07 &  1.052516e+09 & 2.047004e+10 &  3.981149e+11 & 7.742804e+12\\\\\n\t4 &    -13.17385 & -0.2733166 &   0.07470199 &    -0.0204173 & 5.580387e-03 & -1.525213e-03 & 4.168660e-04 & -1.139364e-04 & 3.114072e-05 & -8.511276e-06 & 2.326273e-06\\\\\n\t5 & 428907.02588 & 30.3550935 & 921.43170134 & 27970.1454474 & 8.490364e+05 &  2.577258e+07 & 7.823290e+08 &  2.374767e+10 & 7.208628e+11 &  2.188186e+13 & 6.642258e+14\\\\\n\t6 &    877.79100 &  3.7034382 &  13.71545468 &    50.7943391 & 1.881137e+02 &  6.966675e+02 & 2.580065e+03 &  9.555111e+03 & 3.538676e+04 &  1.310527e+05 & 4.853455e+05\\\\\n\\end{tabular}\n",
            "text/plain": [
              "  y            x1         x2           x3            x4           x5           \n",
              "1   5914.43224  7.1025666  50.44645169   358.2992806 2.544844e+03  1.807493e+04\n",
              "2   8224.44575  7.9762749  63.62096175   507.4582822 4.047627e+03  3.228498e+04\n",
              "3 114212.15088 19.4486664 378.25062579  7356.4702467 1.430735e+05  2.782589e+06\n",
              "4    -13.17385 -0.2733166   0.07470199    -0.0204173 5.580387e-03 -1.525213e-03\n",
              "5 428907.02588 30.3550935 921.43170134 27970.1454474 8.490364e+05  2.577258e+07\n",
              "6    877.79100  3.7034382  13.71545468    50.7943391 1.881137e+02  6.966675e+02\n",
              "  x6           x7            x8           x9            x10         \n",
              "1 1.283784e+05  9.118159e+05 6.476233e+06  4.599788e+07 3.267030e+08\n",
              "2 2.575139e+05  2.054002e+06 1.638328e+07  1.306776e+08 1.042320e+09\n",
              "3 5.411765e+07  1.052516e+09 2.047004e+10  3.981149e+11 7.742804e+12\n",
              "4 4.168660e-04 -1.139364e-04 3.114072e-05 -8.511276e-06 2.326273e-06\n",
              "5 7.823290e+08  2.374767e+10 7.208628e+11  2.188186e+13 6.642258e+14\n",
              "6 2.580065e+03  9.555111e+03 3.538676e+04  1.310527e+05 4.853455e+05"
            ]
          },
          "metadata": {}
        }
      ],
      "source": [
        "# WRITE YOUR CODE HERE\n",
        "n_size <- 100\n",
        "sd_x <- 25\n",
        "sd_e <- 50\n",
        "b0 <- 5\n",
        "b1_x <- 5\n",
        "b2_x2 <- 10\n",
        "b3_x3 <- 15\n",
        "gen_x <- rnorm(n_size,0,sd_x)\n",
        "gen_eps <- rnorm(n_size,0,sd_e)\n",
        "\n",
        "gen_y <- b0 + b1_x*gen_x + b2_x2*gen_x^2 + b3_x3*gen_x^3 + gen_eps\n",
        "\n",
        "d1 <- data.frame(y=gen_y, x1=gen_x, x2=gen_x^2, x3=gen_x^3, x4=gen_x^4, x5=gen_x^5, x6=gen_x^6, x7=gen_x^7, x8=gen_x^8, x9=gen_x^9, x10=gen_x^10)\n",
        "head(d1)"
      ],
      "id": "82a01047"
    },
    {
      "cell_type": "markdown",
      "metadata": {
        "id": "19065c60"
      },
      "source": [
        "b) Use `regsubsets()` to perform best subset selection to determine the best model that contains the predictor variables $X$, $X^2$, . . . , $X^{10}$. Print the model summary."
      ],
      "id": "19065c60"
    },
    {
      "cell_type": "code",
      "execution_count": 6,
      "metadata": {
        "id": "2d0ea51f",
        "vscode": {
          "languageId": "r"
        },
        "colab": {
          "base_uri": "https://localhost:8080/",
          "height": 486
        },
        "outputId": "180918fb-ea33-4d1f-c6a1-83514617d743"
      },
      "outputs": [
        {
          "output_type": "display_data",
          "data": {
            "text/plain": [
              "Subset selection object\n",
              "Call: regsubsets.formula(y ~ ., d1, nvmax = 10)\n",
              "10 Variables  (and intercept)\n",
              "    Forced in Forced out\n",
              "x1      FALSE      FALSE\n",
              "x2      FALSE      FALSE\n",
              "x3      FALSE      FALSE\n",
              "x4      FALSE      FALSE\n",
              "x5      FALSE      FALSE\n",
              "x6      FALSE      FALSE\n",
              "x7      FALSE      FALSE\n",
              "x8      FALSE      FALSE\n",
              "x9      FALSE      FALSE\n",
              "x10     FALSE      FALSE\n",
              "1 subsets of each size up to 10\n",
              "Selection Algorithm: exhaustive\n",
              "          x1  x2  x3  x4  x5  x6  x7  x8  x9  x10\n",
              "1  ( 1 )  \" \" \" \" \"*\" \" \" \" \" \" \" \" \" \" \" \" \" \" \"\n",
              "2  ( 1 )  \" \" \"*\" \"*\" \" \" \" \" \" \" \" \" \" \" \" \" \" \"\n",
              "3  ( 1 )  \"*\" \"*\" \"*\" \" \" \" \" \" \" \" \" \" \" \" \" \" \"\n",
              "4  ( 1 )  \"*\" \"*\" \"*\" \"*\" \" \" \" \" \" \" \" \" \" \" \" \"\n",
              "5  ( 1 )  \"*\" \"*\" \"*\" \" \" \" \" \"*\" \" \" \" \" \" \" \"*\"\n",
              "6  ( 1 )  \"*\" \"*\" \"*\" \"*\" \" \" \"*\" \" \" \"*\" \" \" \" \"\n",
              "7  ( 1 )  \"*\" \"*\" \"*\" \" \" \" \" \" \" \"*\" \"*\" \"*\" \"*\"\n",
              "8  ( 1 )  \"*\" \"*\" \"*\" \"*\" \" \" \"*\" \"*\" \"*\" \"*\" \" \"\n",
              "9  ( 1 )  \"*\" \"*\" \"*\" \"*\" \"*\" \"*\" \"*\" \"*\" \"*\" \" \"\n",
              "10  ( 1 ) \"*\" \"*\" \"*\" \"*\" \"*\" \"*\" \"*\" \"*\" \"*\" \"*\""
            ]
          },
          "metadata": {}
        }
      ],
      "source": [
        "# WRITE YOUR CODE HERE\n",
        "library(tidyverse)\n",
        "#install.packages(\"leaps\")\n",
        "library(leaps)\n",
        "\n",
        "regfit.full = regsubsets(y~., d1, nvmax=10)\n",
        "reg.summary = summary(regfit.full)\n",
        "reg.summary"
      ],
      "id": "2d0ea51f"
    },
    {
      "cell_type": "code",
      "execution_count": null,
      "metadata": {
        "id": "e584b852",
        "vscode": {
          "languageId": "r"
        }
      },
      "outputs": [],
      "source": [
        "# Note: if your model summary doesn't show up when viewing your notebook on github, copy and paste the output below.\n",
        "# Otherwise you can either delete this cell or leave it blank.\n",
        "\n",
        "```\n",
        "#Subset selection object\n",
        "#Call: regsubsets.formula(y ~ ., d1)\n",
        "#10 Variables  (and intercept)\n",
        "#    Forced in Forced out\n",
        "#x1      FALSE      FALSE\n",
        "#x2      FALSE      FALSE\n",
        "#x3      FALSE      FALSE\n",
        "#x4      FALSE      FALSE\n",
        "#x5      FALSE      FALSE\n",
        "#x6      FALSE      FALSE\n",
        "#x7      FALSE      FALSE\n",
        "#x8      FALSE      FALSE\n",
        "#x9      FALSE      FALSE\n",
        "#x10     FALSE      FALSE\n",
        "#1 subsets of each size up to 8\n",
        "#Selection Algorithm: exhaustive\n",
        "#          x1  x2  x3  x4  x5  x6  x7  x8  x9  x10\n",
        "#1  ( 1 )  \" \" \" \" \"*\" \" \" \" \" \" \" \" \" \" \" \" \" \" \"\n",
        "#2  ( 1 )  \" \" \"*\" \"*\" \" \" \" \" \" \" \" \" \" \" \" \" \" \"\n",
        "#3  ( 1 )  \"*\" \"*\" \"*\" \" \" \" \" \" \" \" \" \" \" \" \" \" \"\n",
        "#4  ( 1 )  \"*\" \"*\" \"*\" \"*\" \" \" \" \" \" \" \" \" \" \" \" \"\n",
        "#5  ( 1 )  \"*\" \"*\" \"*\" \" \" \" \" \"*\" \" \" \" \" \" \" \"*\"\n",
        "#6  ( 1 )  \"*\" \"*\" \"*\" \"*\" \" \" \"*\" \" \" \"*\" \" \" \" \"\n",
        "#7  ( 1 )  \"*\" \"*\" \"*\" \" \" \" \" \" \" \"*\" \"*\" \"*\" \"*\"\n",
        "#8  ( 1 )  \"*\" \"*\" \"*\" \"*\" \" \" \"*\" \"*\" \"*\" \"*\" \" \"\n",
        "#9  ( 1 )  \"*\" \"*\" \"*\" \"*\" \"*\" \"*\" \"*\" \"*\" \"*\" \" \"\n",
        "#10  ( 1 ) \"*\" \"*\" \"*\" \"*\" \"*\" \"*\" \"*\" \"*\" \"*\" \"*\"\n",
        "\n",
        "```"
      ],
      "id": "e584b852"
    },
    {
      "cell_type": "markdown",
      "metadata": {
        "id": "3528231b"
      },
      "source": [
        "c) Plot the Mallows' Cp, Bayesian Information Criteria (BIC) and the adjusted coefficient of determination, $R^2$, for each model tested. Which is the best model? Report the coefficients of the best model."
      ],
      "id": "3528231b"
    },
    {
      "cell_type": "code",
      "execution_count": 15,
      "metadata": {
        "id": "6a817913",
        "vscode": {
          "languageId": "r"
        },
        "colab": {
          "base_uri": "https://localhost:8080/",
          "height": 1000
        },
        "outputId": "9402bb1a-366c-49e6-9185-641482d0db66"
      },
      "outputs": [
        {
          "output_type": "display_data",
          "data": {
            "text/plain": [
              "plot without title"
            ],
            "image/png": "[encoded data removed]"
          },
          "metadata": {
            "image/png": {
              "width": 420,
              "height": 420
            }
          }
        },
        {
          "output_type": "display_data",
          "data": {
            "text/plain": [
              "plot without title"
            ],
            "image/png": "[encoded data removed]"
          },
          "metadata": {
            "image/png": {
              "width": 420,
              "height": 420
            }
          }
        },
        {
          "output_type": "display_data",
          "data": {
            "text/plain": [
              "plot without title"
            ],
            "image/png": "[encoded data removed]"
          },
          "metadata": {
            "image/png": {
              "width": 420,
              "height": 420
            }
          }
        },
        {
          "output_type": "stream",
          "name": "stdout",
          "text": [
            "Model with best Mallows' CP: 5 \n",
            "Model with best BIC: 4 \n",
            "Model with best Adj R^2: 5 \n"
          ]
        },
        {
          "output_type": "display_data",
          "data": {
            "text/html": [
              "<style>\n",
              ".dl-inline {width: auto; margin:0; padding: 0}\n",
              ".dl-inline>dt, .dl-inline>dd {float: none; width: auto; display: inline-block}\n",
              ".dl-inline>dt::after {content: \":\\0020\"; padding-right: .5ex}\n",
              ".dl-inline>dt:not(:first-of-type) {padding-left: .5ex}\n",
              "</style><dl class=dl-inline><dt>(Intercept)</dt><dd>10.7159699622977</dd><dt>x1</dt><dd>4.21171570263735</dd><dt>x2</dt><dd>9.95676625715304</dd><dt>x3</dt><dd>15.0004636053301</dd><dt>x4</dt><dd>2.03774534195107e-05</dd></dl>\n"
            ],
            "text/markdown": "(Intercept)\n:   10.7159699622977x1\n:   4.21171570263735x2\n:   9.95676625715304x3\n:   15.0004636053301x4\n:   2.03774534195107e-05\n\n",
            "text/latex": "\\begin{description*}\n\\item[(Intercept)] 10.7159699622977\n\\item[x1] 4.21171570263735\n\\item[x2] 9.95676625715304\n\\item[x3] 15.0004636053301\n\\item[x4] 2.03774534195107e-05\n\\end{description*}\n",
            "text/plain": [
              " (Intercept)           x1           x2           x3           x4 \n",
              "1.071597e+01 4.211716e+00 9.956766e+00 1.500046e+01 2.037745e-05 "
            ]
          },
          "metadata": {}
        },
        {
          "output_type": "display_data",
          "data": {
            "text/html": [
              "<style>\n",
              ".dl-inline {width: auto; margin:0; padding: 0}\n",
              ".dl-inline>dt, .dl-inline>dd {float: none; width: auto; display: inline-block}\n",
              ".dl-inline>dt::after {content: \":\\0020\"; padding-right: .5ex}\n",
              ".dl-inline>dt:not(:first-of-type) {padding-left: .5ex}\n",
              "</style><dl class=dl-inline><dt>(Intercept)</dt><dd>12.9742372260686</dd><dt>x1</dt><dd>4.73775382771321</dd><dt>x2</dt><dd>9.94146743198132</dd><dt>x3</dt><dd>14.9999122017179</dd><dt>x6</dt><dd>2.65717389641519e-08</dd><dt>x10</dt><dd>-1.93582720255884e-15</dd></dl>\n"
            ],
            "text/markdown": "(Intercept)\n:   12.9742372260686x1\n:   4.73775382771321x2\n:   9.94146743198132x3\n:   14.9999122017179x6\n:   2.65717389641519e-08x10\n:   -1.93582720255884e-15\n\n",
            "text/latex": "\\begin{description*}\n\\item[(Intercept)] 12.9742372260686\n\\item[x1] 4.73775382771321\n\\item[x2] 9.94146743198132\n\\item[x3] 14.9999122017179\n\\item[x6] 2.65717389641519e-08\n\\item[x10] -1.93582720255884e-15\n\\end{description*}\n",
            "text/plain": [
              "  (Intercept)            x1            x2            x3            x6 \n",
              " 1.297424e+01  4.737754e+00  9.941467e+00  1.499991e+01  2.657174e-08 \n",
              "          x10 \n",
              "-1.935827e-15 "
            ]
          },
          "metadata": {}
        },
        {
          "output_type": "display_data",
          "data": {
            "text/plain": [
              "plot without title"
            ],
            "image/png": "[encoded data removed]"
          },
          "metadata": {
            "image/png": {
              "width": 420,
              "height": 420
            }
          }
        }
      ],
      "source": [
        "# WRITE YOUR CODE HERE\n",
        "numvar = 1:length(reg.summary$rss)# Make a vector that lists the number of variables in sequence, from 1 to 19.\n",
        "allfalse = rep(FALSE,length(reg.summary$rss))# Starting point for an indicator that marks the best model choice for each metric.\n",
        "\n",
        "\n",
        "#mallow's cp\n",
        "cp.df <- data.frame(numvar = numvar, cp <- reg.summary$cp, mincp <- allfalse)\n",
        "cp.df$mincp[which.min(reg.summary$cp)] <- TRUE\n",
        "ggplot(cp.df,aes(x=numvar,y=cp,shape=mincp,col=mincp)) +\n",
        "    geom_point(size=3) + theme_light() +\n",
        "    labs(x = \"Number of Variables\", y = \"Mallow's CP\", color=\"Maximum CP\", shape=\"Maximum CP\")\n",
        "\n",
        "#bic\n",
        "bic.df <- data.frame(numvar = numvar,bic <- reg.summary$bic, minbic <- allfalse)\n",
        "bic.df$minbic[which.min(reg.summary$bic)] <- TRUE\n",
        "ggplot(bic.df,aes(x=numvar,y=bic,shape=minbic,col=minbic)) +\n",
        "    geom_point(size=3) + theme_light() +\n",
        "    labs(x = \"Number of Variables\", y = \"BIC\", color=\"Minimum BIC\", shape=\"Minimum BIC\")\n",
        "\n",
        "#adjr2\n",
        "adjr2.df <- data.frame(numvar = numvar, adjr2 <- reg.summary$adjr2, maxadjr2 <- allfalse)\n",
        "adjr2.df$maxadjr2[which.max(reg.summary$adjr2)] <- TRUE\n",
        "ggplot(adjr2.df,aes(x=numvar,y=adjr2,shape=maxadjr2,col=maxadjr2)) +\n",
        "    geom_point(size=3) + theme_light() +\n",
        "    labs(x = \"Number of Variables\", y = 'Adj'~R^2, color='Maximum Adj'~R^2, shape='Maximum Adj'~R^2)\n",
        "\n",
        "#rss\n",
        "rss.df <- data.frame(numvar = numvar, rss = reg.summary$rss, minrss = allfalse)\n",
        "rss.df$minrss[which.min(reg.summary$rss)] <- TRUE\n",
        "ggplot(rss.df,aes(x=numvar,y=rss,shape=minrss,col=minrss)) +\n",
        "    geom_point(size=3) + theme_light() +\n",
        "    labs(x = \"Number of Variables\", y = \"RSS\", color=\"Minimum RSS\", shape=\"Minimum RSS\")\n",
        "\n",
        "\n",
        "cat(\"Model with best Mallows' CP:\", which.min(reg.summary$cp), \"\\n\")\n",
        "cat(\"Model with best BIC:\", which.min(reg.summary$bic), \"\\n\")\n",
        "cat(\"Model with best Adj R^2:\", which.max(reg.summary$adjr2), \"\\n\")\n",
        "\n",
        "#          x1  x2  x3  x4  x5  x6  x7  x8  x9  x10\n",
        "#4  ( 1 )  \"*\" \"*\" \"*\" \"*\" \" \" \" \" \" \" \" \" \" \" \" \"\n",
        "coef(regfit.full, 4)\n",
        "\n",
        "#          x1  x2  x3  x4  x5  x6  x7  x8  x9  x10\n",
        "#5  ( 1 )  \"*\" \"*\" \"*\" \" \" \" \" \"*\" \" \" \" \" \" \" \"*\"\n",
        "coef(regfit.full, 5)"
      ],
      "id": "6a817913"
    },
    {
      "cell_type": "markdown",
      "metadata": {
        "id": "e7f16d76"
      },
      "source": [
        "> *Write your response here*\n",
        ">\n",
        "\n",
        "The Model with the best Mallows' CP & Adj R^2 includes 5 predictors: x1, x2, x3, x6, x10.\n",
        "The coeffcients are:\n",
        "(Intercept): 12.9742372260686\n",
        "x1:  4.73775382771321\n",
        "x2:  9.94146743198132\n",
        "x3:  14.9999122017179\n",
        "x6:  2.65717389641519e-08\n",
        "x10: -1.93582720255884e-15\n",
        "\n",
        "The Model with best BIC includes 4 predictors: x1, x2, x3, x4.\n",
        "(Intercept): 10.7159699622977\n",
        "x1:  4.21171570263735\n",
        "x2:  9.95676625715304\n",
        "x3:  15.0004636053301\n",
        "x4:  2.03774534195107e-05\n",
        "\n",
        "I also notice that these models have very small beta coefficients for the variables besides x1, x2, and x3 (which are the ones we know should be related to y)\n"
      ],
      "id": "e7f16d76"
    },
    {
      "cell_type": "markdown",
      "metadata": {
        "id": "19d388b0"
      },
      "source": [
        "---\n",
        "## 2. Forward and backwards stepwise selection (3 points)"
      ],
      "id": "19d388b0"
    },
    {
      "cell_type": "markdown",
      "metadata": {
        "id": "620dc14c"
      },
      "source": [
        "Using the same simulated data from question 1, use forward stepwise selection, and backwards stepwise selections to determine the best model. Again, for both model selection methods, plot the Mallows' Cp, Bayesian Information Criteria (BIC) and the adjusted coefficient of determination, $R^2$, for each model tested. Report the coefficients of the best model."
      ],
      "id": "620dc14c"
    },
    {
      "cell_type": "markdown",
      "metadata": {
        "id": "d734954e"
      },
      "source": [
        "a) Forward stepwise selection:"
      ],
      "id": "d734954e"
    },
    {
      "cell_type": "code",
      "execution_count": 24,
      "metadata": {
        "id": "8018ba62",
        "vscode": {
          "languageId": "r"
        },
        "colab": {
          "base_uri": "https://localhost:8080/",
          "height": 1000
        },
        "outputId": "74cc71cc-9fc6-4f8d-ff28-a4170e8f87de"
      },
      "outputs": [
        {
          "output_type": "stream",
          "name": "stdout",
          "text": [
            "Forwards stepwise selection model \n",
            "Start:  AIC=2623.06\n",
            "y ~ 1\n",
            "\n",
            "       Df  Sum of Sq        RSS    AIC\n",
            "+ x3    1 2.4157e+13 3.7517e+09 1748.0\n",
            "+ x5    1 2.0794e+13 3.3661e+12 2428.0\n",
            "+ x1    1 1.7047e+13 7.1133e+12 2502.8\n",
            "+ x7    1 1.6307e+13 7.8533e+12 2512.7\n",
            "+ x9    1 1.3419e+13 1.0742e+13 2544.0\n",
            "+ x10   1 5.6933e+12 1.8467e+13 2598.2\n",
            "+ x8    1 4.6338e+12 1.9527e+13 2603.8\n",
            "+ x6    1 3.2030e+12 2.0957e+13 2610.8\n",
            "+ x4    1 1.4472e+12 2.2713e+13 2618.9\n",
            "<none>               2.4161e+13 2623.1\n",
            "+ x2    1 1.5602e+11 2.4005e+13 2624.4\n",
            "\n",
            "Step:  AIC=1748.03\n",
            "y ~ x3\n",
            "\n",
            "       Df  Sum of Sq        RSS     AIC\n",
            "+ x2    1 3751178999     530490  863.64\n",
            "+ x4    1 3144544554  607164935 1567.91\n",
            "+ x6    1 2308743760 1442965730 1654.48\n",
            "+ x8    1 1783215988 1968493501 1685.54\n",
            "+ x10   1 1498789333 2252920156 1699.03\n",
            "+ x9    1  724108341 3027601149 1728.59\n",
            "+ x7    1  621732210 3129977279 1731.91\n",
            "+ x5    1  499459975 3252249515 1735.74\n",
            "+ x1    1   92625238 3659084251 1747.53\n",
            "<none>               3751709489 1748.03\n",
            "\n",
            "Step:  AIC=863.64\n",
            "y ~ x3 + x2\n",
            "\n",
            "       Df Sum of Sq    RSS    AIC\n",
            "+ x1    1    257372 273118 799.25\n",
            "+ x5    1    138953 391537 835.27\n",
            "+ x7    1    120120 410370 839.96\n",
            "+ x9    1    110446 420044 842.29\n",
            "+ x10   1     71209 459282 851.22\n",
            "+ x8    1     66062 464428 852.34\n",
            "+ x6    1     59688 470802 853.70\n",
            "+ x4    1     50754 479736 855.58\n",
            "<none>              530490 863.64\n",
            "\n",
            "Step:  AIC=799.25\n",
            "y ~ x3 + x2 + x1\n",
            "\n",
            "       Df Sum of Sq    RSS    AIC\n",
            "+ x4    1   12819.9 260298 796.44\n",
            "+ x6    1    9497.4 263621 797.71\n",
            "+ x8    1    7024.8 266093 798.64\n",
            "+ x10   1    5457.1 267661 799.23\n",
            "<none>              273118 799.25\n",
            "+ x9    1     360.2 272758 801.12\n",
            "+ x5    1     147.6 272970 801.19\n",
            "+ x7    1      34.4 273084 801.24\n",
            "\n",
            "Step:  AIC=796.44\n",
            "y ~ x3 + x2 + x1 + x4\n",
            "\n",
            "       Df Sum of Sq    RSS    AIC\n",
            "+ x10   1    6826.7 253471 795.78\n",
            "+ x5    1    6466.8 253831 795.93\n",
            "+ x8    1    6213.1 254085 796.03\n",
            "+ x7    1    5905.4 254393 796.15\n",
            "+ x9    1    5597.3 254701 796.27\n",
            "<none>              260298 796.44\n",
            "+ x6    1    5053.2 255245 796.48\n",
            "\n",
            "Step:  AIC=795.78\n",
            "y ~ x3 + x2 + x1 + x4 + x10\n",
            "\n",
            "       Df Sum of Sq    RSS    AIC\n",
            "<none>              253471 795.78\n",
            "+ x6    1   1503.26 251968 797.19\n",
            "+ x8    1   1033.25 252438 797.38\n",
            "+ x5    1    896.80 252575 797.43\n",
            "+ x7    1    455.50 253016 797.60\n",
            "+ x9    1    222.27 253249 797.70\n"
          ]
        },
        {
          "output_type": "display_data",
          "data": {
            "text/plain": [
              "\n",
              "Call:\n",
              "lm(formula = y ~ x3 + x2 + x1 + x4 + x10, data = d1)\n",
              "\n",
              "Residuals:\n",
              "     Min       1Q   Median       3Q      Max \n",
              "-123.312  -29.581    0.764   37.732  120.912 \n",
              "\n",
              "Coefficients:\n",
              "              Estimate Std. Error   t value Pr(>|t|)    \n",
              "(Intercept)  1.515e+01  7.910e+00     1.916   0.0584 .  \n",
              "x3           1.500e+01  4.149e-04 36149.579  < 2e-16 ***\n",
              "x2           9.910e+00  3.615e-02   274.142  < 2e-16 ***\n",
              "x1           4.617e+00  5.318e-01     8.682 1.17e-13 ***\n",
              "x4           5.704e-05  2.487e-05     2.294   0.0240 *  \n",
              "x10         -7.966e-16  5.006e-16    -1.591   0.1149    \n",
              "---\n",
              "Signif. codes:  0 ‘***’ 0.001 ‘**’ 0.01 ‘*’ 0.05 ‘.’ 0.1 ‘ ’ 1\n",
              "\n",
              "Residual standard error: 51.93 on 94 degrees of freedom\n",
              "Multiple R-squared:      1,\tAdjusted R-squared:      1 \n",
              "F-statistic: 1.792e+09 on 5 and 94 DF,  p-value: < 2.2e-16\n"
            ]
          },
          "metadata": {}
        }
      ],
      "source": [
        "# WRITE YOUR CODE HERE\n",
        "\n",
        "reg.null <- lm(y ~ 1, d1)\n",
        "reg.full <- lm(y ~ ., d1)\n",
        "\n",
        "cat(\"Forwards stepwise selection model \\n\")\n",
        "forward_model <- step(reg.null, direction = \"forward\", scope= formula(lm(y ~ ., d1) ))\n",
        "summary(forward_model)\n",
        "\n"
      ],
      "id": "8018ba62"
    },
    {
      "cell_type": "code",
      "execution_count": null,
      "metadata": {
        "id": "861cedcd",
        "vscode": {
          "languageId": "r"
        }
      },
      "outputs": [],
      "source": [
        "# Note: if your model summary doesn't show up when viewing your notebook on github, copy and paste the output below.\n",
        "# Otherwise you can either delete this cell or leave it blank.\n",
        "\n",
        "```\n",
        "# paste here\n",
        "# Forwards selection model\n",
        "# Call:\n",
        "# lm(formula = y ~ x3 + x2 + x1 + x4 + x10, data = d1)\n",
        "\n",
        "# Residuals:\n",
        "#      Min       1Q   Median       3Q      Max\n",
        "# -123.312  -29.581    0.764   37.732  120.912\n",
        "\n",
        "# Coefficients:\n",
        "#               Estimate Std. Error   t value Pr(>|t|)\n",
        "# (Intercept)  1.515e+01  7.910e+00     1.916   0.0584 .\n",
        "# x3           1.500e+01  4.149e-04 36149.579  < 2e-16 ***\n",
        "# x2           9.910e+00  3.615e-02   274.142  < 2e-16 ***\n",
        "# x1           4.617e+00  5.318e-01     8.682 1.17e-13 ***\n",
        "# x4           5.704e-05  2.487e-05     2.294   0.0240 *\n",
        "# x10         -7.966e-16  5.006e-16    -1.591   0.1149\n",
        "# ---\n",
        "# Signif. codes:  0 ‘***’ 0.001 ‘**’ 0.01 ‘*’ 0.05 ‘.’ 0.1 ‘ ’ 1\n",
        "\n",
        "# Residual standard error: 51.93 on 94 degrees of freedom\n",
        "# Multiple R-squared:      1,\tAdjusted R-squared:      1\n",
        "# F-statistic: 1.792e+09 on 5 and 94 DF,  p-value: < 2.2e-16\n",
        "```"
      ],
      "id": "861cedcd"
    },
    {
      "cell_type": "markdown",
      "metadata": {
        "id": "955e381d"
      },
      "source": [
        "b) Backwards stepwise selection:"
      ],
      "id": "955e381d"
    },
    {
      "cell_type": "code",
      "execution_count": 25,
      "metadata": {
        "id": "c9a50756",
        "vscode": {
          "languageId": "r"
        },
        "colab": {
          "base_uri": "https://localhost:8080/",
          "height": 1000
        },
        "outputId": "06d81087-5195-4384-f417-f60e5b75b1a2"
      },
      "outputs": [
        {
          "output_type": "stream",
          "name": "stdout",
          "text": [
            "\n",
            " \n",
            " Backwards stepwise selection model \n",
            "Start:  AIC=803.22\n",
            "y ~ x1 + x2 + x3 + x4 + x5 + x6 + x7 + x8 + x9 + x10\n",
            "\n",
            "       Df  Sum of Sq        RSS     AIC\n",
            "- x10   1          5     247062  801.22\n",
            "- x8    1         55     247112  801.24\n",
            "- x5    1        144     247201  801.28\n",
            "- x6    1        171     247228  801.29\n",
            "- x4    1        246     247303  801.32\n",
            "- x7    1        414     247471  801.39\n",
            "- x9    1        646     247703  801.48\n",
            "<none>                   247057  803.22\n",
            "- x1    1      30236     277293  812.77\n",
            "- x2    1   11195230   11442287 1184.77\n",
            "- x3    1 9343141210 9343388267 1855.28\n",
            "\n",
            "Step:  AIC=801.22\n",
            "y ~ x1 + x2 + x3 + x4 + x5 + x6 + x7 + x8 + x9\n",
            "\n",
            "       Df  Sum of Sq        RSS     AIC\n",
            "- x5    1        143     247205  799.28\n",
            "- x7    1        424     247486  799.39\n",
            "- x9    1        713     247775  799.51\n",
            "- x4    1       1513     248575  799.83\n",
            "- x6    1       3208     250270  800.51\n",
            "- x8    1       4072     251134  800.86\n",
            "<none>                   247062  801.22\n",
            "- x1    1      30724     277786  810.94\n",
            "- x2    1   31534788   31781850 1284.92\n",
            "- x3    1 9419502443 9419749505 1854.09\n",
            "\n",
            "Step:  AIC=799.28\n",
            "y ~ x1 + x2 + x3 + x4 + x6 + x7 + x8 + x9\n",
            "\n",
            "       Df  Sum of Sq        RSS     AIC\n",
            "- x4    1 1.4440e+03 2.4865e+05  797.86\n",
            "- x6    1 3.0680e+03 2.5027e+05  798.51\n",
            "- x7    1 3.7320e+03 2.5094e+05  798.78\n",
            "- x8    1 4.0180e+03 2.5122e+05  798.89\n",
            "- x9    1 4.0710e+03 2.5128e+05  798.91\n",
            "<none>               2.4720e+05  799.28\n",
            "- x1    1 1.0472e+05 3.5192e+05  832.60\n",
            "- x2    1 3.1536e+07 3.1783e+07 1282.93\n",
            "- x3    1 2.0477e+11 2.0477e+11 2160.00\n",
            "\n",
            "Step:  AIC=797.86\n",
            "y ~ x1 + x2 + x3 + x6 + x7 + x8 + x9\n",
            "\n",
            "       Df  Sum of Sq        RSS     AIC\n",
            "- x9    1 3.4250e+03 2.5207e+05  797.23\n",
            "- x7    1 3.4900e+03 2.5214e+05  797.26\n",
            "<none>               2.4865e+05  797.86\n",
            "- x8    1 7.5790e+03 2.5623e+05  798.87\n",
            "- x6    1 9.0830e+03 2.5773e+05  799.45\n",
            "- x1    1 1.0535e+05 3.5400e+05  831.19\n",
            "- x2    1 2.9744e+08 2.9768e+08 1504.64\n",
            "- x3    1 2.0503e+11 2.0503e+11 2158.13\n",
            "\n",
            "Step:  AIC=797.23\n",
            "y ~ x1 + x2 + x3 + x6 + x7 + x8\n",
            "\n",
            "       Df  Sum of Sq        RSS     AIC\n",
            "- x7    1 6.7000e+01 2.5214e+05  795.26\n",
            "- x8    1 4.7060e+03 2.5678e+05  797.08\n",
            "<none>               2.5207e+05  797.23\n",
            "- x6    1 7.0540e+03 2.5913e+05  797.99\n",
            "- x1    1 1.4285e+05 3.9493e+05  840.13\n",
            "- x2    1 2.9760e+08 2.9785e+08 1502.69\n",
            "- x3    1 1.0803e+12 1.0803e+12 2322.31\n",
            "\n",
            "Step:  AIC=795.26\n",
            "y ~ x1 + x2 + x3 + x6 + x8\n",
            "\n",
            "       Df  Sum of Sq        RSS     AIC\n",
            "<none>               2.5214e+05  795.26\n",
            "- x8    1 1.1480e+04 2.6362e+05  797.71\n",
            "- x6    1 1.3952e+04 2.6609e+05  798.64\n",
            "- x1    1 2.0534e+05 4.5748e+05  852.83\n",
            "- x2    1 4.0677e+08 4.0702e+08 1531.92\n",
            "- x3    1 3.4120e+12 3.4120e+12 2435.32\n"
          ]
        },
        {
          "output_type": "display_data",
          "data": {
            "text/plain": [
              "\n",
              "Call:\n",
              "lm(formula = y ~ x1 + x2 + x3 + x6 + x8, data = d1)\n",
              "\n",
              "Residuals:\n",
              "     Min       1Q   Median       3Q      Max \n",
              "-125.302  -28.341    1.046   40.076  123.078 \n",
              "\n",
              "Coefficients:\n",
              "              Estimate Std. Error   t value Pr(>|t|)    \n",
              "(Intercept)  1.379e+01  7.549e+00     1.826   0.0710 .  \n",
              "x1           4.688e+00  5.359e-01     8.749 8.37e-14 ***\n",
              "x2           9.934e+00  2.551e-02   389.418  < 2e-16 ***\n",
              "x3           1.500e+01  4.206e-04 35665.496  < 2e-16 ***\n",
              "x6           4.190e-08  1.837e-08     2.281   0.0248 *  \n",
              "x8          -1.081e-11  5.226e-12    -2.069   0.0413 *  \n",
              "---\n",
              "Signif. codes:  0 ‘***’ 0.001 ‘**’ 0.01 ‘*’ 0.05 ‘.’ 0.1 ‘ ’ 1\n",
              "\n",
              "Residual standard error: 51.79 on 94 degrees of freedom\n",
              "Multiple R-squared:      1,\tAdjusted R-squared:      1 \n",
              "F-statistic: 1.801e+09 on 5 and 94 DF,  p-value: < 2.2e-16\n"
            ]
          },
          "metadata": {}
        }
      ],
      "source": [
        "# WRITE YOUR CODE HERE\n",
        "cat(\"\\n \\n Backwards stepwise selection model \\n\")\n",
        "backward_model <- step(reg.full, direction = \"backward\")\n",
        "summary(backward_model)\n"
      ],
      "id": "c9a50756"
    },
    {
      "cell_type": "code",
      "execution_count": null,
      "metadata": {
        "id": "30746619",
        "vscode": {
          "languageId": "r"
        }
      },
      "outputs": [],
      "source": [
        "# Note: if your model summary doesn't show up when viewing your notebook on github, copy and paste the output below.\n",
        "# Otherwise you can either delete this cell or leave it blank.\n",
        "\n",
        "```\n",
        "# paste here\n",
        "# Backwards selection model\n",
        "# Call:\n",
        "# lm(formula = y ~ x1 + x2 + x3 + x6 + x8, data = d1)\n",
        "\n",
        "# Residuals:\n",
        "#      Min       1Q   Median       3Q      Max\n",
        "# -125.302  -28.341    1.046   40.076  123.078\n",
        "\n",
        "# Coefficients:\n",
        "#               Estimate Std. Error   t value Pr(>|t|)\n",
        "# (Intercept)  1.379e+01  7.549e+00     1.826   0.0710 .\n",
        "# x1           4.688e+00  5.359e-01     8.749 8.37e-14 ***\n",
        "# x2           9.934e+00  2.551e-02   389.418  < 2e-16 ***\n",
        "# x3           1.500e+01  4.206e-04 35665.496  < 2e-16 ***\n",
        "# x6           4.190e-08  1.837e-08     2.281   0.0248 *\n",
        "# x8          -1.081e-11  5.226e-12    -2.069   0.0413 *\n",
        "# ---\n",
        "# Signif. codes:  0 ‘***’ 0.001 ‘**’ 0.01 ‘*’ 0.05 ‘.’ 0.1 ‘ ’ 1\n",
        "\n",
        "# Residual standard error: 51.79 on 94 degrees of freedom\n",
        "# Multiple R-squared:      1,\tAdjusted R-squared:      1\n",
        "# F-statistic: 1.801e+09 on 5 and 94 DF,  p-value: < 2.2e-16\n",
        "```"
      ],
      "id": "30746619"
    },
    {
      "cell_type": "markdown",
      "metadata": {
        "id": "25dbc027"
      },
      "source": [
        "c) Compare your results from parts a and b with those of question 1."
      ],
      "id": "25dbc027"
    },
    {
      "cell_type": "markdown",
      "metadata": {
        "id": "34ac850e"
      },
      "source": [
        "> *Write your response here*\n",
        "> The results look mostly similar to those of question 1, they get the same 3 (x, x^2, x^3) as the main predictors, and they also select for 5 predictors (including x4, x6, and x10 which were selected in q1)"
      ],
      "id": "34ac850e"
    },
    {
      "cell_type": "markdown",
      "metadata": {
        "id": "630f4909"
      },
      "source": [
        "---\n",
        "## 3. Training and test error (3 points)"
      ],
      "id": "630f4909"
    },
    {
      "cell_type": "markdown",
      "metadata": {
        "id": "cdea3f49"
      },
      "source": [
        "This question will explore the relationship between training and test error and the number of features included in a model. We will again use a simulated dataset.\n",
        "\n",
        "a) Simulate dataset with features $p = 20$ and observations $n = 1,000$. Generate data for a response variable $Y$ according to the model\n",
        "\n",
        "$Y = X\\beta + \\epsilon$\n",
        "\n",
        "where $\\beta$ is random with some elements that are exactly zero.\n",
        "\n",
        "Split your simulated dataset into a training set containing $n=100$ observations and a test set containing $n=900$ observations."
      ],
      "id": "cdea3f49"
    },
    {
      "cell_type": "code",
      "execution_count": 34,
      "metadata": {
        "id": "3f113879",
        "vscode": {
          "languageId": "r"
        },
        "colab": {
          "base_uri": "https://localhost:8080/",
          "height": 306
        },
        "outputId": "0119a20d-504c-4a2f-c189-4a7216d9c75c"
      },
      "outputs": [
        {
          "output_type": "display_data",
          "data": {
            "text/html": [
              "<table class=\"dataframe\">\n",
              "<caption>A data.frame: 6 × 21</caption>\n",
              "<thead>\n",
              "\t<tr><th></th><th scope=col>y</th><th scope=col>x1</th><th scope=col>x2</th><th scope=col>x3</th><th scope=col>x4</th><th scope=col>x5</th><th scope=col>x6</th><th scope=col>x7</th><th scope=col>x8</th><th scope=col>x9</th><th scope=col>⋯</th><th scope=col>x11</th><th scope=col>x12</th><th scope=col>x13</th><th scope=col>x14</th><th scope=col>x15</th><th scope=col>x16</th><th scope=col>x17</th><th scope=col>x18</th><th scope=col>x19</th><th scope=col>x20</th></tr>\n",
              "\t<tr><th></th><th scope=col>&lt;dbl&gt;</th><th scope=col>&lt;dbl&gt;</th><th scope=col>&lt;dbl&gt;</th><th scope=col>&lt;dbl&gt;</th><th scope=col>&lt;dbl&gt;</th><th scope=col>&lt;dbl&gt;</th><th scope=col>&lt;dbl&gt;</th><th scope=col>&lt;dbl&gt;</th><th scope=col>&lt;dbl&gt;</th><th scope=col>&lt;dbl&gt;</th><th scope=col>⋯</th><th scope=col>&lt;dbl&gt;</th><th scope=col>&lt;dbl&gt;</th><th scope=col>&lt;dbl&gt;</th><th scope=col>&lt;dbl&gt;</th><th scope=col>&lt;dbl&gt;</th><th scope=col>&lt;dbl&gt;</th><th scope=col>&lt;dbl&gt;</th><th scope=col>&lt;dbl&gt;</th><th scope=col>&lt;dbl&gt;</th><th scope=col>&lt;dbl&gt;</th></tr>\n",
              "</thead>\n",
              "<tbody>\n",
              "\t<tr><th scope=row>1</th><td>2467.749</td><td>24.10309</td><td>26.07446</td><td>25.29798</td><td>24.68188</td><td>24.78592</td><td>24.54021</td><td>23.88493</td><td>26.23874</td><td>24.37096</td><td>⋯</td><td>25.46620</td><td>25.42896</td><td>25.46855</td><td>23.39766</td><td>26.14844</td><td>24.15276</td><td>25.33874</td><td>26.22645</td><td>27.06105</td><td>25.47273</td></tr>\n",
              "\t<tr><th scope=row>2</th><td>2603.504</td><td>25.18485</td><td>25.26060</td><td>23.98045</td><td>24.68451</td><td>22.27818</td><td>25.61793</td><td>24.88578</td><td>25.23190</td><td>22.72566</td><td>⋯</td><td>25.95467</td><td>23.86471</td><td>23.69942</td><td>25.43043</td><td>26.98040</td><td>25.07043</td><td>24.73308</td><td>25.31361</td><td>24.46524</td><td>25.52498</td></tr>\n",
              "\t<tr><th scope=row>3</th><td>2532.632</td><td>26.58785</td><td>24.68573</td><td>27.87090</td><td>25.88432</td><td>23.98574</td><td>24.27958</td><td>24.10538</td><td>24.68556</td><td>25.33494</td><td>⋯</td><td>24.05279</td><td>23.72058</td><td>24.74733</td><td>25.99574</td><td>24.78977</td><td>26.58119</td><td>25.14814</td><td>25.77027</td><td>25.89955</td><td>24.90240</td></tr>\n",
              "\t<tr><th scope=row>4</th><td>2550.773</td><td>23.86962</td><td>24.25037</td><td>25.21871</td><td>23.11458</td><td>24.17085</td><td>24.41649</td><td>24.34591</td><td>26.49970</td><td>24.78631</td><td>⋯</td><td>25.03856</td><td>25.09734</td><td>25.96569</td><td>25.18359</td><td>23.88494</td><td>25.02060</td><td>26.25659</td><td>25.34463</td><td>26.60497</td><td>24.28483</td></tr>\n",
              "\t<tr><th scope=row>5</th><td>2641.326</td><td>24.91975</td><td>24.13780</td><td>24.03345</td><td>25.73218</td><td>25.85771</td><td>25.21632</td><td>26.17872</td><td>25.06957</td><td>24.96846</td><td>⋯</td><td>24.16912</td><td>24.37061</td><td>24.78891</td><td>23.60500</td><td>25.33058</td><td>24.87663</td><td>24.35372</td><td>26.00162</td><td>23.18933</td><td>23.54194</td></tr>\n",
              "\t<tr><th scope=row>6</th><td>2582.756</td><td>25.13242</td><td>27.04804</td><td>25.38384</td><td>25.79054</td><td>24.76149</td><td>26.24499</td><td>25.95152</td><td>26.33403</td><td>24.30392</td><td>⋯</td><td>25.55717</td><td>26.45473</td><td>23.60791</td><td>26.23583</td><td>23.52172</td><td>23.74262</td><td>25.18047</td><td>24.13423</td><td>23.15719</td><td>24.18059</td></tr>\n",
              "</tbody>\n",
              "</table>\n"
            ],
            "text/markdown": "\nA data.frame: 6 × 21\n\n| <!--/--> | y &lt;dbl&gt; | x1 &lt;dbl&gt; | x2 &lt;dbl&gt; | x3 &lt;dbl&gt; | x4 &lt;dbl&gt; | x5 &lt;dbl&gt; | x6 &lt;dbl&gt; | x7 &lt;dbl&gt; | x8 &lt;dbl&gt; | x9 &lt;dbl&gt; | ⋯ ⋯ | x11 &lt;dbl&gt; | x12 &lt;dbl&gt; | x13 &lt;dbl&gt; | x14 &lt;dbl&gt; | x15 &lt;dbl&gt; | x16 &lt;dbl&gt; | x17 &lt;dbl&gt; | x18 &lt;dbl&gt; | x19 &lt;dbl&gt; | x20 &lt;dbl&gt; |\n|---|---|---|---|---|---|---|---|---|---|---|---|---|---|---|---|---|---|---|---|---|---|\n| 1 | 2467.749 | 24.10309 | 26.07446 | 25.29798 | 24.68188 | 24.78592 | 24.54021 | 23.88493 | 26.23874 | 24.37096 | ⋯ | 25.46620 | 25.42896 | 25.46855 | 23.39766 | 26.14844 | 24.15276 | 25.33874 | 26.22645 | 27.06105 | 25.47273 |\n| 2 | 2603.504 | 25.18485 | 25.26060 | 23.98045 | 24.68451 | 22.27818 | 25.61793 | 24.88578 | 25.23190 | 22.72566 | ⋯ | 25.95467 | 23.86471 | 23.69942 | 25.43043 | 26.98040 | 25.07043 | 24.73308 | 25.31361 | 24.46524 | 25.52498 |\n| 3 | 2532.632 | 26.58785 | 24.68573 | 27.87090 | 25.88432 | 23.98574 | 24.27958 | 24.10538 | 24.68556 | 25.33494 | ⋯ | 24.05279 | 23.72058 | 24.74733 | 25.99574 | 24.78977 | 26.58119 | 25.14814 | 25.77027 | 25.89955 | 24.90240 |\n| 4 | 2550.773 | 23.86962 | 24.25037 | 25.21871 | 23.11458 | 24.17085 | 24.41649 | 24.34591 | 26.49970 | 24.78631 | ⋯ | 25.03856 | 25.09734 | 25.96569 | 25.18359 | 23.88494 | 25.02060 | 26.25659 | 25.34463 | 26.60497 | 24.28483 |\n| 5 | 2641.326 | 24.91975 | 24.13780 | 24.03345 | 25.73218 | 25.85771 | 25.21632 | 26.17872 | 25.06957 | 24.96846 | ⋯ | 24.16912 | 24.37061 | 24.78891 | 23.60500 | 25.33058 | 24.87663 | 24.35372 | 26.00162 | 23.18933 | 23.54194 |\n| 6 | 2582.756 | 25.13242 | 27.04804 | 25.38384 | 25.79054 | 24.76149 | 26.24499 | 25.95152 | 26.33403 | 24.30392 | ⋯ | 25.55717 | 26.45473 | 23.60791 | 26.23583 | 23.52172 | 23.74262 | 25.18047 | 24.13423 | 23.15719 | 24.18059 |\n\n",
            "text/latex": "A data.frame: 6 × 21\n\\begin{tabular}{r|lllllllllllllllllllll}\n  & y & x1 & x2 & x3 & x4 & x5 & x6 & x7 & x8 & x9 & ⋯ & x11 & x12 & x13 & x14 & x15 & x16 & x17 & x18 & x19 & x20\\\\\n  & <dbl> & <dbl> & <dbl> & <dbl> & <dbl> & <dbl> & <dbl> & <dbl> & <dbl> & <dbl> & ⋯ & <dbl> & <dbl> & <dbl> & <dbl> & <dbl> & <dbl> & <dbl> & <dbl> & <dbl> & <dbl>\\\\\n\\hline\n\t1 & 2467.749 & 24.10309 & 26.07446 & 25.29798 & 24.68188 & 24.78592 & 24.54021 & 23.88493 & 26.23874 & 24.37096 & ⋯ & 25.46620 & 25.42896 & 25.46855 & 23.39766 & 26.14844 & 24.15276 & 25.33874 & 26.22645 & 27.06105 & 25.47273\\\\\n\t2 & 2603.504 & 25.18485 & 25.26060 & 23.98045 & 24.68451 & 22.27818 & 25.61793 & 24.88578 & 25.23190 & 22.72566 & ⋯ & 25.95467 & 23.86471 & 23.69942 & 25.43043 & 26.98040 & 25.07043 & 24.73308 & 25.31361 & 24.46524 & 25.52498\\\\\n\t3 & 2532.632 & 26.58785 & 24.68573 & 27.87090 & 25.88432 & 23.98574 & 24.27958 & 24.10538 & 24.68556 & 25.33494 & ⋯ & 24.05279 & 23.72058 & 24.74733 & 25.99574 & 24.78977 & 26.58119 & 25.14814 & 25.77027 & 25.89955 & 24.90240\\\\\n\t4 & 2550.773 & 23.86962 & 24.25037 & 25.21871 & 23.11458 & 24.17085 & 24.41649 & 24.34591 & 26.49970 & 24.78631 & ⋯ & 25.03856 & 25.09734 & 25.96569 & 25.18359 & 23.88494 & 25.02060 & 26.25659 & 25.34463 & 26.60497 & 24.28483\\\\\n\t5 & 2641.326 & 24.91975 & 24.13780 & 24.03345 & 25.73218 & 25.85771 & 25.21632 & 26.17872 & 25.06957 & 24.96846 & ⋯ & 24.16912 & 24.37061 & 24.78891 & 23.60500 & 25.33058 & 24.87663 & 24.35372 & 26.00162 & 23.18933 & 23.54194\\\\\n\t6 & 2582.756 & 25.13242 & 27.04804 & 25.38384 & 25.79054 & 24.76149 & 26.24499 & 25.95152 & 26.33403 & 24.30392 & ⋯ & 25.55717 & 26.45473 & 23.60791 & 26.23583 & 23.52172 & 23.74262 & 25.18047 & 24.13423 & 23.15719 & 24.18059\\\\\n\\end{tabular}\n",
            "text/plain": [
              "  y        x1       x2       x3       x4       x5       x6       x7      \n",
              "1 2467.749 24.10309 26.07446 25.29798 24.68188 24.78592 24.54021 23.88493\n",
              "2 2603.504 25.18485 25.26060 23.98045 24.68451 22.27818 25.61793 24.88578\n",
              "3 2532.632 26.58785 24.68573 27.87090 25.88432 23.98574 24.27958 24.10538\n",
              "4 2550.773 23.86962 24.25037 25.21871 23.11458 24.17085 24.41649 24.34591\n",
              "5 2641.326 24.91975 24.13780 24.03345 25.73218 25.85771 25.21632 26.17872\n",
              "6 2582.756 25.13242 27.04804 25.38384 25.79054 24.76149 26.24499 25.95152\n",
              "  x8       x9       ⋯ x11      x12      x13      x14      x15      x16     \n",
              "1 26.23874 24.37096 ⋯ 25.46620 25.42896 25.46855 23.39766 26.14844 24.15276\n",
              "2 25.23190 22.72566 ⋯ 25.95467 23.86471 23.69942 25.43043 26.98040 25.07043\n",
              "3 24.68556 25.33494 ⋯ 24.05279 23.72058 24.74733 25.99574 24.78977 26.58119\n",
              "4 26.49970 24.78631 ⋯ 25.03856 25.09734 25.96569 25.18359 23.88494 25.02060\n",
              "5 25.06957 24.96846 ⋯ 24.16912 24.37061 24.78891 23.60500 25.33058 24.87663\n",
              "6 26.33403 24.30392 ⋯ 25.55717 26.45473 23.60791 26.23583 23.52172 23.74262\n",
              "  x17      x18      x19      x20     \n",
              "1 25.33874 26.22645 27.06105 25.47273\n",
              "2 24.73308 25.31361 24.46524 25.52498\n",
              "3 25.14814 25.77027 25.89955 24.90240\n",
              "4 26.25659 25.34463 26.60497 24.28483\n",
              "5 24.35372 26.00162 23.18933 23.54194\n",
              "6 25.18047 24.13423 23.15719 24.18059"
            ]
          },
          "metadata": {}
        }
      ],
      "source": [
        "# WRITE YOUR CODE HERE\n",
        "set.seed(2)\n",
        "\n",
        "p_size <- 20\n",
        "n_size <- 100\n",
        "frame_X <- matrix(rnorm(n_size * p_size, sd_x), n_size, p_size)\n",
        "gen_eps <- rnorm(n_size,0,sd_e)\n",
        "beta_20 <- matrix(c(rnorm(8,mean = 10, sd = 5),rep(0,12)),p_size, 1)\n",
        "gen_y <- frame_X %*% beta_20 + gen_eps\n",
        "\n",
        "d2 <- as.data.frame(cbind(gen_y, frame_X))\n",
        "colnames(d2) <- c(\"y\",\"x1\", \"x2\", \"x3\", \"x4\", \"x5\", \"x6\", \"x7\", \"x8\", \"x9\", \"x10\",\"x11\", \"x12\", \"x13\", \"x14\", \"x15\", \"x16\", \"x17\", \"x18\", \"x19\", \"x20\")\n",
        "head(d2)\n"
      ],
      "id": "3f113879"
    },
    {
      "cell_type": "markdown",
      "metadata": {
        "id": "5886639c"
      },
      "source": [
        "b) Perform best subset selection on the training set, and plot the associated training and test set MSE for the best model of each size."
      ],
      "id": "5886639c"
    },
    {
      "cell_type": "code",
      "execution_count": 36,
      "metadata": {
        "id": "a1dbdf04",
        "vscode": {
          "languageId": "r"
        },
        "colab": {
          "base_uri": "https://localhost:8080/",
          "height": 1000
        },
        "outputId": "563adae6-e1ae-4519-de21-1c8ad9262c26"
      },
      "outputs": [
        {
          "output_type": "display_data",
          "data": {
            "text/plain": [
              "Subset selection object\n",
              "Call: regsubsets.formula(y ~ ., d2, nvmax = 20)\n",
              "20 Variables  (and intercept)\n",
              "    Forced in Forced out\n",
              "x1      FALSE      FALSE\n",
              "x2      FALSE      FALSE\n",
              "x3      FALSE      FALSE\n",
              "x4      FALSE      FALSE\n",
              "x5      FALSE      FALSE\n",
              "x6      FALSE      FALSE\n",
              "x7      FALSE      FALSE\n",
              "x8      FALSE      FALSE\n",
              "x9      FALSE      FALSE\n",
              "x10     FALSE      FALSE\n",
              "x11     FALSE      FALSE\n",
              "x12     FALSE      FALSE\n",
              "x13     FALSE      FALSE\n",
              "x14     FALSE      FALSE\n",
              "x15     FALSE      FALSE\n",
              "x16     FALSE      FALSE\n",
              "x17     FALSE      FALSE\n",
              "x18     FALSE      FALSE\n",
              "x19     FALSE      FALSE\n",
              "x20     FALSE      FALSE\n",
              "1 subsets of each size up to 20\n",
              "Selection Algorithm: exhaustive\n",
              "          x1  x2  x3  x4  x5  x6  x7  x8  x9  x10 x11 x12 x13 x14 x15 x16 x17\n",
              "1  ( 1 )  \" \" \" \" \" \" \"*\" \" \" \" \" \" \" \" \" \" \" \" \" \" \" \" \" \" \" \" \" \" \" \" \" \" \"\n",
              "2  ( 1 )  \" \" \" \" \" \" \"*\" \" \" \"*\" \" \" \" \" \" \" \" \" \" \" \" \" \" \" \" \" \" \" \" \" \" \"\n",
              "3  ( 1 )  \"*\" \" \" \" \" \"*\" \" \" \"*\" \" \" \" \" \" \" \" \" \" \" \" \" \" \" \" \" \" \" \" \" \" \"\n",
              "4  ( 1 )  \"*\" \" \" \" \" \"*\" \" \" \"*\" \" \" \"*\" \" \" \" \" \" \" \" \" \" \" \" \" \" \" \" \" \" \"\n",
              "5  ( 1 )  \"*\" \" \" \" \" \"*\" \" \" \"*\" \" \" \"*\" \" \" \" \" \" \" \" \" \" \" \" \" \" \" \" \" \" \"\n",
              "6  ( 1 )  \"*\" \" \" \" \" \"*\" \"*\" \"*\" \" \" \"*\" \" \" \" \" \" \" \" \" \" \" \" \" \" \" \" \" \" \"\n",
              "7  ( 1 )  \"*\" \"*\" \" \" \"*\" \"*\" \"*\" \" \" \" \" \" \" \" \" \" \" \" \" \" \" \" \" \"*\" \" \" \" \"\n",
              "8  ( 1 )  \"*\" \" \" \" \" \"*\" \"*\" \"*\" \" \" \"*\" \" \" \" \" \" \" \" \" \" \" \" \" \"*\" \" \" \" \"\n",
              "9  ( 1 )  \"*\" \" \" \" \" \"*\" \"*\" \"*\" \" \" \"*\" \"*\" \" \" \" \" \" \" \" \" \" \" \"*\" \" \" \" \"\n",
              "10  ( 1 ) \"*\" \"*\" \" \" \"*\" \"*\" \"*\" \" \" \"*\" \"*\" \" \" \" \" \" \" \" \" \" \" \"*\" \" \" \" \"\n",
              "11  ( 1 ) \"*\" \"*\" \" \" \"*\" \"*\" \"*\" \"*\" \"*\" \"*\" \" \" \" \" \" \" \" \" \" \" \"*\" \" \" \" \"\n",
              "12  ( 1 ) \"*\" \"*\" \" \" \"*\" \"*\" \"*\" \"*\" \"*\" \"*\" \" \" \" \" \" \" \"*\" \" \" \"*\" \" \" \" \"\n",
              "13  ( 1 ) \"*\" \"*\" \" \" \"*\" \"*\" \"*\" \"*\" \"*\" \"*\" \" \" \" \" \" \" \"*\" \" \" \"*\" \" \" \" \"\n",
              "14  ( 1 ) \"*\" \"*\" \" \" \"*\" \"*\" \"*\" \"*\" \"*\" \"*\" \" \" \" \" \" \" \"*\" \"*\" \"*\" \" \" \" \"\n",
              "15  ( 1 ) \"*\" \"*\" \" \" \"*\" \"*\" \"*\" \"*\" \"*\" \"*\" \" \" \" \" \" \" \"*\" \"*\" \"*\" \"*\" \" \"\n",
              "16  ( 1 ) \"*\" \"*\" \" \" \"*\" \"*\" \"*\" \"*\" \"*\" \"*\" \" \" \" \" \" \" \"*\" \"*\" \"*\" \"*\" \"*\"\n",
              "17  ( 1 ) \"*\" \"*\" \" \" \"*\" \"*\" \"*\" \"*\" \"*\" \"*\" \" \" \" \" \"*\" \"*\" \"*\" \"*\" \"*\" \"*\"\n",
              "18  ( 1 ) \"*\" \"*\" \" \" \"*\" \"*\" \"*\" \"*\" \"*\" \"*\" \"*\" \" \" \"*\" \"*\" \"*\" \"*\" \"*\" \"*\"\n",
              "19  ( 1 ) \"*\" \"*\" \" \" \"*\" \"*\" \"*\" \"*\" \"*\" \"*\" \"*\" \"*\" \"*\" \"*\" \"*\" \"*\" \"*\" \"*\"\n",
              "20  ( 1 ) \"*\" \"*\" \"*\" \"*\" \"*\" \"*\" \"*\" \"*\" \"*\" \"*\" \"*\" \"*\" \"*\" \"*\" \"*\" \"*\" \"*\"\n",
              "          x18 x19 x20\n",
              "1  ( 1 )  \" \" \" \" \" \"\n",
              "2  ( 1 )  \" \" \" \" \" \"\n",
              "3  ( 1 )  \" \" \" \" \" \"\n",
              "4  ( 1 )  \" \" \" \" \" \"\n",
              "5  ( 1 )  \" \" \" \" \"*\"\n",
              "6  ( 1 )  \" \" \" \" \"*\"\n",
              "7  ( 1 )  \" \" \" \" \"*\"\n",
              "8  ( 1 )  \" \" \"*\" \"*\"\n",
              "9  ( 1 )  \" \" \"*\" \"*\"\n",
              "10  ( 1 ) \" \" \"*\" \"*\"\n",
              "11  ( 1 ) \" \" \"*\" \"*\"\n",
              "12  ( 1 ) \" \" \"*\" \"*\"\n",
              "13  ( 1 ) \"*\" \"*\" \"*\"\n",
              "14  ( 1 ) \"*\" \"*\" \"*\"\n",
              "15  ( 1 ) \"*\" \"*\" \"*\"\n",
              "16  ( 1 ) \"*\" \"*\" \"*\"\n",
              "17  ( 1 ) \"*\" \"*\" \"*\"\n",
              "18  ( 1 ) \"*\" \"*\" \"*\"\n",
              "19  ( 1 ) \"*\" \"*\" \"*\"\n",
              "20  ( 1 ) \"*\" \"*\" \"*\""
            ]
          },
          "metadata": {}
        },
        {
          "output_type": "display_data",
          "data": {
            "text/plain": [
              "Subset selection object\n",
              "Call: regsubsets.formula(y ~ ., d2, nvmax = 20)\n",
              "20 Variables  (and intercept)\n",
              "    Forced in Forced out\n",
              "x1      FALSE      FALSE\n",
              "x2      FALSE      FALSE\n",
              "x3      FALSE      FALSE\n",
              "x4      FALSE      FALSE\n",
              "x5      FALSE      FALSE\n",
              "x6      FALSE      FALSE\n",
              "x7      FALSE      FALSE\n",
              "x8      FALSE      FALSE\n",
              "x9      FALSE      FALSE\n",
              "x10     FALSE      FALSE\n",
              "x11     FALSE      FALSE\n",
              "x12     FALSE      FALSE\n",
              "x13     FALSE      FALSE\n",
              "x14     FALSE      FALSE\n",
              "x15     FALSE      FALSE\n",
              "x16     FALSE      FALSE\n",
              "x17     FALSE      FALSE\n",
              "x18     FALSE      FALSE\n",
              "x19     FALSE      FALSE\n",
              "x20     FALSE      FALSE\n",
              "1 subsets of each size up to 20\n",
              "Selection Algorithm: exhaustive"
            ]
          },
          "metadata": {}
        }
      ],
      "source": [
        "# WRITE YOUR CODE HERE\n",
        "regfit.full = regsubsets(y~., d2, nvmax=20)\n",
        "reg.summary = summary(regfit.full)\n",
        "reg.summary\n",
        "\n",
        "reg.summary$obj"
      ],
      "id": "a1dbdf04"
    },
    {
      "cell_type": "markdown",
      "metadata": {
        "id": "24f9d2f1"
      },
      "source": [
        "c) Identify the best model according the test MSE. How does this model compare to the actual model used to simulate the dataset?\n",
        "\n",
        "*Note: If the model identified contains only an intercept or all of the features, then generate a new dataset (i.e. repeat part a with a different random seed) until the test set MSE is minimized for an intermediate model size.*"
      ],
      "id": "24f9d2f1"
    },
    {
      "cell_type": "code",
      "execution_count": null,
      "metadata": {
        "id": "87db7d52",
        "vscode": {
          "languageId": "r"
        }
      },
      "outputs": [],
      "source": [
        "# WRITE YOUR CODE HERE\n",
        "\n"
      ],
      "id": "87db7d52"
    },
    {
      "cell_type": "markdown",
      "metadata": {
        "id": "894b4503"
      },
      "source": [
        "> *Write your response here*\n",
        ">"
      ],
      "id": "894b4503"
    },
    {
      "cell_type": "markdown",
      "metadata": {
        "id": "35b974f0"
      },
      "source": [
        "**DUE:** 5pm EST, April 8, 2024"
      ],
      "id": "35b974f0"
    },
    {
      "cell_type": "markdown",
      "metadata": {
        "id": "957a72c5"
      },
      "source": [
        "**IMPORTANT** Did you collaborate with anyone on this assignment? If so, list their names here.\n",
        "> *Someone's Name*"
      ],
      "id": "957a72c5"
    }
  ],
  "metadata": {
    "colab": {
      "provenance": []
    },
    "kernelspec": {
      "display_name": "R",
      "language": "R",
      "name": "ir"
    },
    "language_info": {
      "codemirror_mode": "r",
      "file_extension": ".r",
      "mimetype": "text/x-r-source",
      "name": "R",
      "pygments_lexer": "r",
      "version": "4.2.0"
    }
  },
  "nbformat": 4,
  "nbformat_minor": 5
}