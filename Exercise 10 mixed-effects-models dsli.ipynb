{
  "cells": [
    {
      "cell_type": "markdown",
      "metadata": {
        "id": "view-in-github",
        "colab_type": "text"
      },
      "source": [
        "<a href=\"https://colab.research.google.com/github/DavidS41/Li_DSPN_S25/blob/main/Exercise%2010%20mixed-effects-models%20dsli.ipynb\" target=\"_parent\"><img src=\"https://colab.research.google.com/assets/colab-badge.svg\" alt=\"Open In Colab\"/></a>"
      ]
    },
    {
      "cell_type": "markdown",
      "metadata": {
        "id": "-2W919d2ZXp7"
      },
      "source": [
        "# Exercise 10: Mixed effects"
      ]
    },
    {
      "cell_type": "markdown",
      "source": [
        "1. Loading and formatting the data 1/1\n",
        "2. Model fitting 4/4\n",
        "3. Model assessment 4/4\n",
        "4. Reflection 1/1"
      ],
      "metadata": {
        "id": "pk8tbblLhjPV"
      }
    },
    {
      "cell_type": "markdown",
      "metadata": {
        "id": "L4nOzVhyZXqK"
      },
      "source": [
        "This homework assignment is designed to give you practice fitting and interpreting mixed effects models.\n",
        "\n",
        "We will be using the **LexicalData.csv** and **Items.csv** files from the *Homework/lexDat* folder in the class GitHub repository again.\n",
        "\n",
        "This data is a subset of the [English Lexicon Project database](https://elexicon.wustl.edu/). It provides the reaction times (in milliseconds) of many subjects as they are presented with letter strings and asked to decide, as quickly and as accurately as possible, whether the letter string is a word or not. The **Items.csv** provides characteristics of the words used, namely frequency (how common is this word?) and length (how many letters?). Unlike in the previous homework, there isn't any missing data in the **LexicalData.csv** file.\n",
        "\n",
        "*Data courtesy of Balota, D.A., Yap, M.J., Cortese, M.J., Hutchison, K.A., Kessler, B., Loftis, B., Neely, J.H., Nelson, D.L., Simpson, G.B., & Treiman, R. (2007). The English Lexicon Project. Behavior Research Methods, 39, 445-459.*"
      ]
    },
    {
      "cell_type": "markdown",
      "metadata": {
        "id": "9DsyBTB6ZXqN"
      },
      "source": [
        "---\n",
        "## 1. Loading and formatting the data (1 point)\n",
        "\n",
        "Load in data from the **LexicalData.csv** and **Items.csv** files. As in the previous homeworks, remove the commas from the reaction times and convert them from strings to numbers. Use `left_join` to add word characteristics `Length` and `Log_Freq_Hal` from **Items** to **LexicalData**.\n",
        "\n",
        "*Note: the `Freq_HAL` variable in **Items.csv** has a similar formatting issue, using string values with commas. We're not going to worry about fixing this since we're only using `Log_Freq_HAL`, which is the natural log transformation of `Freq_HAL`, in this homework.*"
      ]
    },
    {
      "cell_type": "code",
      "execution_count": null,
      "metadata": {
        "colab": {
          "base_uri": "https://localhost:8080/",
          "height": 494
        },
        "id": "UnBVazYfZXqP",
        "outputId": "7ee13900-952b-42da-c7e4-0b27f7f708fb",
        "vscode": {
          "languageId": "r"
        }
      },
      "outputs": [
        {
          "name": "stderr",
          "output_type": "stream",
          "text": [
            "── \u001b[1mAttaching core tidyverse packages\u001b[22m ──────────────────────── tidyverse 2.0.0 ──\n",
            "\u001b[32m✔\u001b[39m \u001b[34mdplyr    \u001b[39m 1.1.4     \u001b[32m✔\u001b[39m \u001b[34mreadr    \u001b[39m 2.1.5\n",
            "\u001b[32m✔\u001b[39m \u001b[34mforcats  \u001b[39m 1.0.0     \u001b[32m✔\u001b[39m \u001b[34mstringr  \u001b[39m 1.5.1\n",
            "\u001b[32m✔\u001b[39m \u001b[34mggplot2  \u001b[39m 3.5.1     \u001b[32m✔\u001b[39m \u001b[34mtibble   \u001b[39m 3.2.1\n",
            "\u001b[32m✔\u001b[39m \u001b[34mlubridate\u001b[39m 1.9.4     \u001b[32m✔\u001b[39m \u001b[34mtidyr    \u001b[39m 1.3.1\n",
            "\u001b[32m✔\u001b[39m \u001b[34mpurrr    \u001b[39m 1.0.4     \n",
            "── \u001b[1mConflicts\u001b[22m ────────────────────────────────────────── tidyverse_conflicts() ──\n",
            "\u001b[31m✖\u001b[39m \u001b[34mdplyr\u001b[39m::\u001b[32mfilter()\u001b[39m masks \u001b[34mstats\u001b[39m::filter()\n",
            "\u001b[31m✖\u001b[39m \u001b[34mdplyr\u001b[39m::\u001b[32mlag()\u001b[39m    masks \u001b[34mstats\u001b[39m::lag()\n",
            "\u001b[36mℹ\u001b[39m Use the conflicted package (\u001b[3m\u001b[34m<http://conflicted.r-lib.org/>\u001b[39m\u001b[23m) to force all conflicts to become errors\n"
          ]
        },
        {
          "data": {
            "text/html": [
              "<style>\n",
              ".list-inline {list-style: none; margin:0; padding: 0}\n",
              ".list-inline>li {display: inline-block}\n",
              ".list-inline>li:not(:last-child)::after {content: \"\\00b7\"; padding: 0 .5ex}\n",
              "</style>\n",
              "<ol class=list-inline><li>'LexicalData.csv'</li><li>'sample_data'</li></ol>\n"
            ],
            "text/latex": [
              "\\begin{enumerate*}\n",
              "\\item 'LexicalData.csv'\n",
              "\\item 'sample\\_data'\n",
              "\\end{enumerate*}\n"
            ],
            "text/markdown": [
              "1. 'LexicalData.csv'\n",
              "2. 'sample_data'\n",
              "\n",
              "\n"
            ],
            "text/plain": [
              "[1] \"LexicalData.csv\" \"sample_data\"    "
            ]
          },
          "metadata": {},
          "output_type": "display_data"
        },
        {
          "data": {
            "text/html": [
              "<style>\n",
              ".list-inline {list-style: none; margin:0; padding: 0}\n",
              ".list-inline>li {display: inline-block}\n",
              ".list-inline>li:not(:last-child)::after {content: \"\\00b7\"; padding: 0 .5ex}\n",
              "</style>\n",
              "<ol class=list-inline><li>'Items.csv'</li><li>'LexicalData.csv'</li><li>'sample_data'</li></ol>\n"
            ],
            "text/latex": [
              "\\begin{enumerate*}\n",
              "\\item 'Items.csv'\n",
              "\\item 'LexicalData.csv'\n",
              "\\item 'sample\\_data'\n",
              "\\end{enumerate*}\n"
            ],
            "text/markdown": [
              "1. 'Items.csv'\n",
              "2. 'LexicalData.csv'\n",
              "3. 'sample_data'\n",
              "\n",
              "\n"
            ],
            "text/plain": [
              "[1] \"Items.csv\"       \"LexicalData.csv\" \"sample_data\"    "
            ]
          },
          "metadata": {},
          "output_type": "display_data"
        },
        {
          "data": {
            "text/html": [
              "<table class=\"dataframe\">\n",
              "<caption>A data.frame: 6 × 9</caption>\n",
              "<thead>\n",
              "\t<tr><th></th><th scope=col>Sub_ID</th><th scope=col>Trial</th><th scope=col>Type</th><th scope=col>D_RT</th><th scope=col>D_Word</th><th scope=col>Outlier</th><th scope=col>D_Zscore</th><th scope=col>Length</th><th scope=col>Log_Freq_HAL</th></tr>\n",
              "\t<tr><th></th><th scope=col>&lt;int&gt;</th><th scope=col>&lt;int&gt;</th><th scope=col>&lt;int&gt;</th><th scope=col>&lt;dbl&gt;</th><th scope=col>&lt;chr&gt;</th><th scope=col>&lt;chr&gt;</th><th scope=col>&lt;dbl&gt;</th><th scope=col>&lt;int&gt;</th><th scope=col>&lt;dbl&gt;</th></tr>\n",
              "</thead>\n",
              "<tbody>\n",
              "\t<tr><th scope=row>1</th><td>157</td><td>1</td><td>1</td><td> 710</td><td>browse     </td><td>false</td><td>-0.437</td><td> 6</td><td>8.856</td></tr>\n",
              "\t<tr><th scope=row>2</th><td> 67</td><td>1</td><td>1</td><td>1094</td><td>refrigerant</td><td>false</td><td> 0.825</td><td>11</td><td>4.644</td></tr>\n",
              "\t<tr><th scope=row>3</th><td>120</td><td>1</td><td>1</td><td> 587</td><td>gaining    </td><td>false</td><td>-0.645</td><td> 7</td><td>8.304</td></tr>\n",
              "\t<tr><th scope=row>4</th><td> 21</td><td>1</td><td>1</td><td> 984</td><td>cheerless  </td><td>false</td><td> 0.025</td><td> 9</td><td>2.639</td></tr>\n",
              "\t<tr><th scope=row>5</th><td>236</td><td>1</td><td>1</td><td> 577</td><td>pattered   </td><td>false</td><td>-0.763</td><td> 8</td><td>1.386</td></tr>\n",
              "\t<tr><th scope=row>6</th><td>236</td><td>2</td><td>1</td><td> 715</td><td>conjures   </td><td>false</td><td>-0.364</td><td> 8</td><td>5.268</td></tr>\n",
              "</tbody>\n",
              "</table>\n"
            ],
            "text/latex": [
              "A data.frame: 6 × 9\n",
              "\\begin{tabular}{r|lllllllll}\n",
              "  & Sub\\_ID & Trial & Type & D\\_RT & D\\_Word & Outlier & D\\_Zscore & Length & Log\\_Freq\\_HAL\\\\\n",
              "  & <int> & <int> & <int> & <dbl> & <chr> & <chr> & <dbl> & <int> & <dbl>\\\\\n",
              "\\hline\n",
              "\t1 & 157 & 1 & 1 &  710 & browse      & false & -0.437 &  6 & 8.856\\\\\n",
              "\t2 &  67 & 1 & 1 & 1094 & refrigerant & false &  0.825 & 11 & 4.644\\\\\n",
              "\t3 & 120 & 1 & 1 &  587 & gaining     & false & -0.645 &  7 & 8.304\\\\\n",
              "\t4 &  21 & 1 & 1 &  984 & cheerless   & false &  0.025 &  9 & 2.639\\\\\n",
              "\t5 & 236 & 1 & 1 &  577 & pattered    & false & -0.763 &  8 & 1.386\\\\\n",
              "\t6 & 236 & 2 & 1 &  715 & conjures    & false & -0.364 &  8 & 5.268\\\\\n",
              "\\end{tabular}\n"
            ],
            "text/markdown": [
              "\n",
              "A data.frame: 6 × 9\n",
              "\n",
              "| <!--/--> | Sub_ID &lt;int&gt; | Trial &lt;int&gt; | Type &lt;int&gt; | D_RT &lt;dbl&gt; | D_Word &lt;chr&gt; | Outlier &lt;chr&gt; | D_Zscore &lt;dbl&gt; | Length &lt;int&gt; | Log_Freq_HAL &lt;dbl&gt; |\n",
              "|---|---|---|---|---|---|---|---|---|---|\n",
              "| 1 | 157 | 1 | 1 |  710 | browse      | false | -0.437 |  6 | 8.856 |\n",
              "| 2 |  67 | 1 | 1 | 1094 | refrigerant | false |  0.825 | 11 | 4.644 |\n",
              "| 3 | 120 | 1 | 1 |  587 | gaining     | false | -0.645 |  7 | 8.304 |\n",
              "| 4 |  21 | 1 | 1 |  984 | cheerless   | false |  0.025 |  9 | 2.639 |\n",
              "| 5 | 236 | 1 | 1 |  577 | pattered    | false | -0.763 |  8 | 1.386 |\n",
              "| 6 | 236 | 2 | 1 |  715 | conjures    | false | -0.364 |  8 | 5.268 |\n",
              "\n"
            ],
            "text/plain": [
              "  Sub_ID Trial Type D_RT D_Word      Outlier D_Zscore Length Log_Freq_HAL\n",
              "1 157    1     1     710 browse      false   -0.437    6     8.856       \n",
              "2  67    1     1    1094 refrigerant false    0.825   11     4.644       \n",
              "3 120    1     1     587 gaining     false   -0.645    7     8.304       \n",
              "4  21    1     1     984 cheerless   false    0.025    9     2.639       \n",
              "5 236    1     1     577 pattered    false   -0.763    8     1.386       \n",
              "6 236    2     1     715 conjures    false   -0.364    8     5.268       "
            ]
          },
          "metadata": {},
          "output_type": "display_data"
        }
      ],
      "source": [
        "# WRITE YOUR CODE HERE\n",
        "#Load tidyverse\n",
        "#install.packages(\"tidyverse\")\n",
        "library(tidyverse)\n",
        "library(ggplot2)\n",
        "\n",
        "#Load the data\n",
        "system(\"gdown --id 1GNeEukTniu54HAquNk4IZ3FQDjUaPMft\")\n",
        "list.files()\n",
        "d_lex <- read.csv(\"LexicalData.csv\")\n",
        "#head(d_lex)\n",
        "\n",
        "system(\"gdown --id 1m0gm26jgxnI8Jlkkc3RN8UYnxeBOs072\")\n",
        "list.files()\n",
        "d_items<- read.csv(\"Items.csv\")\n",
        "#head(d_items)\n",
        "d_items_2<- d_items%>%\n",
        "  select(Word, Length, Log_Freq_HAL)%>%\n",
        "  rename(D_Word = Word)\n",
        "#head(d_items_2)\n",
        "\n",
        "d1<-left_join(d_lex, d_items_2, by = \"D_Word\")%>%\n",
        "  drop_na()\n",
        "\n",
        "d1$D_RT <- gsub(\",\", \"\", d1$D_RT)\n",
        "d1$D_RT <- as.numeric(d1$D_RT)\n",
        "\n",
        "head(d1)"
      ]
    },
    {
      "cell_type": "markdown",
      "metadata": {
        "id": "bXy81Viishk1"
      },
      "source": [
        "---\n",
        "## 2. Model fitting (4 points)"
      ]
    },
    {
      "cell_type": "markdown",
      "metadata": {
        "id": "H7_gEgkbzFtU"
      },
      "source": [
        "First, fit a linear model with `Log_Freq_HAL` and `Length` as predictors, and `D_RT` as the output. Include an interaction term. Use `summary()` to look at the model output."
      ]
    },
    {
      "cell_type": "code",
      "execution_count": null,
      "metadata": {
        "colab": {
          "base_uri": "https://localhost:8080/",
          "height": 364
        },
        "id": "OIOIg-GRz4rN",
        "outputId": "5bcbf167-94b4-4934-a4f9-20e86a0ba635",
        "vscode": {
          "languageId": "r"
        }
      },
      "outputs": [
        {
          "data": {
            "text/plain": [
              "\n",
              "Call:\n",
              "lm(formula = D_RT ~ Log_Freq_HAL * Length, data = d1)\n",
              "\n",
              "Residuals:\n",
              "     Min       1Q   Median       3Q      Max \n",
              "-1118.01  -205.23   -86.95    90.77  3147.07 \n",
              "\n",
              "Coefficients:\n",
              "                    Estimate Std. Error t value Pr(>|t|)    \n",
              "(Intercept)         610.1903    14.6678  41.601  < 2e-16 ***\n",
              "Log_Freq_HAL         -6.0239     1.9678  -3.061  0.00221 ** \n",
              "Length               47.7531     1.6368  29.175  < 2e-16 ***\n",
              "Log_Freq_HAL:Length  -2.9421     0.2348 -12.528  < 2e-16 ***\n",
              "---\n",
              "Signif. codes:  0 ‘***’ 0.001 ‘**’ 0.01 ‘*’ 0.05 ‘.’ 0.1 ‘ ’ 1\n",
              "\n",
              "Residual standard error: 359.1 on 62606 degrees of freedom\n",
              "Multiple R-squared:  0.09473,\tAdjusted R-squared:  0.09469 \n",
              "F-statistic:  2184 on 3 and 62606 DF,  p-value: < 2.2e-16\n"
            ]
          },
          "metadata": {},
          "output_type": "display_data"
        }
      ],
      "source": [
        "# WRITE YOUR CODE HERE\n",
        "lin_mod<-lm(D_RT ~ Log_Freq_HAL*Length, data = d1)\n",
        "summary(lin_mod)"
      ]
    },
    {
      "cell_type": "markdown",
      "metadata": {
        "id": "Pbeg_JrS3mwU"
      },
      "source": [
        "Now, install `lme4` using `install.packages()` and then load the library."
      ]
    },
    {
      "cell_type": "code",
      "execution_count": null,
      "metadata": {
        "colab": {
          "base_uri": "https://localhost:8080/"
        },
        "id": "hFSnvvb_re2O",
        "outputId": "f4c10362-8a81-4ca1-908b-129e0d882493",
        "vscode": {
          "languageId": "r"
        }
      },
      "outputs": [
        {
          "name": "stderr",
          "output_type": "stream",
          "text": [
            "Installing package into ‘/usr/local/lib/R/site-library’\n",
            "(as ‘lib’ is unspecified)\n",
            "\n",
            "also installing the dependencies ‘reformulas’, ‘RcppEigen’\n",
            "\n",
            "\n",
            "Loading required package: Matrix\n",
            "\n",
            "\n",
            "Attaching package: ‘Matrix’\n",
            "\n",
            "\n",
            "The following objects are masked from ‘package:tidyr’:\n",
            "\n",
            "    expand, pack, unpack\n",
            "\n",
            "\n"
          ]
        }
      ],
      "source": [
        "# WRITE YOUR CODE HERE\n",
        "install.packages(\"lme4\")\n",
        "library(lme4)\n"
      ]
    },
    {
      "cell_type": "markdown",
      "metadata": {
        "id": "xZJns7xr41nW"
      },
      "source": [
        "Now fit a mixed effects model that includes the same predictors as the linear model above, as well as random intercepts for `Sub_ID` (i.e., cases where subject ID shifts the RT mean). Use `summary()` to look at the model output."
      ]
    },
    {
      "cell_type": "code",
      "execution_count": null,
      "metadata": {
        "colab": {
          "base_uri": "https://localhost:8080/",
          "height": 503
        },
        "id": "8kjwT0je57N7",
        "outputId": "2c5898c4-8909-469e-c5b9-c4f6c8d3d440",
        "vscode": {
          "languageId": "r"
        }
      },
      "outputs": [
        {
          "data": {
            "text/plain": [
              "Linear mixed model fit by REML ['lmerMod']\n",
              "Formula: D_RT ~ Log_Freq_HAL * Length + (1 | Sub_ID)\n",
              "   Data: d1\n",
              "\n",
              "REML criterion at convergence: 888235.6\n",
              "\n",
              "Scaled residuals: \n",
              "    Min      1Q  Median      3Q     Max \n",
              "-4.5058 -0.5472 -0.1568  0.3103 10.7381 \n",
              "\n",
              "Random effects:\n",
              " Groups   Name        Variance Std.Dev.\n",
              " Sub_ID   (Intercept) 46333    215.3   \n",
              " Residual             82978    288.1   \n",
              "Number of obs: 62610, groups:  Sub_ID, 299\n",
              "\n",
              "Fixed effects:\n",
              "                    Estimate Std. Error t value\n",
              "(Intercept)         616.8445    17.1522  35.963\n",
              "Log_Freq_HAL         -7.4374     1.5830  -4.698\n",
              "Length               47.7477     1.3162  36.277\n",
              "Log_Freq_HAL:Length  -2.8778     0.1888 -15.239\n",
              "\n",
              "Correlation of Fixed Effects:\n",
              "            (Intr) Lg_F_HAL Length\n",
              "Log_Frq_HAL -0.645                \n",
              "Length      -0.656  0.917         \n",
              "Lg_Fr_HAL:L  0.582 -0.942   -0.923"
            ]
          },
          "metadata": {},
          "output_type": "display_data"
        }
      ],
      "source": [
        "# WRITE YOUR CODE HERE\n",
        "\n",
        "mixed_effects<-lmer(D_RT ~ Log_Freq_HAL*Length + (1 | Sub_ID), data=d1)\n",
        "summary(mixed_effects)"
      ]
    },
    {
      "cell_type": "markdown",
      "metadata": {
        "id": "Vfb_ovk7JFGt"
      },
      "source": [
        "---\n",
        "## 3. Model assessment (4 points)"
      ]
    },
    {
      "cell_type": "markdown",
      "metadata": {
        "id": "r7B1Ux6RHGjy"
      },
      "source": [
        "Compare the three t-values for the fixed effects and the mixed effects models. How do they differ, and why?"
      ]
    },
    {
      "cell_type": "markdown",
      "metadata": {
        "id": "kCi5gYOeHo6m"
      },
      "source": [
        "> *Write your response here*\n",
        "> The three t-values for: Log_Freq_HAL, Length, and the interaction term: Log_Freq_HAL:Length in the fixed effects modelare -3.061, 29.175, and -12.528 respectively. The t-values for these three (in the same order) for the mixed effects model are: -4.698, 36.277, -15.239. Generally the magnitude of the t-values are larger suggesting that the coefficient estimates are more significant. This is likely because the mixed effects model accounts for some variance/noise that the fixed effects model cannot and the relationship between the predictors and DV (RT) is more clear within each group of the random effect (within observations of the same subject)."
      ]
    },
    {
      "cell_type": "markdown",
      "metadata": {
        "id": "hukKG1AbGqXM"
      },
      "source": [
        "Use the Aikeke Information Criterion (AIC) to compare these two models. Which one is better?"
      ]
    },
    {
      "cell_type": "code",
      "execution_count": null,
      "metadata": {
        "colab": {
          "base_uri": "https://localhost:8080/",
          "height": 178
        },
        "id": "KMDg8qb5FhJz",
        "outputId": "d123afcb-a31d-44fa-d8b0-bce16bd3ae0d",
        "vscode": {
          "languageId": "r"
        }
      },
      "outputs": [
        {
          "data": {
            "text/html": [
              "<table class=\"dataframe\">\n",
              "<caption>A data.frame: 2 × 2</caption>\n",
              "<thead>\n",
              "\t<tr><th></th><th scope=col>df</th><th scope=col>AIC</th></tr>\n",
              "\t<tr><th></th><th scope=col>&lt;dbl&gt;</th><th scope=col>&lt;dbl&gt;</th></tr>\n",
              "</thead>\n",
              "<tbody>\n",
              "\t<tr><th scope=row>lin_mod</th><td>5</td><td>914436.4</td></tr>\n",
              "\t<tr><th scope=row>mixed_effects</th><td>6</td><td>888247.6</td></tr>\n",
              "</tbody>\n",
              "</table>\n"
            ],
            "text/latex": [
              "A data.frame: 2 × 2\n",
              "\\begin{tabular}{r|ll}\n",
              "  & df & AIC\\\\\n",
              "  & <dbl> & <dbl>\\\\\n",
              "\\hline\n",
              "\tlin\\_mod & 5 & 914436.4\\\\\n",
              "\tmixed\\_effects & 6 & 888247.6\\\\\n",
              "\\end{tabular}\n"
            ],
            "text/markdown": [
              "\n",
              "A data.frame: 2 × 2\n",
              "\n",
              "| <!--/--> | df &lt;dbl&gt; | AIC &lt;dbl&gt; |\n",
              "|---|---|---|\n",
              "| lin_mod | 5 | 914436.4 |\n",
              "| mixed_effects | 6 | 888247.6 |\n",
              "\n"
            ],
            "text/plain": [
              "              df AIC     \n",
              "lin_mod       5  914436.4\n",
              "mixed_effects 6  888247.6"
            ]
          },
          "metadata": {},
          "output_type": "display_data"
        },
        {
          "data": {
            "text/html": [
              "-26188.8233715772"
            ],
            "text/latex": [
              "-26188.8233715772"
            ],
            "text/markdown": [
              "-26188.8233715772"
            ],
            "text/plain": [
              "[1] -26188.82"
            ]
          },
          "metadata": {},
          "output_type": "display_data"
        }
      ],
      "source": [
        "# WRITE YOUR CODE HERE\n",
        "ic = AIC(lin_mod, mixed_effects)\n",
        "ic\n",
        "diff(ic$AIC)\n"
      ]
    },
    {
      "cell_type": "markdown",
      "metadata": {
        "id": "T4oTfsYmIvYt"
      },
      "source": [
        "> *Write your response here*\n",
        "> The mixed effects model has the lowest AIC suggesting that it's the better fitting model (compared to the basic linear model) -- it explains more variance even when penalizing for the additional complexity of incorporating the random effect."
      ]
    },
    {
      "cell_type": "markdown",
      "metadata": {
        "id": "ARF2PF2yLXkZ"
      },
      "source": [
        "---\n",
        "##  4. Reflection (1 point)\n",
        "\n",
        "What other random effects could be controlled for in this data set?\n",
        "\n",
        "> *Write your response here*\n",
        "> You could also incorporate random effects for Trial\tas you may not expect the difference between the trial numbers to map to differences in reaction time/you largely expect some random effect from different trials. Maybe you could incorporate one for D_Word if you reduce the dataset to focus only on some subset of words that are similar in length (you wouldn't necessarily expect the same length words to take longer/shorter to be recognized and any difference you observe wouldn't map from the category difference to a real world difference)."
      ]
    },
    {
      "cell_type": "markdown",
      "metadata": {
        "id": "C4MPECMmZXqe"
      },
      "source": [
        "**DUE:** 5pm EST, March 18, 2024"
      ]
    },
    {
      "cell_type": "markdown",
      "metadata": {
        "id": "r9GUofXN4BVy"
      },
      "source": [
        "**IMPORTANT** Did you collaborate with anyone on this assignment? If so, list their names here.\n",
        "> *Someone's Name*"
      ]
    }
  ],
  "metadata": {
    "colab": {
      "provenance": [],
      "toc_visible": true,
      "include_colab_link": true
    },
    "kernelspec": {
      "display_name": "R",
      "language": "R",
      "name": "ir"
    },
    "language_info": {
      "codemirror_mode": "r",
      "file_extension": ".r",
      "mimetype": "text/x-r-source",
      "name": "R",
      "pygments_lexer": "r",
      "version": "4.2.0"
    }
  },
  "nbformat": 4,
  "nbformat_minor": 0
}