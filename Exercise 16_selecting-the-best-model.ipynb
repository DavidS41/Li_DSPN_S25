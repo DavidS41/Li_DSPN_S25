{
  "cells": [
    {
      "cell_type": "markdown",
      "metadata": {
        "id": "614c6a4a"
      },
      "source": [
        "# Exercise 16: Model selection"
      ],
      "id": "614c6a4a"
    },
    {
      "cell_type": "markdown",
      "metadata": {
        "id": "7e861f62"
      },
      "source": [
        "This homework is designed to give you practice implementing model selection techniques, including best subset selection and forward/backward stepwise selection.\n",
        "\n",
        "You won't need to load in any data for this homework, we will be simulating our own."
      ],
      "id": "7e861f62"
    },
    {
      "cell_type": "markdown",
      "metadata": {
        "id": "b065256e"
      },
      "source": [
        "---\n",
        "## 1. Best subset selection (4 points)"
      ],
      "id": "b065256e"
    },
    {
      "cell_type": "markdown",
      "metadata": {
        "id": "bfe412c5"
      },
      "source": [
        "In this question, we will first generate simulated data, and then use it to perform best subset selection.\n",
        "\n",
        "a) Use `rnorm()` to generate a dataset including a predictor $X$ of length $n = 100$ and a noise vector $\\epsilon$ of length $n = 100$. Generate data for a response variable $Y$ of length $n = 100$ according to the model\n",
        "\n",
        "$Y = \\beta_0 + \\beta_1X + \\beta_2X^2 + \\beta_3X^3 + \\epsilon$\n",
        "\n",
        "where $\\beta_0$, $\\beta_1$, $\\beta_2$, and $\\beta_3$ are constants of your choice.\n"
      ],
      "id": "bfe412c5"
    },
    {
      "cell_type": "code",
      "execution_count": 2,
      "metadata": {
        "id": "82a01047",
        "vscode": {
          "languageId": "r"
        },
        "colab": {
          "base_uri": "https://localhost:8080/",
          "height": 286
        },
        "outputId": "9f8fb877-6797-472e-db69-70359fd4a078"
      },
      "outputs": [
        {
          "output_type": "display_data",
          "data": {
            "text/html": [
              "<table class=\"dataframe\">\n",
              "<caption>A data.frame: 6 × 11</caption>\n",
              "<thead>\n",
              "\t<tr><th></th><th scope=col>y</th><th scope=col>x1</th><th scope=col>x2</th><th scope=col>x3</th><th scope=col>x4</th><th scope=col>x5</th><th scope=col>x6</th><th scope=col>x7</th><th scope=col>x8</th><th scope=col>x9</th><th scope=col>x10</th></tr>\n",
              "\t<tr><th></th><th scope=col>&lt;dbl&gt;</th><th scope=col>&lt;dbl&gt;</th><th scope=col>&lt;dbl&gt;</th><th scope=col>&lt;dbl&gt;</th><th scope=col>&lt;dbl&gt;</th><th scope=col>&lt;dbl&gt;</th><th scope=col>&lt;dbl&gt;</th><th scope=col>&lt;dbl&gt;</th><th scope=col>&lt;dbl&gt;</th><th scope=col>&lt;dbl&gt;</th><th scope=col>&lt;dbl&gt;</th></tr>\n",
              "</thead>\n",
              "<tbody>\n",
              "\t<tr><th scope=row>1</th><td>-164133.6736</td><td>-22.422864</td><td> 502.784815</td><td>-11273.875359</td><td>2.527926e+05</td><td>-5.668333e+06</td><td>1.271003e+08</td><td>-2.849952e+09</td><td>6.390408e+10</td><td>-1.432913e+12</td><td>3.213000e+13</td></tr>\n",
              "\t<tr><th scope=row>2</th><td>   1735.0419</td><td>  4.621230</td><td>  21.355763</td><td>    98.689885</td><td>4.560686e+02</td><td> 2.107598e+03</td><td>9.739693e+03</td><td> 4.500936e+04</td><td>2.079986e+05</td><td> 9.612092e+05</td><td>4.441969e+06</td></tr>\n",
              "\t<tr><th scope=row>3</th><td> 954232.9753</td><td> 39.696133</td><td>1575.782997</td><td> 62552.491886</td><td>2.483092e+06</td><td> 9.856915e+07</td><td>3.912814e+09</td><td> 1.553236e+11</td><td>6.165746e+12</td><td> 2.447563e+14</td><td>9.715878e+15</td></tr>\n",
              "\t<tr><th scope=row>4</th><td>-330704.2307</td><td>-28.259392</td><td> 798.593228</td><td>-22567.758966</td><td>6.377511e+05</td><td>-1.802246e+07</td><td>5.093037e+08</td><td>-1.439261e+10</td><td>4.067265e+11</td><td>-1.149384e+13</td><td>3.248090e+14</td></tr>\n",
              "\t<tr><th scope=row>5</th><td>   -129.0257</td><td> -2.006294</td><td>   4.025215</td><td>    -8.075765</td><td>1.620236e+01</td><td>-3.250669e+01</td><td>6.521798e+01</td><td>-1.308464e+02</td><td>2.625164e+02</td><td>-5.266851e+02</td><td>1.056685e+03</td></tr>\n",
              "\t<tr><th scope=row>6</th><td>    777.7695</td><td>  3.310507</td><td>  10.959457</td><td>    36.281361</td><td>1.201097e+02</td><td> 3.976240e+02</td><td>1.316337e+03</td><td> 4.357744e+03</td><td>1.442634e+04</td><td> 4.775851e+04</td><td>1.581049e+05</td></tr>\n",
              "</tbody>\n",
              "</table>\n"
            ],
            "text/markdown": "\nA data.frame: 6 × 11\n\n| <!--/--> | y &lt;dbl&gt; | x1 &lt;dbl&gt; | x2 &lt;dbl&gt; | x3 &lt;dbl&gt; | x4 &lt;dbl&gt; | x5 &lt;dbl&gt; | x6 &lt;dbl&gt; | x7 &lt;dbl&gt; | x8 &lt;dbl&gt; | x9 &lt;dbl&gt; | x10 &lt;dbl&gt; |\n|---|---|---|---|---|---|---|---|---|---|---|---|\n| 1 | -164133.6736 | -22.422864 |  502.784815 | -11273.875359 | 2.527926e+05 | -5.668333e+06 | 1.271003e+08 | -2.849952e+09 | 6.390408e+10 | -1.432913e+12 | 3.213000e+13 |\n| 2 |    1735.0419 |   4.621230 |   21.355763 |     98.689885 | 4.560686e+02 |  2.107598e+03 | 9.739693e+03 |  4.500936e+04 | 2.079986e+05 |  9.612092e+05 | 4.441969e+06 |\n| 3 |  954232.9753 |  39.696133 | 1575.782997 |  62552.491886 | 2.483092e+06 |  9.856915e+07 | 3.912814e+09 |  1.553236e+11 | 6.165746e+12 |  2.447563e+14 | 9.715878e+15 |\n| 4 | -330704.2307 | -28.259392 |  798.593228 | -22567.758966 | 6.377511e+05 | -1.802246e+07 | 5.093037e+08 | -1.439261e+10 | 4.067265e+11 | -1.149384e+13 | 3.248090e+14 |\n| 5 |    -129.0257 |  -2.006294 |    4.025215 |     -8.075765 | 1.620236e+01 | -3.250669e+01 | 6.521798e+01 | -1.308464e+02 | 2.625164e+02 | -5.266851e+02 | 1.056685e+03 |\n| 6 |     777.7695 |   3.310507 |   10.959457 |     36.281361 | 1.201097e+02 |  3.976240e+02 | 1.316337e+03 |  4.357744e+03 | 1.442634e+04 |  4.775851e+04 | 1.581049e+05 |\n\n",
            "text/latex": "A data.frame: 6 × 11\n\\begin{tabular}{r|lllllllllll}\n  & y & x1 & x2 & x3 & x4 & x5 & x6 & x7 & x8 & x9 & x10\\\\\n  & <dbl> & <dbl> & <dbl> & <dbl> & <dbl> & <dbl> & <dbl> & <dbl> & <dbl> & <dbl> & <dbl>\\\\\n\\hline\n\t1 & -164133.6736 & -22.422864 &  502.784815 & -11273.875359 & 2.527926e+05 & -5.668333e+06 & 1.271003e+08 & -2.849952e+09 & 6.390408e+10 & -1.432913e+12 & 3.213000e+13\\\\\n\t2 &    1735.0419 &   4.621230 &   21.355763 &     98.689885 & 4.560686e+02 &  2.107598e+03 & 9.739693e+03 &  4.500936e+04 & 2.079986e+05 &  9.612092e+05 & 4.441969e+06\\\\\n\t3 &  954232.9753 &  39.696133 & 1575.782997 &  62552.491886 & 2.483092e+06 &  9.856915e+07 & 3.912814e+09 &  1.553236e+11 & 6.165746e+12 &  2.447563e+14 & 9.715878e+15\\\\\n\t4 & -330704.2307 & -28.259392 &  798.593228 & -22567.758966 & 6.377511e+05 & -1.802246e+07 & 5.093037e+08 & -1.439261e+10 & 4.067265e+11 & -1.149384e+13 & 3.248090e+14\\\\\n\t5 &    -129.0257 &  -2.006294 &    4.025215 &     -8.075765 & 1.620236e+01 & -3.250669e+01 & 6.521798e+01 & -1.308464e+02 & 2.625164e+02 & -5.266851e+02 & 1.056685e+03\\\\\n\t6 &     777.7695 &   3.310507 &   10.959457 &     36.281361 & 1.201097e+02 &  3.976240e+02 & 1.316337e+03 &  4.357744e+03 & 1.442634e+04 &  4.775851e+04 & 1.581049e+05\\\\\n\\end{tabular}\n",
            "text/plain": [
              "  y            x1         x2          x3            x4           x5           \n",
              "1 -164133.6736 -22.422864  502.784815 -11273.875359 2.527926e+05 -5.668333e+06\n",
              "2    1735.0419   4.621230   21.355763     98.689885 4.560686e+02  2.107598e+03\n",
              "3  954232.9753  39.696133 1575.782997  62552.491886 2.483092e+06  9.856915e+07\n",
              "4 -330704.2307 -28.259392  798.593228 -22567.758966 6.377511e+05 -1.802246e+07\n",
              "5    -129.0257  -2.006294    4.025215     -8.075765 1.620236e+01 -3.250669e+01\n",
              "6     777.7695   3.310507   10.959457     36.281361 1.201097e+02  3.976240e+02\n",
              "  x6           x7            x8           x9            x10         \n",
              "1 1.271003e+08 -2.849952e+09 6.390408e+10 -1.432913e+12 3.213000e+13\n",
              "2 9.739693e+03  4.500936e+04 2.079986e+05  9.612092e+05 4.441969e+06\n",
              "3 3.912814e+09  1.553236e+11 6.165746e+12  2.447563e+14 9.715878e+15\n",
              "4 5.093037e+08 -1.439261e+10 4.067265e+11 -1.149384e+13 3.248090e+14\n",
              "5 6.521798e+01 -1.308464e+02 2.625164e+02 -5.266851e+02 1.056685e+03\n",
              "6 1.316337e+03  4.357744e+03 1.442634e+04  4.775851e+04 1.581049e+05"
            ]
          },
          "metadata": {}
        }
      ],
      "source": [
        "# WRITE YOUR CODE HERE\n",
        "set.seed(2)\n",
        "n_size <- 100\n",
        "sd_x <- 25\n",
        "sd_e <- 50\n",
        "b0 <- 5\n",
        "b1_x <- 5\n",
        "b2_x2 <- 10\n",
        "b3_x3 <- 15\n",
        "gen_x <- rnorm(n_size,0,sd_x)\n",
        "gen_eps <- rnorm(n_size,0,sd_e)\n",
        "\n",
        "gen_y <- b0 + b1_x*gen_x + b2_x2*gen_x^2 + b3_x3*gen_x^3 + gen_eps\n",
        "\n",
        "d1 <- data.frame(y=gen_y, x1=gen_x, x2=gen_x^2, x3=gen_x^3, x4=gen_x^4, x5=gen_x^5, x6=gen_x^6, x7=gen_x^7, x8=gen_x^8, x9=gen_x^9, x10=gen_x^10)\n",
        "head(d1)"
      ],
      "id": "82a01047"
    },
    {
      "cell_type": "markdown",
      "metadata": {
        "id": "19065c60"
      },
      "source": [
        "b) Use `regsubsets()` to perform best subset selection to determine the best model that contains the predictor variables $X$, $X^2$, . . . , $X^{10}$. Print the model summary."
      ],
      "id": "19065c60"
    },
    {
      "cell_type": "code",
      "execution_count": 4,
      "metadata": {
        "id": "2d0ea51f",
        "vscode": {
          "languageId": "r"
        },
        "colab": {
          "base_uri": "https://localhost:8080/",
          "height": 538
        },
        "outputId": "c5c043e8-3536-45d4-ee8f-505075c9e4c2"
      },
      "outputs": [
        {
          "output_type": "stream",
          "name": "stderr",
          "text": [
            "Installing package into ‘/usr/local/lib/R/site-library’\n",
            "(as ‘lib’ is unspecified)\n",
            "\n"
          ]
        },
        {
          "output_type": "display_data",
          "data": {
            "text/plain": [
              "Subset selection object\n",
              "Call: regsubsets.formula(y ~ ., d1, nvmax = 10)\n",
              "10 Variables  (and intercept)\n",
              "    Forced in Forced out\n",
              "x1      FALSE      FALSE\n",
              "x2      FALSE      FALSE\n",
              "x3      FALSE      FALSE\n",
              "x4      FALSE      FALSE\n",
              "x5      FALSE      FALSE\n",
              "x6      FALSE      FALSE\n",
              "x7      FALSE      FALSE\n",
              "x8      FALSE      FALSE\n",
              "x9      FALSE      FALSE\n",
              "x10     FALSE      FALSE\n",
              "1 subsets of each size up to 10\n",
              "Selection Algorithm: exhaustive\n",
              "          x1  x2  x3  x4  x5  x6  x7  x8  x9  x10\n",
              "1  ( 1 )  \" \" \" \" \"*\" \" \" \" \" \" \" \" \" \" \" \" \" \" \"\n",
              "2  ( 1 )  \" \" \"*\" \"*\" \" \" \" \" \" \" \" \" \" \" \" \" \" \"\n",
              "3  ( 1 )  \"*\" \"*\" \"*\" \" \" \" \" \" \" \" \" \" \" \" \" \" \"\n",
              "4  ( 1 )  \"*\" \"*\" \"*\" \" \" \"*\" \" \" \" \" \" \" \" \" \" \"\n",
              "5  ( 1 )  \"*\" \"*\" \"*\" \" \" \"*\" \" \" \" \" \" \" \"*\" \" \"\n",
              "6  ( 1 )  \"*\" \"*\" \"*\" \" \" \"*\" \" \" \" \" \" \" \"*\" \"*\"\n",
              "7  ( 1 )  \"*\" \"*\" \"*\" \"*\" \" \" \"*\" \"*\" \" \" \"*\" \" \"\n",
              "8  ( 1 )  \"*\" \"*\" \"*\" \"*\" \"*\" \"*\" \" \" \"*\" \" \" \"*\"\n",
              "9  ( 1 )  \"*\" \"*\" \"*\" \"*\" \" \" \"*\" \"*\" \"*\" \"*\" \"*\"\n",
              "10  ( 1 ) \"*\" \"*\" \"*\" \"*\" \"*\" \"*\" \"*\" \"*\" \"*\" \"*\""
            ]
          },
          "metadata": {}
        }
      ],
      "source": [
        "# WRITE YOUR CODE HERE\n",
        "library(tidyverse)\n",
        "#install.packages(\"leaps\")\n",
        "library(leaps)\n",
        "\n",
        "regfit.full = regsubsets(y~., d1, nvmax=10)\n",
        "reg.summary = summary(regfit.full)\n",
        "reg.summary"
      ],
      "id": "2d0ea51f"
    },
    {
      "cell_type": "code",
      "execution_count": null,
      "metadata": {
        "id": "e584b852",
        "vscode": {
          "languageId": "r"
        }
      },
      "outputs": [],
      "source": [
        "# Note: if your model summary doesn't show up when viewing your notebook on github, copy and paste the output below.\n",
        "# Otherwise you can either delete this cell or leave it blank.\n",
        "\n",
        "```\n",
        "# Subset selection object\n",
        "# Call: regsubsets.formula(y ~ ., d1, nvmax = 10)\n",
        "# 10 Variables  (and intercept)\n",
        "#     Forced in Forced out\n",
        "# x1      FALSE      FALSE\n",
        "# x2      FALSE      FALSE\n",
        "# x3      FALSE      FALSE\n",
        "# x4      FALSE      FALSE\n",
        "# x5      FALSE      FALSE\n",
        "# x6      FALSE      FALSE\n",
        "# x7      FALSE      FALSE\n",
        "# x8      FALSE      FALSE\n",
        "# x9      FALSE      FALSE\n",
        "# x10     FALSE      FALSE\n",
        "# 1 subsets of each size up to 10\n",
        "# Selection Algorithm: exhaustive\n",
        "#           x1  x2  x3  x4  x5  x6  x7  x8  x9  x10\n",
        "# 1  ( 1 )  \" \" \" \" \"*\" \" \" \" \" \" \" \" \" \" \" \" \" \" \"\n",
        "# 2  ( 1 )  \" \" \"*\" \"*\" \" \" \" \" \" \" \" \" \" \" \" \" \" \"\n",
        "# 3  ( 1 )  \"*\" \"*\" \"*\" \" \" \" \" \" \" \" \" \" \" \" \" \" \"\n",
        "# 4  ( 1 )  \"*\" \"*\" \"*\" \" \" \"*\" \" \" \" \" \" \" \" \" \" \"\n",
        "# 5  ( 1 )  \"*\" \"*\" \"*\" \" \" \"*\" \" \" \" \" \" \" \"*\" \" \"\n",
        "# 6  ( 1 )  \"*\" \"*\" \"*\" \" \" \"*\" \" \" \" \" \" \" \"*\" \"*\"\n",
        "# 7  ( 1 )  \"*\" \"*\" \"*\" \"*\" \" \" \"*\" \"*\" \" \" \"*\" \" \"\n",
        "# 8  ( 1 )  \"*\" \"*\" \"*\" \"*\" \"*\" \"*\" \" \" \"*\" \" \" \"*\"\n",
        "# 9  ( 1 )  \"*\" \"*\" \"*\" \"*\" \" \" \"*\" \"*\" \"*\" \"*\" \"*\"\n",
        "# 10  ( 1 ) \"*\" \"*\" \"*\" \"*\" \"*\" \"*\" \"*\" \"*\" \"*\" \"*\"\n",
        "\n",
        "```"
      ],
      "id": "e584b852"
    },
    {
      "cell_type": "markdown",
      "metadata": {
        "id": "3528231b"
      },
      "source": [
        "c) Plot the Mallows' Cp, Bayesian Information Criteria (BIC) and the adjusted coefficient of determination, $R^2$, for each model tested. Which is the best model? Report the coefficients of the best model."
      ],
      "id": "3528231b"
    },
    {
      "cell_type": "code",
      "execution_count": 6,
      "metadata": {
        "id": "6a817913",
        "vscode": {
          "languageId": "r"
        },
        "colab": {
          "base_uri": "https://localhost:8080/",
          "height": 1000
        },
        "outputId": "560d0855-fff0-4b88-b555-efb4722dee11"
      },
      "outputs": [
        {
          "output_type": "display_data",
          "data": {
            "text/plain": [
              "plot without title"
            ],
            "image/png": "[encoded data removed]"
          },
          "metadata": {
            "image/png": {
              "width": 420,
              "height": 420
            }
          }
        },
        {
          "output_type": "display_data",
          "data": {
            "text/plain": [
              "plot without title"
            ],
            "image/png": "[encoded data removed]"
          },
          "metadata": {
            "image/png": {
              "width": 420,
              "height": 420
            }
          }
        },
        {
          "output_type": "display_data",
          "data": {
            "text/plain": [
              "plot without title"
            ],
            "image/png": "[encoded data removed]"
          },
          "metadata": {
            "image/png": {
              "width": 420,
              "height": 420
            }
          }
        },
        {
          "output_type": "stream",
          "name": "stdout",
          "text": [
            "Model with best Mallows' CP: 3 \n",
            "Model with best BIC: 3 \n",
            "Model with best Adj R^2: 3 \n"
          ]
        },
        {
          "output_type": "display_data",
          "data": {
            "text/html": [
              "<style>\n",
              ".dl-inline {width: auto; margin:0; padding: 0}\n",
              ".dl-inline>dt, .dl-inline>dd {float: none; width: auto; display: inline-block}\n",
              ".dl-inline>dt::after {content: \":\\0020\"; padding-right: .5ex}\n",
              ".dl-inline>dt:not(:first-of-type) {padding-left: .5ex}\n",
              "</style><dl class=dl-inline><dt>(Intercept)</dt><dd>3.10764304440525</dd><dt>x1</dt><dd>4.97345928257779</dd><dt>x2</dt><dd>10.0040353435998</dd><dt>x3</dt><dd>14.9999600366593</dd></dl>\n"
            ],
            "text/markdown": "(Intercept)\n:   3.10764304440525x1\n:   4.97345928257779x2\n:   10.0040353435998x3\n:   14.9999600366593\n\n",
            "text/latex": "\\begin{description*}\n\\item[(Intercept)] 3.10764304440525\n\\item[x1] 4.97345928257779\n\\item[x2] 10.0040353435998\n\\item[x3] 14.9999600366593\n\\end{description*}\n",
            "text/plain": [
              "(Intercept)          x1          x2          x3 \n",
              "   3.107643    4.973459   10.004035   14.999960 "
            ]
          },
          "metadata": {}
        },
        {
          "output_type": "display_data",
          "data": {
            "text/plain": [
              "plot without title"
            ],
            "image/png": "[encoded data removed]"
          },
          "metadata": {
            "image/png": {
              "width": 420,
              "height": 420
            }
          }
        }
      ],
      "source": [
        "# WRITE YOUR CODE HERE\n",
        "numvar = 1:length(reg.summary$rss)# Make a vector that lists the number of variables in sequence, from 1 to 19.\n",
        "allfalse = rep(FALSE,length(reg.summary$rss))# Starting point for an indicator that marks the best model choice for each metric.\n",
        "\n",
        "\n",
        "#mallow's cp\n",
        "cp.df <- data.frame(numvar = numvar, cp <- reg.summary$cp, mincp <- allfalse)\n",
        "cp.df$mincp[which.min(reg.summary$cp)] <- TRUE\n",
        "ggplot(cp.df,aes(x=numvar,y=cp,shape=mincp,col=mincp)) +\n",
        "    geom_point(size=3) + theme_light() +\n",
        "    labs(x = \"Number of Variables\", y = \"Mallow's CP\", color=\"Maximum CP\", shape=\"Maximum CP\")\n",
        "\n",
        "#bic\n",
        "bic.df <- data.frame(numvar = numvar,bic <- reg.summary$bic, minbic <- allfalse)\n",
        "bic.df$minbic[which.min(reg.summary$bic)] <- TRUE\n",
        "ggplot(bic.df,aes(x=numvar,y=bic,shape=minbic,col=minbic)) +\n",
        "    geom_point(size=3) + theme_light() +\n",
        "    labs(x = \"Number of Variables\", y = \"BIC\", color=\"Minimum BIC\", shape=\"Minimum BIC\")\n",
        "\n",
        "#adjr2\n",
        "adjr2.df <- data.frame(numvar = numvar, adjr2 <- reg.summary$adjr2, maxadjr2 <- allfalse)\n",
        "adjr2.df$maxadjr2[which.max(reg.summary$adjr2)] <- TRUE\n",
        "ggplot(adjr2.df,aes(x=numvar,y=adjr2,shape=maxadjr2,col=maxadjr2)) +\n",
        "    geom_point(size=3) + theme_light() +\n",
        "    labs(x = \"Number of Variables\", y = 'Adj'~R^2, color='Maximum Adj'~R^2, shape='Maximum Adj'~R^2)\n",
        "\n",
        "#rss\n",
        "rss.df <- data.frame(numvar = numvar, rss = reg.summary$rss, minrss = allfalse)\n",
        "rss.df$minrss[which.min(reg.summary$rss)] <- TRUE\n",
        "ggplot(rss.df,aes(x=numvar,y=rss,shape=minrss,col=minrss)) +\n",
        "    geom_point(size=3) + theme_light() +\n",
        "    labs(x = \"Number of Variables\", y = \"RSS\", color=\"Minimum RSS\", shape=\"Minimum RSS\")\n",
        "\n",
        "\n",
        "cat(\"Model with best Mallows' CP:\", which.min(reg.summary$cp), \"\\n\")\n",
        "cat(\"Model with best BIC:\", which.min(reg.summary$bic), \"\\n\")\n",
        "cat(\"Model with best Adj R^2:\", which.max(reg.summary$adjr2), \"\\n\")\n",
        "\n",
        "#          x1  x2  x3  x4  x5  x6  x7  x8  x9  x10\n",
        "#3  ( 1 )  \"*\" \"*\" \"*\" \" \" \" \" \" \" \" \" \" \" \" \" \" \"\n",
        "coef(regfit.full, 3)"
      ],
      "id": "6a817913"
    },
    {
      "cell_type": "markdown",
      "metadata": {
        "id": "e7f16d76"
      },
      "source": [
        "> *Write your response here*\n",
        ">\n",
        "\n",
        "The Model with the best Mallows' CP, Adj R^2, and BIC includes 3 predictors: x1, x2, x3.\n",
        "\n",
        "(Intercept): 3.10764304440525\n",
        "\n",
        "x1: 4.97345928257779\n",
        "\n",
        "x2: 10.0040353435998\n",
        "\n",
        "x3: 14.9999600366593\n",
        "\n",
        "I also notice that these beta coefficient estimates are very close to the parameters in the linear combination of x1, x2, and x3 used to generate y.\n"
      ],
      "id": "e7f16d76"
    },
    {
      "cell_type": "markdown",
      "metadata": {
        "id": "19d388b0"
      },
      "source": [
        "---\n",
        "## 2. Forward and backwards stepwise selection (3 points)"
      ],
      "id": "19d388b0"
    },
    {
      "cell_type": "markdown",
      "metadata": {
        "id": "620dc14c"
      },
      "source": [
        "Using the same simulated data from question 1, use forward stepwise selection, and backwards stepwise selections to determine the best model. Again, for both model selection methods, plot the Mallows' Cp, Bayesian Information Criteria (BIC) and the adjusted coefficient of determination, $R^2$, for each model tested. Report the coefficients of the best model."
      ],
      "id": "620dc14c"
    },
    {
      "cell_type": "markdown",
      "metadata": {
        "id": "d734954e"
      },
      "source": [
        "a) Forward stepwise selection:"
      ],
      "id": "d734954e"
    },
    {
      "cell_type": "code",
      "execution_count": 7,
      "metadata": {
        "id": "8018ba62",
        "vscode": {
          "languageId": "r"
        },
        "colab": {
          "base_uri": "https://localhost:8080/",
          "height": 1000
        },
        "outputId": "fb9d4cce-f395-496b-fa99-628963adb0c9"
      },
      "outputs": [
        {
          "output_type": "stream",
          "name": "stdout",
          "text": [
            "Forwards stepwise selection model \n",
            "Start:  AIC=2745.49\n",
            "y ~ 1\n",
            "\n",
            "       Df  Sum of Sq        RSS    AIC\n",
            "+ x3    1 8.2185e+13 8.5823e+09 1830.8\n",
            "+ x5    1 7.6505e+13 5.6885e+12 2480.4\n",
            "+ x7    1 6.5827e+13 1.6367e+13 2586.1\n",
            "+ x1    1 6.5169e+13 1.7025e+13 2590.1\n",
            "+ x9    1 5.4552e+13 2.7642e+13 2638.5\n",
            "+ x10   1 1.2826e+13 6.9368e+13 2730.5\n",
            "+ x8    1 9.1812e+12 7.3013e+13 2735.7\n",
            "+ x6    1 5.0024e+12 7.7191e+13 2741.2\n",
            "<none>               8.2194e+13 2745.5\n",
            "+ x4    1 1.5860e+12 8.0608e+13 2745.5\n",
            "+ x2    1 9.6445e+10 8.2097e+13 2747.4\n",
            "\n",
            "Step:  AIC=1830.78\n",
            "y ~ x3\n",
            "\n",
            "       Df  Sum of Sq        RSS     AIC\n",
            "+ x2    1 8581687761     650485  884.03\n",
            "+ x4    1 7847907036  734431209 1586.94\n",
            "+ x6    1 6711978718 1870359528 1680.42\n",
            "+ x8    1 5580661082 3001677164 1727.73\n",
            "+ x10   1 4575164819 4007173427 1756.62\n",
            "+ x9    1 1730342109 6851996136 1810.26\n",
            "+ x7    1 1559355508 7022982737 1812.73\n",
            "+ x5    1 1247076114 7335262131 1817.08\n",
            "+ x1    1  373311349 8209026896 1828.33\n",
            "<none>               8582338246 1830.78\n",
            "\n",
            "Step:  AIC=884.03\n",
            "y ~ x3 + x2\n",
            "\n",
            "       Df Sum of Sq    RSS    AIC\n",
            "+ x1    1    412602 237883 785.44\n",
            "+ x5    1    262252 388232 834.42\n",
            "+ x7    1    193170 457315 850.80\n",
            "+ x9    1    146581 503903 860.50\n",
            "+ x10   1     54409 596075 877.30\n",
            "+ x8    1     50949 599536 877.87\n",
            "+ x6    1     44367 606118 878.97\n",
            "+ x4    1     33914 616570 880.68\n",
            "<none>              650485 884.03\n",
            "\n",
            "Step:  AIC=785.44\n",
            "y ~ x3 + x2 + x1\n",
            "\n",
            "       Df Sum of Sq    RSS    AIC\n",
            "<none>              237883 785.44\n",
            "+ x5    1   1647.03 236236 786.74\n",
            "+ x7    1    954.42 236928 787.03\n",
            "+ x9    1    528.03 237355 787.21\n",
            "+ x8    1    123.66 237759 787.38\n",
            "+ x10   1    115.99 237767 787.39\n",
            "+ x6    1     99.36 237783 787.39\n",
            "+ x4    1     18.75 237864 787.43\n"
          ]
        },
        {
          "output_type": "display_data",
          "data": {
            "text/plain": [
              "\n",
              "Call:\n",
              "lm(formula = y ~ x3 + x2 + x1, data = d1)\n",
              "\n",
              "Residuals:\n",
              "     Min       1Q   Median       3Q      Max \n",
              "-104.035  -39.108    3.056   38.273  106.128 \n",
              "\n",
              "Coefficients:\n",
              "             Estimate Std. Error   t value Pr(>|t|)    \n",
              "(Intercept) 3.108e+00  6.837e+00     0.455     0.65    \n",
              "x3          1.500e+01  1.839e-04 81560.248   <2e-16 ***\n",
              "x2          1.000e+01  5.496e-03  1820.093   <2e-16 ***\n",
              "x1          4.973e+00  3.854e-01    12.904   <2e-16 ***\n",
              "---\n",
              "Signif. codes:  0 ‘***’ 0.001 ‘**’ 0.01 ‘*’ 0.05 ‘.’ 0.1 ‘ ’ 1\n",
              "\n",
              "Residual standard error: 49.78 on 96 degrees of freedom\n",
              "Multiple R-squared:      1,\tAdjusted R-squared:      1 \n",
              "F-statistic: 1.106e+10 on 3 and 96 DF,  p-value: < 2.2e-16\n"
            ]
          },
          "metadata": {}
        }
      ],
      "source": [
        "# WRITE YOUR CODE HERE\n",
        "\n",
        "reg.null <- lm(y ~ 1, d1)\n",
        "reg.full <- lm(y ~ ., d1)\n",
        "\n",
        "cat(\"Forwards stepwise selection model \\n\")\n",
        "forward_model <- step(reg.null, direction = \"forward\", scope= formula(lm(y ~ ., d1) ))\n",
        "summary(forward_model)\n",
        "\n"
      ],
      "id": "8018ba62"
    },
    {
      "cell_type": "code",
      "execution_count": null,
      "metadata": {
        "id": "861cedcd",
        "vscode": {
          "languageId": "r"
        }
      },
      "outputs": [],
      "source": [
        "# Note: if your model summary doesn't show up when viewing your notebook on github, copy and paste the output below.\n",
        "# Otherwise you can either delete this cell or leave it blank.\n",
        "\n",
        "```\n",
        "# paste here\n",
        "# Forwards selection model\n",
        "# Call:\n",
        "# lm(formula = y ~ x3 + x2 + x1, data = d1)\n",
        "\n",
        "# Residuals:\n",
        "#      Min       1Q   Median       3Q      Max\n",
        "# -104.035  -39.108    3.056   38.273  106.128\n",
        "\n",
        "# Coefficients:\n",
        "#              Estimate Std. Error   t value Pr(>|t|)\n",
        "# (Intercept) 3.108e+00  6.837e+00     0.455     0.65\n",
        "# x3          1.500e+01  1.839e-04 81560.248   <2e-16 ***\n",
        "# x2          1.000e+01  5.496e-03  1820.093   <2e-16 ***\n",
        "# x1          4.973e+00  3.854e-01    12.904   <2e-16 ***\n",
        "# ---\n",
        "# Signif. codes:  0 ‘***’ 0.001 ‘**’ 0.01 ‘*’ 0.05 ‘.’ 0.1 ‘ ’ 1\n",
        "\n",
        "# Residual standard error: 49.78 on 96 degrees of freedom\n",
        "# Multiple R-squared:      1,\tAdjusted R-squared:      1\n",
        "# F-statistic: 1.106e+10 on 3 and 96 DF,  p-value: < 2.2e-16\n",
        "```"
      ],
      "id": "861cedcd"
    },
    {
      "cell_type": "markdown",
      "metadata": {
        "id": "955e381d"
      },
      "source": [
        "b) Backwards stepwise selection:"
      ],
      "id": "955e381d"
    },
    {
      "cell_type": "code",
      "execution_count": 8,
      "metadata": {
        "id": "c9a50756",
        "vscode": {
          "languageId": "r"
        },
        "colab": {
          "base_uri": "https://localhost:8080/",
          "height": 1000
        },
        "outputId": "44498481-d658-4867-c829-9f06b961ea43"
      },
      "outputs": [
        {
          "output_type": "stream",
          "name": "stdout",
          "text": [
            "\n",
            " \n",
            " Backwards stepwise selection model \n",
            "Start:  AIC=793.91\n",
            "y ~ x1 + x2 + x3 + x4 + x5 + x6 + x7 + x8 + x9 + x10\n",
            "\n",
            "       Df  Sum of Sq        RSS     AIC\n",
            "- x5    1 2.4630e+03 2.2756e+05  793.00\n",
            "- x7    1 3.5490e+03 2.2864e+05  793.47\n",
            "- x9    1 4.0850e+03 2.2918e+05  793.71\n",
            "<none>               2.2509e+05  793.91\n",
            "- x10   1 6.1830e+03 2.3128e+05  794.62\n",
            "- x4    1 6.2470e+03 2.3134e+05  794.65\n",
            "- x6    1 6.3640e+03 2.3146e+05  794.70\n",
            "- x8    1 6.3680e+03 2.3146e+05  794.70\n",
            "- x1    1 3.4653e+04 2.5975e+05  806.23\n",
            "- x2    1 2.4184e+07 2.4409e+07 1260.53\n",
            "- x3    1 1.9386e+10 1.9386e+10 1928.26\n",
            "\n",
            "Step:  AIC=793\n",
            "y ~ x1 + x2 + x3 + x4 + x6 + x7 + x8 + x9 + x10\n",
            "\n",
            "       Df  Sum of Sq        RSS     AIC\n",
            "- x9    1 3.0370e+03 2.3060e+05  792.32\n",
            "- x7    1 3.7210e+03 2.3128e+05  792.62\n",
            "- x10   1 3.8600e+03 2.3142e+05  792.68\n",
            "- x8    1 3.9120e+03 2.3147e+05  792.70\n",
            "- x6    1 3.9720e+03 2.3153e+05  792.73\n",
            "- x4    1 4.1690e+03 2.3173e+05  792.81\n",
            "<none>               2.2756e+05  793.00\n",
            "- x1    1 6.0068e+04 2.8762e+05  814.42\n",
            "- x2    1 2.5689e+07 2.5917e+07 1264.52\n",
            "- x3    1 3.0490e+11 3.0490e+11 2201.81\n",
            "\n",
            "Step:  AIC=792.32\n",
            "y ~ x1 + x2 + x3 + x4 + x6 + x7 + x8 + x10\n",
            "\n",
            "       Df  Sum of Sq        RSS     AIC\n",
            "- x10   1 1.6490e+03 2.3224e+05  791.04\n",
            "- x8    1 2.3440e+03 2.3294e+05  791.34\n",
            "- x7    1 2.9230e+03 2.3352e+05  791.58\n",
            "- x6    1 3.1060e+03 2.3370e+05  791.66\n",
            "- x4    1 3.9130e+03 2.3451e+05  792.01\n",
            "<none>               2.3060e+05  792.32\n",
            "- x1    1 1.5151e+05 3.8211e+05  840.83\n",
            "- x2    1 2.5692e+07 2.5923e+07 1262.55\n",
            "- x3    1 1.4971e+12 1.4971e+12 2358.94\n",
            "\n",
            "Step:  AIC=791.04\n",
            "y ~ x1 + x2 + x3 + x4 + x6 + x7 + x8\n",
            "\n",
            "       Df  Sum of Sq        RSS     AIC\n",
            "- x7    1 3.1310e+03 2.3538e+05  790.38\n",
            "- x4    1 3.8750e+03 2.3612e+05  790.69\n",
            "- x6    1 4.2270e+03 2.3647e+05  790.84\n",
            "- x8    1 4.4110e+03 2.3665e+05  790.92\n",
            "<none>               2.3224e+05  791.04\n",
            "- x1    1 1.4993e+05 3.8218e+05  838.85\n",
            "- x2    1 6.6129e+07 6.6361e+07 1354.55\n",
            "- x3    1 1.5127e+12 1.5127e+12 2357.98\n",
            "\n",
            "Step:  AIC=790.38\n",
            "y ~ x1 + x2 + x3 + x4 + x6 + x8\n",
            "\n",
            "       Df  Sum of Sq        RSS     AIC\n",
            "- x8    1 1.8920e+03 2.3727e+05  789.18\n",
            "- x6    1 2.1730e+03 2.3755e+05  789.30\n",
            "- x4    1 2.3560e+03 2.3773e+05  789.37\n",
            "<none>               2.3538e+05  790.38\n",
            "- x1    1 3.5900e+05 5.9438e+05  881.01\n",
            "- x2    1 6.8014e+07 6.8250e+07 1355.35\n",
            "- x3    1 1.1533e+13 1.1533e+13 2559.11\n",
            "\n",
            "Step:  AIC=789.18\n",
            "y ~ x1 + x2 + x3 + x4 + x6\n",
            "\n",
            "       Df  Sum of Sq        RSS     AIC\n",
            "- x4    1 5.1600e+02 2.3778e+05  787.39\n",
            "- x6    1 5.9700e+02 2.3786e+05  787.43\n",
            "<none>               2.3727e+05  789.18\n",
            "- x1    1 3.6040e+05 5.9767e+05  879.56\n",
            "- x2    1 1.9907e+08 1.9931e+08 1460.52\n",
            "- x3    1 1.2017e+13 1.2017e+13 2561.22\n",
            "\n",
            "Step:  AIC=787.39\n",
            "y ~ x1 + x2 + x3 + x6\n",
            "\n",
            "       Df  Sum of Sq        RSS     AIC\n",
            "- x6    1 9.9000e+01 2.3788e+05  785.44\n",
            "<none>               2.3778e+05  787.39\n",
            "- x1    1 3.6834e+05 6.0612e+05  878.97\n",
            "- x2    1 1.8145e+09 1.8147e+09 1679.40\n",
            "- x3    1 1.2965e+13 1.2965e+13 2566.81\n",
            "\n",
            "Step:  AIC=785.44\n",
            "y ~ x1 + x2 + x3\n",
            "\n",
            "       Df  Sum of Sq        RSS     AIC\n",
            "<none>               2.3788e+05  785.44\n",
            "- x1    1 4.1260e+05 6.5048e+05  884.03\n",
            "- x2    1 8.2088e+09 8.2090e+09 1828.33\n",
            "- x3    1 1.6483e+13 1.6483e+13 2588.82\n"
          ]
        },
        {
          "output_type": "display_data",
          "data": {
            "text/plain": [
              "\n",
              "Call:\n",
              "lm(formula = y ~ x1 + x2 + x3, data = d1)\n",
              "\n",
              "Residuals:\n",
              "     Min       1Q   Median       3Q      Max \n",
              "-104.035  -39.108    3.056   38.273  106.128 \n",
              "\n",
              "Coefficients:\n",
              "             Estimate Std. Error   t value Pr(>|t|)    \n",
              "(Intercept) 3.108e+00  6.837e+00     0.455     0.65    \n",
              "x1          4.973e+00  3.854e-01    12.904   <2e-16 ***\n",
              "x2          1.000e+01  5.496e-03  1820.093   <2e-16 ***\n",
              "x3          1.500e+01  1.839e-04 81560.248   <2e-16 ***\n",
              "---\n",
              "Signif. codes:  0 ‘***’ 0.001 ‘**’ 0.01 ‘*’ 0.05 ‘.’ 0.1 ‘ ’ 1\n",
              "\n",
              "Residual standard error: 49.78 on 96 degrees of freedom\n",
              "Multiple R-squared:      1,\tAdjusted R-squared:      1 \n",
              "F-statistic: 1.106e+10 on 3 and 96 DF,  p-value: < 2.2e-16\n"
            ]
          },
          "metadata": {}
        }
      ],
      "source": [
        "# WRITE YOUR CODE HERE\n",
        "cat(\"\\n \\n Backwards stepwise selection model \\n\")\n",
        "backward_model <- step(reg.full, direction = \"backward\")\n",
        "summary(backward_model)\n"
      ],
      "id": "c9a50756"
    },
    {
      "cell_type": "code",
      "execution_count": null,
      "metadata": {
        "id": "30746619",
        "vscode": {
          "languageId": "r"
        }
      },
      "outputs": [],
      "source": [
        "# Note: if your model summary doesn't show up when viewing your notebook on github, copy and paste the output below.\n",
        "# Otherwise you can either delete this cell or leave it blank.\n",
        "\n",
        "```\n",
        "# paste here\n",
        "# Backwards selection model\n",
        "# Call:\n",
        "# lm(formula = y ~ x1 + x2 + x3, data = d1)\n",
        "\n",
        "# Residuals:\n",
        "#      Min       1Q   Median       3Q      Max\n",
        "# -104.035  -39.108    3.056   38.273  106.128\n",
        "\n",
        "# Coefficients:\n",
        "#              Estimate Std. Error   t value Pr(>|t|)\n",
        "# (Intercept) 3.108e+00  6.837e+00     0.455     0.65\n",
        "# x1          4.973e+00  3.854e-01    12.904   <2e-16 ***\n",
        "# x2          1.000e+01  5.496e-03  1820.093   <2e-16 ***\n",
        "# x3          1.500e+01  1.839e-04 81560.248   <2e-16 ***\n",
        "# ---\n",
        "# Signif. codes:  0 ‘***’ 0.001 ‘**’ 0.01 ‘*’ 0.05 ‘.’ 0.1 ‘ ’ 1\n",
        "\n",
        "# Residual standard error: 49.78 on 96 degrees of freedom\n",
        "# Multiple R-squared:      1,\tAdjusted R-squared:      1\n",
        "# F-statistic: 1.106e+10 on 3 and 96 DF,  p-value: < 2.2e-16\n",
        "```"
      ],
      "id": "30746619"
    },
    {
      "cell_type": "markdown",
      "metadata": {
        "id": "25dbc027"
      },
      "source": [
        "c) Compare your results from parts a and b with those of question 1."
      ],
      "id": "25dbc027"
    },
    {
      "cell_type": "markdown",
      "metadata": {
        "id": "34ac850e"
      },
      "source": [
        "> *Write your response here*\n",
        "> The results are the same as those from question 1, they get the same 3 (x, x^2, x^3) as the main predictors. The parameter estimates are the same (because it's the same model)."
      ],
      "id": "34ac850e"
    },
    {
      "cell_type": "markdown",
      "metadata": {
        "id": "630f4909"
      },
      "source": [
        "---\n",
        "## 3. Training and test error (3 points)"
      ],
      "id": "630f4909"
    },
    {
      "cell_type": "markdown",
      "metadata": {
        "id": "cdea3f49"
      },
      "source": [
        "This question will explore the relationship between training and test error and the number of features included in a model. We will again use a simulated dataset.\n",
        "\n",
        "a) Simulate dataset with features $p = 20$ and observations $n = 1,000$. Generate data for a response variable $Y$ according to the model\n",
        "\n",
        "$Y = X\\beta + \\epsilon$\n",
        "\n",
        "where $\\beta$ is random with some elements that are exactly zero.\n",
        "\n",
        "Split your simulated dataset into a training set containing $n=100$ observations and a test set containing $n=900$ observations."
      ],
      "id": "cdea3f49"
    },
    {
      "cell_type": "code",
      "execution_count": 11,
      "metadata": {
        "id": "3f113879",
        "vscode": {
          "languageId": "r"
        },
        "colab": {
          "base_uri": "https://localhost:8080/",
          "height": 341
        },
        "outputId": "78e5aece-0489-4f4b-a06c-b25ac4cd6e65"
      },
      "outputs": [
        {
          "output_type": "display_data",
          "data": {
            "text/html": [
              "<table class=\"dataframe\">\n",
              "<caption>A data.frame: 6 × 21</caption>\n",
              "<thead>\n",
              "\t<tr><th></th><th scope=col>y</th><th scope=col>x1</th><th scope=col>x2</th><th scope=col>x3</th><th scope=col>x4</th><th scope=col>x5</th><th scope=col>x6</th><th scope=col>x7</th><th scope=col>x8</th><th scope=col>x9</th><th scope=col>⋯</th><th scope=col>x11</th><th scope=col>x12</th><th scope=col>x13</th><th scope=col>x14</th><th scope=col>x15</th><th scope=col>x16</th><th scope=col>x17</th><th scope=col>x18</th><th scope=col>x19</th><th scope=col>x20</th></tr>\n",
              "\t<tr><th></th><th scope=col>&lt;dbl&gt;</th><th scope=col>&lt;dbl&gt;</th><th scope=col>&lt;dbl&gt;</th><th scope=col>&lt;dbl&gt;</th><th scope=col>&lt;dbl&gt;</th><th scope=col>&lt;dbl&gt;</th><th scope=col>&lt;dbl&gt;</th><th scope=col>&lt;dbl&gt;</th><th scope=col>&lt;dbl&gt;</th><th scope=col>&lt;dbl&gt;</th><th scope=col>⋯</th><th scope=col>&lt;dbl&gt;</th><th scope=col>&lt;dbl&gt;</th><th scope=col>&lt;dbl&gt;</th><th scope=col>&lt;dbl&gt;</th><th scope=col>&lt;dbl&gt;</th><th scope=col>&lt;dbl&gt;</th><th scope=col>&lt;dbl&gt;</th><th scope=col>&lt;dbl&gt;</th><th scope=col>&lt;dbl&gt;</th><th scope=col>&lt;dbl&gt;</th></tr>\n",
              "</thead>\n",
              "<tbody>\n",
              "\t<tr><th scope=row>1</th><td>1659.259</td><td>24.03807</td><td>25.44180</td><td>24.02499</td><td>26.41750</td><td>25.81881</td><td>25.31629</td><td>24.97503</td><td>24.93603</td><td>25.03150</td><td>⋯</td><td>24.27727</td><td>24.71805</td><td>26.33752</td><td>25.70198</td><td>26.00762</td><td>24.53462</td><td>25.63860</td><td>25.28678</td><td>24.77292</td><td>24.77995</td></tr>\n",
              "\t<tr><th scope=row>2</th><td>1783.214</td><td>24.70747</td><td>23.86073</td><td>25.19584</td><td>23.71888</td><td>24.74856</td><td>27.51200</td><td>24.07779</td><td>25.05954</td><td>23.59035</td><td>⋯</td><td>24.88423</td><td>25.82598</td><td>25.34645</td><td>24.43045</td><td>24.86846</td><td>25.69023</td><td>24.09096</td><td>26.30264</td><td>23.32731</td><td>24.47450</td></tr>\n",
              "\t<tr><th scope=row>3</th><td>1703.339</td><td>25.25879</td><td>24.02716</td><td>25.58849</td><td>24.19974</td><td>23.17960</td><td>22.94108</td><td>24.93524</td><td>26.59212</td><td>24.82688</td><td>⋯</td><td>24.81242</td><td>23.49984</td><td>23.77126</td><td>25.85599</td><td>26.24986</td><td>24.10192</td><td>25.87021</td><td>24.77475</td><td>25.45029</td><td>25.55144</td></tr>\n",
              "\t<tr><th scope=row>4</th><td>1746.339</td><td>23.84787</td><td>22.78683</td><td>24.13848</td><td>25.63093</td><td>25.95177</td><td>23.83428</td><td>24.60844</td><td>26.06362</td><td>24.64999</td><td>⋯</td><td>24.75678</td><td>24.56697</td><td>24.96121</td><td>24.94210</td><td>23.60224</td><td>24.84381</td><td>22.26402</td><td>25.77562</td><td>25.61416</td><td>27.01919</td></tr>\n",
              "\t<tr><th scope=row>5</th><td>1702.236</td><td>25.19578</td><td>25.59331</td><td>25.28299</td><td>25.24715</td><td>26.97867</td><td>24.12898</td><td>24.01028</td><td>23.96775</td><td>23.89035</td><td>⋯</td><td>26.65096</td><td>23.25509</td><td>24.62111</td><td>24.32017</td><td>22.86842</td><td>24.76983</td><td>25.46612</td><td>23.19955</td><td>25.62629</td><td>24.90228</td></tr>\n",
              "\t<tr><th scope=row>6</th><td>1717.660</td><td>25.03012</td><td>24.30899</td><td>24.59657</td><td>24.27014</td><td>24.63590</td><td>26.12535</td><td>23.59596</td><td>24.19387</td><td>23.76208</td><td>⋯</td><td>24.72794</td><td>27.17656</td><td>26.43641</td><td>23.97422</td><td>25.29816</td><td>24.44403</td><td>25.20465</td><td>23.80835</td><td>25.23509</td><td>25.67096</td></tr>\n",
              "</tbody>\n",
              "</table>\n"
            ],
            "text/markdown": "\nA data.frame: 6 × 21\n\n| <!--/--> | y &lt;dbl&gt; | x1 &lt;dbl&gt; | x2 &lt;dbl&gt; | x3 &lt;dbl&gt; | x4 &lt;dbl&gt; | x5 &lt;dbl&gt; | x6 &lt;dbl&gt; | x7 &lt;dbl&gt; | x8 &lt;dbl&gt; | x9 &lt;dbl&gt; | ⋯ ⋯ | x11 &lt;dbl&gt; | x12 &lt;dbl&gt; | x13 &lt;dbl&gt; | x14 &lt;dbl&gt; | x15 &lt;dbl&gt; | x16 &lt;dbl&gt; | x17 &lt;dbl&gt; | x18 &lt;dbl&gt; | x19 &lt;dbl&gt; | x20 &lt;dbl&gt; |\n|---|---|---|---|---|---|---|---|---|---|---|---|---|---|---|---|---|---|---|---|---|---|\n| 1 | 1659.259 | 24.03807 | 25.44180 | 24.02499 | 26.41750 | 25.81881 | 25.31629 | 24.97503 | 24.93603 | 25.03150 | ⋯ | 24.27727 | 24.71805 | 26.33752 | 25.70198 | 26.00762 | 24.53462 | 25.63860 | 25.28678 | 24.77292 | 24.77995 |\n| 2 | 1783.214 | 24.70747 | 23.86073 | 25.19584 | 23.71888 | 24.74856 | 27.51200 | 24.07779 | 25.05954 | 23.59035 | ⋯ | 24.88423 | 25.82598 | 25.34645 | 24.43045 | 24.86846 | 25.69023 | 24.09096 | 26.30264 | 23.32731 | 24.47450 |\n| 3 | 1703.339 | 25.25879 | 24.02716 | 25.58849 | 24.19974 | 23.17960 | 22.94108 | 24.93524 | 26.59212 | 24.82688 | ⋯ | 24.81242 | 23.49984 | 23.77126 | 25.85599 | 26.24986 | 24.10192 | 25.87021 | 24.77475 | 25.45029 | 25.55144 |\n| 4 | 1746.339 | 23.84787 | 22.78683 | 24.13848 | 25.63093 | 25.95177 | 23.83428 | 24.60844 | 26.06362 | 24.64999 | ⋯ | 24.75678 | 24.56697 | 24.96121 | 24.94210 | 23.60224 | 24.84381 | 22.26402 | 25.77562 | 25.61416 | 27.01919 |\n| 5 | 1702.236 | 25.19578 | 25.59331 | 25.28299 | 25.24715 | 26.97867 | 24.12898 | 24.01028 | 23.96775 | 23.89035 | ⋯ | 26.65096 | 23.25509 | 24.62111 | 24.32017 | 22.86842 | 24.76983 | 25.46612 | 23.19955 | 25.62629 | 24.90228 |\n| 6 | 1717.660 | 25.03012 | 24.30899 | 24.59657 | 24.27014 | 24.63590 | 26.12535 | 23.59596 | 24.19387 | 23.76208 | ⋯ | 24.72794 | 27.17656 | 26.43641 | 23.97422 | 25.29816 | 24.44403 | 25.20465 | 23.80835 | 25.23509 | 25.67096 |\n\n",
            "text/latex": "A data.frame: 6 × 21\n\\begin{tabular}{r|lllllllllllllllllllll}\n  & y & x1 & x2 & x3 & x4 & x5 & x6 & x7 & x8 & x9 & ⋯ & x11 & x12 & x13 & x14 & x15 & x16 & x17 & x18 & x19 & x20\\\\\n  & <dbl> & <dbl> & <dbl> & <dbl> & <dbl> & <dbl> & <dbl> & <dbl> & <dbl> & <dbl> & ⋯ & <dbl> & <dbl> & <dbl> & <dbl> & <dbl> & <dbl> & <dbl> & <dbl> & <dbl> & <dbl>\\\\\n\\hline\n\t1 & 1659.259 & 24.03807 & 25.44180 & 24.02499 & 26.41750 & 25.81881 & 25.31629 & 24.97503 & 24.93603 & 25.03150 & ⋯ & 24.27727 & 24.71805 & 26.33752 & 25.70198 & 26.00762 & 24.53462 & 25.63860 & 25.28678 & 24.77292 & 24.77995\\\\\n\t2 & 1783.214 & 24.70747 & 23.86073 & 25.19584 & 23.71888 & 24.74856 & 27.51200 & 24.07779 & 25.05954 & 23.59035 & ⋯ & 24.88423 & 25.82598 & 25.34645 & 24.43045 & 24.86846 & 25.69023 & 24.09096 & 26.30264 & 23.32731 & 24.47450\\\\\n\t3 & 1703.339 & 25.25879 & 24.02716 & 25.58849 & 24.19974 & 23.17960 & 22.94108 & 24.93524 & 26.59212 & 24.82688 & ⋯ & 24.81242 & 23.49984 & 23.77126 & 25.85599 & 26.24986 & 24.10192 & 25.87021 & 24.77475 & 25.45029 & 25.55144\\\\\n\t4 & 1746.339 & 23.84787 & 22.78683 & 24.13848 & 25.63093 & 25.95177 & 23.83428 & 24.60844 & 26.06362 & 24.64999 & ⋯ & 24.75678 & 24.56697 & 24.96121 & 24.94210 & 23.60224 & 24.84381 & 22.26402 & 25.77562 & 25.61416 & 27.01919\\\\\n\t5 & 1702.236 & 25.19578 & 25.59331 & 25.28299 & 25.24715 & 26.97867 & 24.12898 & 24.01028 & 23.96775 & 23.89035 & ⋯ & 26.65096 & 23.25509 & 24.62111 & 24.32017 & 22.86842 & 24.76983 & 25.46612 & 23.19955 & 25.62629 & 24.90228\\\\\n\t6 & 1717.660 & 25.03012 & 24.30899 & 24.59657 & 24.27014 & 24.63590 & 26.12535 & 23.59596 & 24.19387 & 23.76208 & ⋯ & 24.72794 & 27.17656 & 26.43641 & 23.97422 & 25.29816 & 24.44403 & 25.20465 & 23.80835 & 25.23509 & 25.67096\\\\\n\\end{tabular}\n",
            "text/plain": [
              "  y        x1       x2       x3       x4       x5       x6       x7      \n",
              "1 1659.259 24.03807 25.44180 24.02499 26.41750 25.81881 25.31629 24.97503\n",
              "2 1783.214 24.70747 23.86073 25.19584 23.71888 24.74856 27.51200 24.07779\n",
              "3 1703.339 25.25879 24.02716 25.58849 24.19974 23.17960 22.94108 24.93524\n",
              "4 1746.339 23.84787 22.78683 24.13848 25.63093 25.95177 23.83428 24.60844\n",
              "5 1702.236 25.19578 25.59331 25.28299 25.24715 26.97867 24.12898 24.01028\n",
              "6 1717.660 25.03012 24.30899 24.59657 24.27014 24.63590 26.12535 23.59596\n",
              "  x8       x9       ⋯ x11      x12      x13      x14      x15      x16     \n",
              "1 24.93603 25.03150 ⋯ 24.27727 24.71805 26.33752 25.70198 26.00762 24.53462\n",
              "2 25.05954 23.59035 ⋯ 24.88423 25.82598 25.34645 24.43045 24.86846 25.69023\n",
              "3 26.59212 24.82688 ⋯ 24.81242 23.49984 23.77126 25.85599 26.24986 24.10192\n",
              "4 26.06362 24.64999 ⋯ 24.75678 24.56697 24.96121 24.94210 23.60224 24.84381\n",
              "5 23.96775 23.89035 ⋯ 26.65096 23.25509 24.62111 24.32017 22.86842 24.76983\n",
              "6 24.19387 23.76208 ⋯ 24.72794 27.17656 26.43641 23.97422 25.29816 24.44403\n",
              "  x17      x18      x19      x20     \n",
              "1 25.63860 25.28678 24.77292 24.77995\n",
              "2 24.09096 26.30264 23.32731 24.47450\n",
              "3 25.87021 24.77475 25.45029 25.55144\n",
              "4 22.26402 25.77562 25.61416 27.01919\n",
              "5 25.46612 23.19955 25.62629 24.90228\n",
              "6 25.20465 23.80835 25.23509 25.67096"
            ]
          },
          "metadata": {}
        },
        {
          "output_type": "display_data",
          "data": {
            "text/html": [
              "<style>\n",
              ".list-inline {list-style: none; margin:0; padding: 0}\n",
              ".list-inline>li {display: inline-block}\n",
              ".list-inline>li:not(:last-child)::after {content: \"\\00b7\"; padding: 0 .5ex}\n",
              "</style>\n",
              "<ol class=list-inline><li>900</li><li>21</li></ol>\n"
            ],
            "text/markdown": "1. 900\n2. 21\n\n\n",
            "text/latex": "\\begin{enumerate*}\n\\item 900\n\\item 21\n\\end{enumerate*}\n",
            "text/plain": [
              "[1] 900  21"
            ]
          },
          "metadata": {}
        },
        {
          "output_type": "display_data",
          "data": {
            "text/html": [
              "<style>\n",
              ".list-inline {list-style: none; margin:0; padding: 0}\n",
              ".list-inline>li {display: inline-block}\n",
              ".list-inline>li:not(:last-child)::after {content: \"\\00b7\"; padding: 0 .5ex}\n",
              "</style>\n",
              "<ol class=list-inline><li>100</li><li>21</li></ol>\n"
            ],
            "text/markdown": "1. 100\n2. 21\n\n\n",
            "text/latex": "\\begin{enumerate*}\n\\item 100\n\\item 21\n\\end{enumerate*}\n",
            "text/plain": [
              "[1] 100  21"
            ]
          },
          "metadata": {}
        }
      ],
      "source": [
        "# WRITE YOUR CODE HERE\n",
        "set.seed(3)\n",
        "\n",
        "p_size <- 20\n",
        "count_beta_is_0s <- 12\n",
        "n_size <- 1000\n",
        "frame_X <- matrix(rnorm(n_size * p_size, sd_x), n_size, p_size)\n",
        "gen_eps <- rnorm(n_size,0,sd_e)\n",
        "beta_20 <- matrix(c(rnorm(p_size-count_beta_is_0s,mean = 10, sd = 5),rep(0, count_beta_is_0s)),p_size, 1)\n",
        "gen_y <- frame_X %*% beta_20 + gen_eps\n",
        "\n",
        "d2 <- as.data.frame(cbind(gen_y, frame_X))\n",
        "colnames(d2) <- c(\"y\",\"x1\", \"x2\", \"x3\", \"x4\", \"x5\", \"x6\", \"x7\", \"x8\", \"x9\", \"x10\",\"x11\", \"x12\", \"x13\", \"x14\", \"x15\", \"x16\", \"x17\", \"x18\", \"x19\", \"x20\")\n",
        "head(d2)\n",
        "\n",
        "test<-sample(1:n_size, 900)\n",
        "\n",
        "d2_test<-d2[test,]\n",
        "dim(d2_test)\n",
        "d2_train<-d2[-test,]\n",
        "dim(d2_train)\n"
      ],
      "id": "3f113879"
    },
    {
      "cell_type": "markdown",
      "metadata": {
        "id": "5886639c"
      },
      "source": [
        "b) Perform best subset selection on the training set, and plot the associated training and test set MSE for the best model of each size."
      ],
      "id": "5886639c"
    },
    {
      "cell_type": "code",
      "execution_count": 35,
      "metadata": {
        "id": "a1dbdf04",
        "vscode": {
          "languageId": "r"
        },
        "colab": {
          "base_uri": "https://localhost:8080/",
          "height": 1000
        },
        "outputId": "075069cb-855e-44ff-903a-2d7ffe636949"
      },
      "outputs": [
        {
          "output_type": "display_data",
          "data": {
            "text/plain": [
              "Subset selection object\n",
              "Call: regsubsets.formula(y ~ ., d2_train, nvmax = 20)\n",
              "20 Variables  (and intercept)\n",
              "    Forced in Forced out\n",
              "x1      FALSE      FALSE\n",
              "x2      FALSE      FALSE\n",
              "x3      FALSE      FALSE\n",
              "x4      FALSE      FALSE\n",
              "x5      FALSE      FALSE\n",
              "x6      FALSE      FALSE\n",
              "x7      FALSE      FALSE\n",
              "x8      FALSE      FALSE\n",
              "x9      FALSE      FALSE\n",
              "x10     FALSE      FALSE\n",
              "x11     FALSE      FALSE\n",
              "x12     FALSE      FALSE\n",
              "x13     FALSE      FALSE\n",
              "x14     FALSE      FALSE\n",
              "x15     FALSE      FALSE\n",
              "x16     FALSE      FALSE\n",
              "x17     FALSE      FALSE\n",
              "x18     FALSE      FALSE\n",
              "x19     FALSE      FALSE\n",
              "x20     FALSE      FALSE\n",
              "1 subsets of each size up to 20\n",
              "Selection Algorithm: exhaustive\n",
              "          x1  x2  x3  x4  x5  x6  x7  x8  x9  x10 x11 x12 x13 x14 x15 x16 x17\n",
              "1  ( 1 )  \" \" \" \" \" \" \" \" \" \" \" \" \" \" \"*\" \" \" \" \" \" \" \" \" \" \" \" \" \" \" \" \" \" \"\n",
              "2  ( 1 )  \" \" \" \" \"*\" \" \" \" \" \" \" \" \" \" \" \" \" \" \" \"*\" \" \" \" \" \" \" \" \" \" \" \" \"\n",
              "3  ( 1 )  \" \" \" \" \"*\" \" \" \" \" \" \" \" \" \"*\" \" \" \" \" \"*\" \" \" \" \" \" \" \" \" \" \" \" \"\n",
              "4  ( 1 )  \" \" \" \" \"*\" \" \" \" \" \"*\" \" \" \"*\" \" \" \" \" \"*\" \" \" \" \" \" \" \" \" \" \" \" \"\n",
              "5  ( 1 )  \"*\" \" \" \"*\" \" \" \" \" \"*\" \" \" \"*\" \" \" \" \" \"*\" \" \" \" \" \" \" \" \" \" \" \" \"\n",
              "6  ( 1 )  \"*\" \" \" \"*\" \" \" \" \" \"*\" \" \" \"*\" \" \" \" \" \"*\" \" \" \" \" \" \" \" \" \" \" \" \"\n",
              "7  ( 1 )  \"*\" \" \" \"*\" \" \" \" \" \"*\" \" \" \"*\" \" \" \" \" \"*\" \" \" \"*\" \" \" \" \" \" \" \" \"\n",
              "8  ( 1 )  \"*\" \" \" \"*\" \" \" \"*\" \"*\" \" \" \"*\" \" \" \" \" \"*\" \" \" \"*\" \" \" \" \" \" \" \" \"\n",
              "9  ( 1 )  \"*\" \" \" \"*\" \"*\" \"*\" \"*\" \" \" \"*\" \" \" \" \" \"*\" \" \" \"*\" \" \" \" \" \" \" \" \"\n",
              "10  ( 1 ) \"*\" \" \" \"*\" \"*\" \"*\" \"*\" \" \" \"*\" \" \" \" \" \"*\" \"*\" \"*\" \" \" \" \" \" \" \" \"\n",
              "11  ( 1 ) \"*\" \" \" \"*\" \"*\" \"*\" \"*\" \"*\" \"*\" \" \" \" \" \"*\" \"*\" \"*\" \" \" \" \" \" \" \" \"\n",
              "12  ( 1 ) \"*\" \" \" \"*\" \"*\" \"*\" \"*\" \"*\" \"*\" \" \" \" \" \"*\" \"*\" \"*\" \"*\" \" \" \" \" \" \"\n",
              "13  ( 1 ) \"*\" \" \" \"*\" \"*\" \"*\" \"*\" \"*\" \"*\" \" \" \" \" \"*\" \"*\" \"*\" \"*\" \" \" \" \" \" \"\n",
              "14  ( 1 ) \"*\" \" \" \"*\" \"*\" \"*\" \"*\" \"*\" \"*\" \" \" \" \" \"*\" \"*\" \"*\" \"*\" \" \" \" \" \" \"\n",
              "15  ( 1 ) \"*\" \" \" \"*\" \"*\" \"*\" \"*\" \"*\" \"*\" \"*\" \" \" \"*\" \"*\" \"*\" \"*\" \" \" \" \" \" \"\n",
              "16  ( 1 ) \"*\" \"*\" \"*\" \"*\" \"*\" \"*\" \"*\" \"*\" \"*\" \" \" \"*\" \"*\" \"*\" \"*\" \" \" \" \" \" \"\n",
              "17  ( 1 ) \"*\" \"*\" \"*\" \"*\" \"*\" \"*\" \"*\" \"*\" \"*\" \"*\" \"*\" \"*\" \"*\" \"*\" \" \" \" \" \" \"\n",
              "18  ( 1 ) \"*\" \"*\" \"*\" \"*\" \"*\" \"*\" \"*\" \"*\" \"*\" \"*\" \"*\" \"*\" \"*\" \"*\" \" \" \" \" \"*\"\n",
              "19  ( 1 ) \"*\" \"*\" \"*\" \"*\" \"*\" \"*\" \"*\" \"*\" \"*\" \"*\" \"*\" \"*\" \"*\" \"*\" \"*\" \" \" \"*\"\n",
              "20  ( 1 ) \"*\" \"*\" \"*\" \"*\" \"*\" \"*\" \"*\" \"*\" \"*\" \"*\" \"*\" \"*\" \"*\" \"*\" \"*\" \"*\" \"*\"\n",
              "          x18 x19 x20\n",
              "1  ( 1 )  \" \" \" \" \" \"\n",
              "2  ( 1 )  \" \" \" \" \" \"\n",
              "3  ( 1 )  \" \" \" \" \" \"\n",
              "4  ( 1 )  \" \" \" \" \" \"\n",
              "5  ( 1 )  \" \" \" \" \" \"\n",
              "6  ( 1 )  \"*\" \" \" \" \"\n",
              "7  ( 1 )  \"*\" \" \" \" \"\n",
              "8  ( 1 )  \"*\" \" \" \" \"\n",
              "9  ( 1 )  \"*\" \" \" \" \"\n",
              "10  ( 1 ) \"*\" \" \" \" \"\n",
              "11  ( 1 ) \"*\" \" \" \" \"\n",
              "12  ( 1 ) \"*\" \" \" \" \"\n",
              "13  ( 1 ) \"*\" \" \" \"*\"\n",
              "14  ( 1 ) \"*\" \"*\" \"*\"\n",
              "15  ( 1 ) \"*\" \"*\" \"*\"\n",
              "16  ( 1 ) \"*\" \"*\" \"*\"\n",
              "17  ( 1 ) \"*\" \"*\" \"*\"\n",
              "18  ( 1 ) \"*\" \"*\" \"*\"\n",
              "19  ( 1 ) \"*\" \"*\" \"*\"\n",
              "20  ( 1 ) \"*\" \"*\" \"*\""
            ]
          },
          "metadata": {}
        },
        {
          "output_type": "stream",
          "name": "stdout",
          "text": [
            "[1] 2\n",
            "[1] 3\n",
            "[1] 4\n",
            "[1] 5\n",
            "[1] 6\n",
            "[1] 7\n",
            "[1] 8\n",
            "[1] 9\n",
            "[1] 10\n",
            "[1] 11\n",
            "[1] 12\n",
            "[1] 13\n",
            "[1] 14\n",
            "[1] 15\n",
            "[1] 16\n",
            "[1] 17\n",
            "[1] 18\n",
            "[1] 19\n",
            "[1] 20\n",
            "[1] 21\n"
          ]
        },
        {
          "output_type": "display_data",
          "data": {
            "text/plain": [
              "plot without title"
            ],
            "image/png": "[encoded data removed]"
          },
          "metadata": {
            "image/png": {
              "width": 420,
              "height": 420
            }
          }
        }
      ],
      "source": [
        "# WRITE YOUR CODE HERE\n",
        "regfit.full = regsubsets(y~., d2_train, nvmax=20)\n",
        "reg.summary = summary(regfit.full)\n",
        "reg.summary\n",
        "\n",
        "train_mse = matrix(data=NA,nrow=length(p_size),ncol=1)\n",
        "test_mse = matrix(data=NA,nrow=length(p_size),ncol=1)\n",
        "count = 1\n",
        "\n",
        "for (num_ps in 1:20){\n",
        "  betas<-coef(regfit.full, num_ps)\n",
        "  #print(betas)\n",
        "  #get included variables\n",
        "  included<-as.numeric(which(reg.summary$outmat[num_ps,]==\"*\"))\n",
        "\n",
        "  #get train x data\n",
        "  x_train<-as.matrix(d2_train[,included+1])\n",
        "\n",
        "  #calc train MSE\n",
        "  train_mse[count]<- mean((d2_train$y-c(predict_train_y<-x_train%*%betas[-1]+betas[1]))^2)\n",
        "\n",
        "  #get test x data\n",
        "  x_test<-as.matrix(d2_test[,included+1])\n",
        "\n",
        "  #calc test MSE\n",
        "  test_mse[count]<- mean((d2_test$y-c(predict_train_y<-x_test%*%betas[-1]+betas[1]))^2)\n",
        "\n",
        "  count <- count + 1\n",
        "  print(count)\n",
        "}\n",
        "\n",
        "\n",
        "output_mse<-data.frame(num_params=1:20, train_mse=train_mse, test_mse=test_mse)\n",
        "ggplot(output_mse, aes(num_params, train_mse)) +\n",
        "  geom_point() +\n",
        "  geom_point(aes(num_params, test_mse), color = \"red\")"
      ],
      "id": "a1dbdf04"
    },
    {
      "cell_type": "markdown",
      "metadata": {
        "id": "24f9d2f1"
      },
      "source": [
        "c) Identify the best model according the test MSE. How does this model compare to the actual model used to simulate the dataset?\n",
        "\n",
        "*Note: If the model identified contains only an intercept or all of the features, then generate a new dataset (i.e. repeat part a with a different random seed) until the test set MSE is minimized for an intermediate model size.*"
      ],
      "id": "24f9d2f1"
    },
    {
      "cell_type": "code",
      "execution_count": 41,
      "metadata": {
        "id": "87db7d52",
        "vscode": {
          "languageId": "r"
        },
        "colab": {
          "base_uri": "https://localhost:8080/",
          "height": 434
        },
        "outputId": "c02173de-12e3-412f-b3ee-427d18ecee6a"
      },
      "outputs": [
        {
          "output_type": "stream",
          "name": "stdout",
          "text": [
            "The model with the best test MSE is the one with: 5 parameters (plus the intercept)."
          ]
        },
        {
          "output_type": "display_data",
          "data": {
            "text/html": [
              "<style>\n",
              ".dl-inline {width: auto; margin:0; padding: 0}\n",
              ".dl-inline>dt, .dl-inline>dd {float: none; width: auto; display: inline-block}\n",
              ".dl-inline>dt::after {content: \":\\0020\"; padding-right: .5ex}\n",
              ".dl-inline>dt:not(:first-of-type) {padding-left: .5ex}\n",
              "</style><dl class=dl-inline><dt>(Intercept)</dt><dd>523.647782935155</dd><dt>x1</dt><dd>7.06048329784551</dd><dt>x3</dt><dd>9.80267299461187</dd><dt>x6</dt><dd>9.97094806169357</dd><dt>x8</dt><dd>11.2119046298208</dd><dt>x11</dt><dd>9.4424303519291</dd></dl>\n"
            ],
            "text/markdown": "(Intercept)\n:   523.647782935155x1\n:   7.06048329784551x3\n:   9.80267299461187x6\n:   9.97094806169357x8\n:   11.2119046298208x11\n:   9.4424303519291\n\n",
            "text/latex": "\\begin{description*}\n\\item[(Intercept)] 523.647782935155\n\\item[x1] 7.06048329784551\n\\item[x3] 9.80267299461187\n\\item[x6] 9.97094806169357\n\\item[x8] 11.2119046298208\n\\item[x11] 9.4424303519291\n\\end{description*}\n",
            "text/plain": [
              "(Intercept)          x1          x3          x6          x8         x11 \n",
              " 523.647783    7.060483    9.802673    9.970948   11.211905    9.442430 "
            ]
          },
          "metadata": {}
        },
        {
          "output_type": "stream",
          "name": "stdout",
          "text": [
            "           [,1]\n",
            " [1,]  9.457472\n",
            " [2,]  6.551035\n",
            " [3,] 10.648700\n",
            " [4,]  4.616911\n",
            " [5,]  7.352204\n",
            " [6,] 15.344970\n",
            " [7,]  1.681919\n",
            " [8,] 13.204474\n",
            " [9,]  0.000000\n",
            "[10,]  0.000000\n",
            "[11,]  0.000000\n",
            "[12,]  0.000000\n",
            "[13,]  0.000000\n",
            "[14,]  0.000000\n",
            "[15,]  0.000000\n",
            "[16,]  0.000000\n",
            "[17,]  0.000000\n",
            "[18,]  0.000000\n",
            "[19,]  0.000000\n",
            "[20,]  0.000000\n"
          ]
        }
      ],
      "source": [
        "# WRITE YOUR CODE HERE\n",
        "\n",
        "cat(\"The model with the best test MSE is the one with:\", which(test_mse==min(test_mse)), \"parameters (plus the intercept).\")\n",
        "\n",
        "coef(regfit.full, which(test_mse==min(test_mse)))\n",
        "\n",
        "print(beta_20)"
      ],
      "id": "87db7d52"
    },
    {
      "cell_type": "markdown",
      "metadata": {
        "id": "894b4503"
      },
      "source": [
        "> *Write your response here*\n",
        "> The model with the best test MSE is:\n",
        "\n",
        "(Intercept): 523.647782935155\n",
        "\n",
        "x1: 7.06048329784551\n",
        "\n",
        "x3: 9.80267299461187\n",
        "\n",
        "x6: 9.97094806169357\n",
        "\n",
        "x8: 11.2119046298208\n",
        "\n",
        "x11: 9.4424303519291\n",
        "\n",
        "It gets pretty close to the actual model used to simulate the dataset in that it includes mostly only variables from x1-x8 (which the the only non-zero variables). It correctly includes 4/8 of those variables, and the parameter estimates are (pretty) close to the original values. Although I didn't use an intercept to simulate the data, but the intercept parameter estimate is quite large, and x11 was also included. Also x11 got included even though its true value is 0."
      ],
      "id": "894b4503"
    },
    {
      "cell_type": "markdown",
      "metadata": {
        "id": "35b974f0"
      },
      "source": [
        "**DUE:** 5pm EST, April 8, 2024"
      ],
      "id": "35b974f0"
    },
    {
      "cell_type": "markdown",
      "metadata": {
        "id": "957a72c5"
      },
      "source": [
        "**IMPORTANT** Did you collaborate with anyone on this assignment? If so, list their names here.\n",
        "> *Someone's Name*"
      ],
      "id": "957a72c5"
    }
  ],
  "metadata": {
    "colab": {
      "provenance": []
    },
    "kernelspec": {
      "display_name": "R",
      "language": "R",
      "name": "ir"
    },
    "language_info": {
      "codemirror_mode": "r",
      "file_extension": ".r",
      "mimetype": "text/x-r-source",
      "name": "R",
      "pygments_lexer": "r",
      "version": "4.2.0"
    }
  },
  "nbformat": 4,
  "nbformat_minor": 5
}